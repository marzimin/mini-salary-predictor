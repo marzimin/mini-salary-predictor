{
 "cells": [
  {
   "cell_type": "markdown",
   "metadata": {
    "focus": false,
    "id": "69b9a648-bcc7-490d-9f9b-ea244d156bd6"
   },
   "source": [
    "# Mini Project - Predicting UK Data Scientist Salaries\n",
    "\n",
    "- Part 1: Web Scraping and Data Cleaning"
   ]
  },
  {
   "cell_type": "markdown",
   "metadata": {},
   "source": [
    "### Business Case Overview\n",
    "\n",
    "You're working as a data scientist for a contracting firm that's rapidly expanding. Now that they have their most valuable employee (you!), they need to leverage data to win more contracts. Your firm offers technology and scientific solutions and wants to be competitive in the hiring market. Your principal wants you to\n",
    "\n",
    "   - determine the industry factors that are most important in predicting the salary amounts for these data.\n",
    "\n",
    "To limit the scope, your principal has suggested that you *focus on data-related job postings*, e.g. data scientist, data analyst, research scientist, business intelligence, and any others you might think of. You may also want to decrease the scope by *limiting your search to a single region.*\n",
    "\n",
    "Hint: Aggregators like [Indeed.com](https://www.indeed.com) regularly pool job postings from a variety of markets and industries.\n",
    "\n",
    "**Goal:** Scrape your own data from a job aggregation tool like Indeed.com in order to collect the data to best answer this question.\n",
    "\n",
    "---\n",
    "\n",
    "### Directions\n",
    "\n",
    "In this project you will be leveraging a variety of skills. The first will be to use the web-scraping and/or API techniques you've learned to collect data on data jobs from Indeed.com or another aggregator. Once you have collected and cleaned the data, you will use it to address the question above."
   ]
  },
  {
   "cell_type": "markdown",
   "metadata": {},
   "source": [
    "### Factors that impact salary\n",
    "\n",
    "To predict salary the most appropriate approach would be a regression model.\n",
    "Here instead we just want to estimate which factors (like location, job title, job level, industry sector) lead to high or low salary and work with a classification model. To do so, split the salary into two groups of high and low salary, for example by choosing the median salary as a threshold (in principle you could choose any single or multiple splitting points).\n",
    "\n",
    "Use all the skills you have learned so far to build a predictive model.\n",
    "Whatever you decide to use, the most important thing is to justify your choices and interpret your results. *Communication of your process is key.* Note that most listings **DO NOT** come with salary information. You'll need to be able to extrapolate or predict the expected salaries for these listings."
   ]
  },
  {
   "cell_type": "markdown",
   "metadata": {
    "focus": false,
    "id": "a948d79c-5527-4c0d-ab23-f5d43ce72056"
   },
   "source": [
    "### Scraping job listings from Indeed.com"
   ]
  },
  {
   "cell_type": "markdown",
   "metadata": {
    "focus": true,
    "id": "7203e0c9-e437-4802-a6ad-7dc464f94436"
   },
   "source": [
    "We will be scraping job listings from Indeed.com using BeautifulSoup. Luckily, Indeed.com is a simple text page where we can easily find relevant entries.\n",
    "\n",
    "First, look at the source of an Indeed.com page: (http://www.indeed.com/jobs?q=data+scientist+%2420%2C000&l=New+York&start=10\").\n",
    "\n",
    "Notice, each job listing is underneath a `div` tag with a class name of `result`. We can use BeautifulSoup to extract those. "
   ]
  },
  {
   "cell_type": "markdown",
   "metadata": {
    "focus": false,
    "id": "9732c901-ae26-4160-8376-42e22dd327df"
   },
   "source": [
    "#### Setup a request (using `requests`) to the URL below. Use BeautifulSoup to parse the page and extract all results (HINT: Look for div tags with class name result)\n",
    "\n",
    "The URL here has many query parameters:\n",
    "\n",
    "- `q` for the job search\n",
    "- This is followed by \"+20,000\" to return results with salaries (or expected salaries >$20,000)\n",
    "- `l` for a location \n",
    "- `start` for what result number to start on"
   ]
  },
  {
   "cell_type": "code",
   "execution_count": 1,
   "metadata": {
    "focus": false,
    "id": "e915023e-6b0d-4982-af2a-b1e0355f4927"
   },
   "outputs": [],
   "source": [
    "# Change URL below:\n",
    "\n",
    "# Target min 2000 jobs with salaries London & min 2000 each for rest of UK cities\n",
    "\n",
    "URL = \"http://www.indeed.com/jobs?q=data+scientist+%2420%2C000&l=New+York&start=10\""
   ]
  },
  {
   "cell_type": "code",
   "execution_count": 567,
   "metadata": {
    "focus": false,
    "id": "2efefc73-064a-482d-b3b5-ddf5508cb4ec"
   },
   "outputs": [],
   "source": [
    "import requests\n",
    "import urllib.request\n",
    "import bs4\n",
    "from bs4 import BeautifulSoup\n",
    "import time\n",
    "from tqdm import tqdm # a progress bar\n",
    "\n",
    "import numpy as np\n",
    "import pandas as pd\n",
    "import matplotlib.pyplot as plt\n",
    "import seaborn as sns\n",
    "plt.style.use('fivethirtyeight')\n",
    "\n",
    "%config InlineBackend.figure_format = 'retina'\n",
    "%matplotlib inline"
   ]
  },
  {
   "cell_type": "markdown",
   "metadata": {},
   "source": [
    "### Test for multipage:\n",
    "\n",
    "- edit range in for loop below:"
   ]
  },
  {
   "cell_type": "code",
   "execution_count": 4,
   "metadata": {},
   "outputs": [
    {
     "name": "stderr",
     "output_type": "stream",
     "text": [
      "100%|██████████| 5/5 [00:23<00:00,  4.61s/it]\n"
     ]
    }
   ],
   "source": [
    "# Test for multipage:\n",
    "\n",
    "URL = \"https://www.indeed.co.uk/jobs?q=Data+Scientist&l=London&rqf=1&start=\"\n",
    "\n",
    "job_titles = []\n",
    "companies = []\n",
    "salaries = []\n",
    "locations = []\n",
    "ratings = []\n",
    "\n",
    "# Preliminary test for 5 pages:\n",
    "\n",
    "for page in tqdm(range(10, 60, 10)):\n",
    "    \n",
    "    time.sleep(3)\n",
    "    \n",
    "    r = requests.get(URL.format(page))\n",
    "    soup = BeautifulSoup(r.text, 'html.parser')\n",
    "    listings = soup.find_all('div', attrs={'class': 'jobsearch-SerpJobCard'})\n",
    "    \n",
    "    for listing in listings:\n",
    "        \n",
    "            try:\n",
    "                job_titles.append(listing.find('a', target='_blank').text.strip())\n",
    "            except:\n",
    "                job_titles.append(np.nan)\n",
    "        \n",
    "            try:\n",
    "                companies.append(listing.find('span', class_='company').text.strip())\n",
    "            except:\n",
    "                companies.append(np.nan)\n",
    "        \n",
    "            try:\n",
    "                salaries.append(listing.find('div', class_='salarySnippet salarySnippetDemphasizeholisticSalary').text.strip())\n",
    "            except:\n",
    "                salaries.append(np.nan)\n",
    "        \n",
    "            try:\n",
    "                locations.append(listing.find('span', class_='location accessible-contrast-color-location').text.strip())\n",
    "            except:\n",
    "                locations.append(np.nan)\n",
    "\n",
    "            try:\n",
    "                ratings.append(listing.find('span', class_='ratingsDisplay').text.strip())\n",
    "            except:\n",
    "                ratings.append(np.nan)"
   ]
  },
  {
   "cell_type": "code",
   "execution_count": 5,
   "metadata": {
    "scrolled": true
   },
   "outputs": [
    {
     "data": {
      "text/plain": [
       "Data Scientist                                        37\n",
       "Junior Data Scientist                                  5\n",
       "Junior Data Scientist Placement                        5\n",
       "Anti-Fraud Bribery and Corruption Data Scientist       5\n",
       "Graduate Program - Associate Data Scientist            5\n",
       "Artificial Intelligence – Data Scientist               5\n",
       "Higher Statistical Data Scientist - across the GSS     4\n",
       "Product Data Scientist                                 4\n",
       "dtype: int64"
      ]
     },
     "execution_count": 5,
     "metadata": {},
     "output_type": "execute_result"
    }
   ],
   "source": [
    "pd.Series(job_titles).value_counts()"
   ]
  },
  {
   "cell_type": "code",
   "execution_count": 6,
   "metadata": {},
   "outputs": [
    {
     "data": {
      "text/plain": [
       "56"
      ]
     },
     "execution_count": 6,
     "metadata": {},
     "output_type": "execute_result"
    }
   ],
   "source": [
    "pd.Series(salaries).isnull().sum()"
   ]
  },
  {
   "cell_type": "markdown",
   "metadata": {
    "focus": false,
    "id": "bb0b866a-26a7-45e9-8084-5a0f90eb4b3e"
   },
   "source": [
    "Let's look at one result more closely. A single `result` looks like\n",
    "\n",
    "```\n",
    "<div class=\" row result\" data-jk=\"2480d203f7e97210\" data-tn-component=\"organicJob\" id=\"p_2480d203f7e97210\" itemscope=\"\" itemtype=\"http://schema.org/JobPosting\">\n",
    "<h2 class=\"jobtitle\" id=\"jl_2480d203f7e97210\">\n",
    "<a class=\"turnstileLink\" data-tn-element=\"jobTitle\" onmousedown=\"return rclk(this,jobmap[0],1);\" rel=\"nofollow\" target=\"_blank\" title=\"AVP/Quantitative Analyst\">AVP/Quantitative Analyst</a>\n",
    "</h2>\n",
    "<span class=\"company\" itemprop=\"hiringOrganization\" itemtype=\"http://schema.org/Organization\">\n",
    "<span itemprop=\"name\">\n",
    "<a href=\"/cmp/Alliancebernstein?from=SERP&amp;campaignid=serp-linkcompanyname&amp;fromjk=2480d203f7e97210&amp;jcid=b374f2a780e04789\" target=\"_blank\">\n",
    "    AllianceBernstein</a></span>\n",
    "</span>\n",
    "<tr>\n",
    "<td class=\"snip\">\n",
    "<nobr>$117,500 - $127,500 a year</nobr>\n",
    "<div>\n",
    "<span class=\"summary\" itemprop=\"description\">\n",
    "C onduct quantitative and statistical research as well as portfolio management for various investment portfolios. Collaborate with Quantitative Analysts and</span>\n",
    "</div>\n",
    "</div>\n",
    "</td>\n",
    "</tr>\n",
    "</table>\n",
    "</div>\n",
    "```\n",
    "\n",
    "While this has some more verbose elements removed, we can see that there is some structure to the above:\n",
    "- The salary is in a `span` with `class='salaryText'`.\n",
    "- The title of a job is in a link with class set to `jobtitle` and a `data-tn-element='jobTitle'`.  \n",
    "- The location is set in a `span` with `class='location'`. \n",
    "- The company is set in a `span` with `class='company'`. \n",
    "- Decide which other components could be relevant, for example the region or the summary of the job advert."
   ]
  },
  {
   "cell_type": "markdown",
   "metadata": {
    "focus": false,
    "id": "f1eddb90-4ba8-483c-a229-77e93aa53119"
   },
   "source": [
    "### Write 4 functions to extract each item: location, company, job, and salary.\n",
    "\n",
    "Example: \n",
    "```python\n",
    "def extract_location_from_result(result):\n",
    "    return result.find ...\n",
    "```\n",
    "\n",
    "\n",
    "- **Make sure these functions are robust and can handle cases where the data/field may not be available.**\n",
    "    - Remember to check if a field is empty or `None` for attempting to call methods on it.\n",
    "    - Remember to use `try/except` if you anticipate errors.\n",
    "- **Test** the functions on the results above and simple examples."
   ]
  },
  {
   "cell_type": "markdown",
   "metadata": {},
   "source": [
    "- Save them as a list of lists"
   ]
  },
  {
   "cell_type": "markdown",
   "metadata": {},
   "source": [
    "### Change the URL slightly for better 'parameters'\n",
    "\n",
    "\n",
    "Consider:\n",
    "- Search term could widen to include 'Data Analyst', 'Data Engineer' or 'ML Engineer'\n",
    "- Limit to full & permanent jobs\n",
    "- Try to get pages with more declared salaries\n",
    "- Edit area/radius range for London - not to small that it limits results, not too large in case of overlaps with other cities"
   ]
  },
  {
   "cell_type": "code",
   "execution_count": 8,
   "metadata": {},
   "outputs": [
    {
     "data": {
      "text/plain": [
       "'https://www.indeed.co.uk/jobs?q=%28Data+or+Scientist+or+Data+or+Analyst+or+Data+or+Engineer+or+Machine+or+Learning+or+Engineer%29+£20%2C000%2B&l=London&radius=50&jt=fulltime&limit=50&start={}'"
      ]
     },
     "execution_count": 8,
     "metadata": {},
     "output_type": "execute_result"
    }
   ],
   "source": [
    "# More precise URL format for London\n",
    "# 50 results per page\n",
    "\n",
    "URL_LDN = 'https://www.indeed.co.uk/jobs?q=%28Data+or+Scientist+or+Data+or+Analyst+or+Data+or+Engineer+or+Machine+or+Learning+or+Engineer%29+£20%2C000%2B&l=London&radius=50&jt=fulltime&limit=50&start={}'\n",
    "URL_LDN"
   ]
  },
  {
   "cell_type": "code",
   "execution_count": 9,
   "metadata": {},
   "outputs": [
    {
     "data": {
      "text/plain": [
       "'https://www.indeed.com/jobs?q=%28Data+or+Scientist+or+Data+or+Analyst+or+Data+or+Engineer+or+Machine+or+Learning+or+Engineer%29+%2430%2C000%2B&l=New+York+City&radius=50&jt=fulltime&explvl=entry_level&limit=50&start={}'"
      ]
     },
     "execution_count": 9,
     "metadata": {},
     "output_type": "execute_result"
    }
   ],
   "source": [
    "# Secondary URL format for NYC to test:\n",
    "# Same format as London\n",
    "# US site allows me to specify additional parameter for entry level jobs:\n",
    "\n",
    "URL_NYC = 'https://www.indeed.com/jobs?q=%28Data+or+Scientist+or+Data+or+Analyst+or+Data+or+Engineer+or+Machine+or+Learning+or+Engineer%29+%2430%2C000%2B&l=New+York+City&radius=50&jt=fulltime&explvl=entry_level&limit=50&start={}'\n",
    "URL_NYC"
   ]
  },
  {
   "cell_type": "markdown",
   "metadata": {},
   "source": [
    "### Job Titles"
   ]
  },
  {
   "cell_type": "code",
   "execution_count": 10,
   "metadata": {},
   "outputs": [],
   "source": [
    "# Job title (singular - single use function specific to Indeed website structure):\n",
    "\n",
    "def extract_job_title(listing):\n",
    "    try:\n",
    "        job_title = listing.find('a', attrs={'target': '_blank'}).text.strip()\n",
    "    except:\n",
    "        job_title = 'None'\n",
    "    return job_title"
   ]
  },
  {
   "cell_type": "code",
   "execution_count": 11,
   "metadata": {
    "scrolled": true
   },
   "outputs": [],
   "source": [
    "# Full Job Titles function:\n",
    "# Test formatting (only applicable to Indeed website structure):\n",
    "\n",
    "\n",
    "job_titles_full = []\n",
    "\n",
    "\n",
    "# 5 pages, 250 results default to test\n",
    "# At this point, URL needs to be specific to one country only\n",
    "\n",
    "def extract_all_jobtitles(URL, max_page=100):\n",
    "        \n",
    "        job_titles_full = []\n",
    "        \n",
    "        # edited search terms to list 50 results per page:\n",
    "        for page in tqdm(range(0, max_page, 50)):\n",
    "            \n",
    "            # random seconds per iteration\n",
    "            time.sleep(np.abs(np.random.normal(loc=3, scale=0.5)))\n",
    "            \n",
    "            r = requests.get(URL.format(page))\n",
    "            soup = BeautifulSoup(r.text, 'html.parser')\n",
    "            listings = soup.find_all('div', attrs={'class': 'jobsearch-SerpJobCard'})\n",
    "\n",
    "            for listing in listings:\n",
    "                \n",
    "                job_titles_full.append(extract_job_title(listing))\n",
    "    \n",
    "        return job_titles_full "
   ]
  },
  {
   "cell_type": "code",
   "execution_count": 12,
   "metadata": {
    "scrolled": false
   },
   "outputs": [
    {
     "name": "stderr",
     "output_type": "stream",
     "text": [
      "100%|██████████| 2/2 [00:10<00:00,  5.50s/it]\n"
     ]
    },
    {
     "data": {
      "text/plain": [
       "['Data and Research Analyst',\n",
       " 'Graduate Program - Associate Data Scientist',\n",
       " 'Data Scientist',\n",
       " 'Data Analyst – Content & Media',\n",
       " 'Machine Learning Engineer',\n",
       " 'Data Analyst',\n",
       " 'NHS Test and Trace - Data Privacy Analyst',\n",
       " 'Machine Learning Engineer - Search and Recommendations',\n",
       " 'Data and Reporting Analyst',\n",
       " 'Data Entry Operator(UW-9K8754)']"
      ]
     },
     "execution_count": 12,
     "metadata": {},
     "output_type": "execute_result"
    }
   ],
   "source": [
    "# London Test\n",
    "\n",
    "ldn_job_titles = extract_all_jobtitles(URL_LDN)\n",
    "ldn_job_titles[:10]"
   ]
  },
  {
   "cell_type": "code",
   "execution_count": 13,
   "metadata": {},
   "outputs": [
    {
     "data": {
      "text/plain": [
       "100"
      ]
     },
     "execution_count": 13,
     "metadata": {},
     "output_type": "execute_result"
    }
   ],
   "source": [
    "len(ldn_job_titles)"
   ]
  },
  {
   "cell_type": "code",
   "execution_count": 14,
   "metadata": {
    "scrolled": true
   },
   "outputs": [
    {
     "name": "stderr",
     "output_type": "stream",
     "text": [
      "100%|██████████| 2/2 [00:10<00:00,  5.16s/it]\n"
     ]
    },
    {
     "data": {
      "text/plain": [
       "['Data Scientist',\n",
       " 'Data Scientist',\n",
       " 'Data Analyst',\n",
       " 'Healthcare Data Scientist',\n",
       " 'Data Scientist',\n",
       " 'Data Scientist',\n",
       " 'Analyst, Data and Analysis',\n",
       " 'Data Analyst',\n",
       " 'Data Scientist',\n",
       " 'Data Analyst']"
      ]
     },
     "execution_count": 14,
     "metadata": {},
     "output_type": "execute_result"
    }
   ],
   "source": [
    "# NYC Test:\n",
    "\n",
    "nyc_job_titles = extract_all_jobtitles(URL_NYC)\n",
    "nyc_job_titles[:10]"
   ]
  },
  {
   "cell_type": "code",
   "execution_count": 15,
   "metadata": {},
   "outputs": [
    {
     "data": {
      "text/plain": [
       "100"
      ]
     },
     "execution_count": 15,
     "metadata": {},
     "output_type": "execute_result"
    }
   ],
   "source": [
    "len(nyc_job_titles)"
   ]
  },
  {
   "cell_type": "markdown",
   "metadata": {},
   "source": [
    "### Company Names"
   ]
  },
  {
   "cell_type": "code",
   "execution_count": 16,
   "metadata": {},
   "outputs": [],
   "source": [
    "# Company Names - Consider multi try/except:\n",
    "\n",
    "\n",
    "def extract_company_name(listing):\n",
    "    try:\n",
    "        company = listing.find('span', attrs={'class': 'company'}).text.strip()\n",
    "    except:\n",
    "        try:\n",
    "            company = listing.find('a', attrs={'data-tn-element': 'companyName', \n",
    "                                               'class': 'turnstileLink',\n",
    "                                               'target': '_blank'}).text.strip()\n",
    "        except:\n",
    "            company = 'None'\n",
    "    return company"
   ]
  },
  {
   "cell_type": "code",
   "execution_count": 17,
   "metadata": {},
   "outputs": [],
   "source": [
    "# Full Company Names function:\n",
    "\n",
    "\n",
    "def extract_all_companies(URL, max_page=100):\n",
    "        \n",
    "        companies_full = []\n",
    "        \n",
    "        # edited search terms to list 50 results per page:\n",
    "        for page in tqdm(range(0, max_page, 50)):\n",
    "            \n",
    "            # random seconds per iteration\n",
    "            time.sleep(np.abs(np.random.normal(loc=3, scale=0.5)))\n",
    "            \n",
    "            r = requests.get(URL.format(page))\n",
    "            soup = BeautifulSoup(r.text, 'html.parser')\n",
    "            listings = soup.find_all('div', attrs={'class': 'jobsearch-SerpJobCard'})\n",
    "\n",
    "            for listing in listings:\n",
    "                \n",
    "                companies_full.append(extract_company_name(listing))\n",
    "    \n",
    "        return companies_full"
   ]
  },
  {
   "cell_type": "code",
   "execution_count": 18,
   "metadata": {
    "scrolled": true
   },
   "outputs": [
    {
     "name": "stderr",
     "output_type": "stream",
     "text": [
      "100%|██████████| 2/2 [00:12<00:00,  6.16s/it]\n"
     ]
    },
    {
     "data": {
      "text/plain": [
       "['Cancer Research UK',\n",
       " 'RELX Group',\n",
       " 'NHS Midlands and Lancashire Commissioning Support...',\n",
       " 'TalentPool',\n",
       " 'IG Group',\n",
       " 'Central London Community Healthcare NHS Trust',\n",
       " 'UK Government - Department of Health and Social Ca...',\n",
       " 'Twitter',\n",
       " 'Cancer Research UK',\n",
       " 'Binzagr Group']"
      ]
     },
     "execution_count": 18,
     "metadata": {},
     "output_type": "execute_result"
    }
   ],
   "source": [
    "# Test UK:\n",
    "\n",
    "ldn_companies = extract_all_companies(URL_LDN)\n",
    "ldn_companies[:10]"
   ]
  },
  {
   "cell_type": "code",
   "execution_count": 19,
   "metadata": {},
   "outputs": [
    {
     "data": {
      "text/plain": [
       "100"
      ]
     },
     "execution_count": 19,
     "metadata": {},
     "output_type": "execute_result"
    }
   ],
   "source": [
    "len(ldn_companies)"
   ]
  },
  {
   "cell_type": "markdown",
   "metadata": {},
   "source": [
    "### Salaries"
   ]
  },
  {
   "cell_type": "code",
   "execution_count": 20,
   "metadata": {},
   "outputs": [],
   "source": [
    "# Salaries - multi try/except:\n",
    "# Numerical & target col - be more thorough here\n",
    "\n",
    "def extract_salary(listing):\n",
    "    try:\n",
    "        salary = listing.find('div', attrs={'class': 'salarySnippet salarySnippetDemphasizeholisticSalary'}).text.strip()\n",
    "    except:\n",
    "        try:\n",
    "            salary = listing.find('div', attrs={'class': 'salarySnippet holisticSalary'}).text.strip()\n",
    "        except:\n",
    "            try:\n",
    "                salary = listing.find('span', attrs={'class': 'salary no-wrap'}).text.strip()\n",
    "            except:\n",
    "                try:\n",
    "                    salary = listing.find('span', attrs={'class': 'salaryText'}).text.strip()\n",
    "                except:\n",
    "                    salary = np.nan\n",
    "    return salary"
   ]
  },
  {
   "cell_type": "code",
   "execution_count": 21,
   "metadata": {},
   "outputs": [],
   "source": [
    "# Full Salaries function:\n",
    "\n",
    "def extract_all_salaries(URL, max_page=100):\n",
    "        \n",
    "        salaries_full = []\n",
    "        \n",
    "        # edited search terms to list 50 results per page:\n",
    "        for page in tqdm(range(0, max_page, 50)):\n",
    "            \n",
    "            # random seconds per iteration\n",
    "            time.sleep(np.abs(np.random.normal(loc=3, scale=0.5)))\n",
    "            \n",
    "            r = requests.get(URL.format(page))\n",
    "            soup = BeautifulSoup(r.text, 'html.parser')\n",
    "            listings = soup.find_all('div', attrs={'class': 'jobsearch-SerpJobCard'})\n",
    "\n",
    "            for listing in listings:\n",
    "                \n",
    "                salaries_full.append(extract_salary(listing))\n",
    "    \n",
    "        return salaries_full"
   ]
  },
  {
   "cell_type": "code",
   "execution_count": 22,
   "metadata": {
    "scrolled": true
   },
   "outputs": [
    {
     "name": "stderr",
     "output_type": "stream",
     "text": [
      "100%|██████████| 2/2 [00:11<00:00,  5.56s/it]\n"
     ]
    },
    {
     "data": {
      "text/plain": [
       "[nan, nan, nan, nan, nan, nan, nan, nan, nan, nan]"
      ]
     },
     "execution_count": 22,
     "metadata": {},
     "output_type": "execute_result"
    }
   ],
   "source": [
    "# Test NYC\n",
    "\n",
    "nyc_salaries = extract_all_salaries(URL_NYC)\n",
    "nyc_salaries[:10]"
   ]
  },
  {
   "cell_type": "code",
   "execution_count": 23,
   "metadata": {
    "scrolled": false
   },
   "outputs": [
    {
     "data": {
      "text/plain": [
       "$25 - $35 an hour           1\n",
       "$32,520 - $42,191 a year    1\n",
       "$18 an hour                 1\n",
       "$54,100 - $62,215 a year    1\n",
       "$64,140 - $77,609 a year    1\n",
       "$54,100 - $83,981 a year    1\n",
       "$32,260 - $39,028 a year    1\n",
       "$35,000 - $55,000 a year    1\n",
       "$65,000 a year              1\n",
       "$35.24 an hour              1\n",
       "$18.25 an hour              1\n",
       "dtype: int64"
      ]
     },
     "execution_count": 23,
     "metadata": {},
     "output_type": "execute_result"
    }
   ],
   "source": [
    "# Not too good\n",
    "# Salaries are in ranges and different units (e.g. some on hourly basis)\n",
    "\n",
    "nyc_salaries = pd.Series(nyc_salaries)\n",
    "nyc_salaries.value_counts()"
   ]
  },
  {
   "cell_type": "markdown",
   "metadata": {},
   "source": [
    "### Salary Cleaning"
   ]
  },
  {
   "cell_type": "markdown",
   "metadata": {},
   "source": [
    "- Turn all below to function that can be reused later"
   ]
  },
  {
   "cell_type": "code",
   "execution_count": 24,
   "metadata": {},
   "outputs": [],
   "source": [
    "# still needs to convert tuple to int & average the lower/upper values:\n",
    "\n",
    "def salary_cleaner(col):\n",
    "    col = col.dropna()\n",
    "    mask = col.str.contains(\"a year\")\n",
    "    col = col[mask]\n",
    "    col = col.replace(\"\"\"[^0-9\\.-]\"\"\", '', regex=True)\n",
    "    col = col.str.split('-')\n",
    "    col = col.apply(lambda x: tuple(x) if isinstance(x, list) else x)\n",
    "    \n",
    "    \n",
    "    return col\n"
   ]
  },
  {
   "cell_type": "code",
   "execution_count": 25,
   "metadata": {},
   "outputs": [
    {
     "data": {
      "text/plain": [
       "16    (54100, 83981)\n",
       "18    (54100, 62215)\n",
       "38    (32520, 42191)\n",
       "58    (64140, 77609)\n",
       "80    (35000, 55000)\n",
       "81    (32260, 39028)\n",
       "82          (65000,)\n",
       "dtype: object"
      ]
     },
     "execution_count": 25,
     "metadata": {},
     "output_type": "execute_result"
    }
   ],
   "source": [
    "nyc_salaries_cln = salary_cleaner(nyc_salaries)\n",
    "nyc_salaries_cln\n"
   ]
  },
  {
   "cell_type": "code",
   "execution_count": 26,
   "metadata": {},
   "outputs": [],
   "source": [
    "# Convert to int and avg function ((lower + upper) / 2):"
   ]
  },
  {
   "cell_type": "markdown",
   "metadata": {},
   "source": [
    "### Locations"
   ]
  },
  {
   "cell_type": "markdown",
   "metadata": {},
   "source": [
    "- In full function - add city col to deal with this"
   ]
  },
  {
   "cell_type": "code",
   "execution_count": 27,
   "metadata": {},
   "outputs": [],
   "source": [
    "# Locations - multi try/except:\n",
    "\n",
    "def extract_location(listing):\n",
    "    try:\n",
    "        location = listing.find('span', attrs={'class': 'location accessible-contrast-color-location'}).text.strip()\n",
    "    except:\n",
    "        location = 'None'\n",
    "        \n",
    "    return location"
   ]
  },
  {
   "cell_type": "code",
   "execution_count": 28,
   "metadata": {},
   "outputs": [],
   "source": [
    "# Full Locations function:\n",
    "\n",
    "def extract_all_locations(URL, max_page=100):\n",
    "        \n",
    "        locations_full = []\n",
    "        \n",
    "        # edited search terms to list 50 results per page:\n",
    "        for page in tqdm(range(0, max_page, 50)):\n",
    "            \n",
    "            # random seconds per iteration\n",
    "            time.sleep(np.abs(np.random.normal(loc=3, scale=0.5)))\n",
    "            \n",
    "            r = requests.get(URL.format(page))\n",
    "            soup = BeautifulSoup(r.text, 'html.parser')\n",
    "            listings = soup.find_all('div', attrs={'class': 'jobsearch-SerpJobCard'})\n",
    "\n",
    "            for listing in listings:\n",
    "                \n",
    "                locations_full.append(extract_location(listing))\n",
    "    \n",
    "        return locations_full"
   ]
  },
  {
   "cell_type": "code",
   "execution_count": 29,
   "metadata": {
    "scrolled": true
   },
   "outputs": [
    {
     "name": "stderr",
     "output_type": "stream",
     "text": [
      "100%|██████████| 2/2 [00:12<00:00,  6.24s/it]\n"
     ]
    },
    {
     "data": {
      "text/plain": [
       "['Stratford',\n",
       " 'London',\n",
       " 'London SE1 6LH',\n",
       " 'London EC1R 4RB',\n",
       " 'London',\n",
       " 'London SW1P 2PF',\n",
       " 'London',\n",
       " 'London',\n",
       " 'Stratford',\n",
       " 'London']"
      ]
     },
     "execution_count": 29,
     "metadata": {},
     "output_type": "execute_result"
    }
   ],
   "source": [
    "# Test (UK)\n",
    "# Not all exactly London, will require cleaning\n",
    "\n",
    "ldn_locations = extract_all_locations(URL_LDN)\n",
    "ldn_locations[:10]"
   ]
  },
  {
   "cell_type": "code",
   "execution_count": 30,
   "metadata": {
    "scrolled": true
   },
   "outputs": [
    {
     "data": {
      "text/plain": [
       "100"
      ]
     },
     "execution_count": 30,
     "metadata": {},
     "output_type": "execute_result"
    }
   ],
   "source": [
    "len(ldn_locations)"
   ]
  },
  {
   "cell_type": "markdown",
   "metadata": {},
   "source": [
    "### Website Links (bonus)"
   ]
  },
  {
   "cell_type": "code",
   "execution_count": 31,
   "metadata": {},
   "outputs": [],
   "source": [
    "# Website Links - multi try/except:\n",
    "\n",
    "def extract_link(listing):\n",
    "    try:\n",
    "        tag = listing.find('a', href=True)\n",
    "        link = tag.get('href')\n",
    "\n",
    "    except:\n",
    "        link = 'None'\n",
    "        \n",
    "    return link"
   ]
  },
  {
   "cell_type": "code",
   "execution_count": 32,
   "metadata": {},
   "outputs": [],
   "source": [
    "# Full website links function:\n",
    "\n",
    "def extract_all_links(URL, max_page=100):\n",
    "        \n",
    "        links_full = []\n",
    "        \n",
    "        # edited search terms to list 50 results per page:\n",
    "        for page in tqdm(range(0, max_page, 50)):\n",
    "            \n",
    "            # random seconds per iteration\n",
    "            time.sleep(np.abs(np.random.normal(loc=3, scale=0.5)))\n",
    "            \n",
    "            r = requests.get(URL.format(page))\n",
    "            soup = BeautifulSoup(r.text, 'lxml')\n",
    "            listings = soup.find_all('div', attrs={'class': 'jobsearch-SerpJobCard'})\n",
    "\n",
    "            for listing in listings:\n",
    "                \n",
    "                links_full.append(extract_link(listing))\n",
    "    \n",
    "        return links_full\n"
   ]
  },
  {
   "cell_type": "code",
   "execution_count": 33,
   "metadata": {
    "scrolled": true
   },
   "outputs": [
    {
     "name": "stderr",
     "output_type": "stream",
     "text": [
      "100%|██████████| 2/2 [00:10<00:00,  5.24s/it]\n"
     ]
    },
    {
     "data": {
      "text/plain": [
       "['/rc/clk?jk=d7db13cc30ffa29e&fccid=18d58239dbfc6097&vjs=3',\n",
       " '/rc/clk?jk=21035cf0ea38aabc&fccid=13278012efd32c2a&vjs=3',\n",
       " '/rc/clk?jk=d7060a555b8cc761&fccid=e3c82d82eecba317&vjs=3',\n",
       " '/rc/clk?jk=6720cf1c03a1c426&fccid=2c23f29fcd5c78da&vjs=3',\n",
       " '/rc/clk?jk=1636faa0308fd08f&fccid=1577085fc2290983&vjs=3',\n",
       " '/rc/clk?jk=d492b2efea2071c5&fccid=2187d710fd27cd06&vjs=3',\n",
       " '/rc/clk?jk=514bca6873f60673&fccid=274e15dee00b5237&vjs=3',\n",
       " '/rc/clk?jk=b9b558dad7ef068a&fccid=50d9950288add6cc&vjs=3',\n",
       " '/rc/clk?jk=40b4fe6499314552&fccid=647578535675f915&vjs=3',\n",
       " '/rc/clk?jk=48624136752ce056&fccid=4a1076c699e1befc&vjs=3']"
      ]
     },
     "execution_count": 33,
     "metadata": {},
     "output_type": "execute_result"
    }
   ],
   "source": [
    "# Test(NYC):\n",
    "# Unsure if I'd want it in this format\n",
    "\n",
    "nyc_links = extract_all_links(URL_NYC, 100)\n",
    "nyc_links[:10]"
   ]
  },
  {
   "cell_type": "code",
   "execution_count": 34,
   "metadata": {},
   "outputs": [
    {
     "data": {
      "text/plain": [
       "100"
      ]
     },
     "execution_count": 34,
     "metadata": {},
     "output_type": "execute_result"
    }
   ],
   "source": [
    "len(nyc_links)"
   ]
  },
  {
   "cell_type": "markdown",
   "metadata": {
    "focus": false,
    "id": "34070e89-9521-4b45-90c8-57a6599aac68"
   },
   "source": [
    "Now, to scale up our scraping, we need to accumulate more results. We can do this by examining the URL above.\n",
    "\n",
    "- \"http://www.indeed.com/jobs?q=data+scientist+%2420%2C000&l=New+York&start=10\"\n",
    "\n",
    "There are two query parameters here we can alter to collect more results, the `l=New+York` and the `start=10`. The first controls the location of the results (so we can try a different city). The second controls where in the results to start and gives 10 results (thus, we can keep incrementing by 10 to go further in the list)."
   ]
  },
  {
   "cell_type": "markdown",
   "metadata": {},
   "source": [
    "-  JOB TITLE, COMPANY, SALARY, LOCATION, LINK:"
   ]
  },
  {
   "cell_type": "markdown",
   "metadata": {},
   "source": [
    "## Do with individual cities, save as function"
   ]
  },
  {
   "cell_type": "markdown",
   "metadata": {},
   "source": [
    "- change radius to reduce overlaps (30 mi)\n",
    "\n",
    "- alter city list (UK) to also reduce overlaps (cities 30+ miles apart)"
   ]
  },
  {
   "cell_type": "code",
   "execution_count": 41,
   "metadata": {},
   "outputs": [],
   "source": [
    "def alljob_extractor(URL, city, max_pages):\n",
    "    \n",
    "    \"\"\"Get a dataframe per city without duplicates.\n",
    "       Set max_pages equal to no. of listings you're targeting.\n",
    "       Salaries will have np.nan in them for you to\n",
    "       review and drop later.\"\"\"\n",
    "    \n",
    "    results = {'Job_Title': [], 'Company': [],\n",
    "                  'Salary': [], 'Location': [],\n",
    "                  'City': [], 'Link': []}  \n",
    "    \n",
    "    job_titles_UK = []\n",
    "    companies_UK = []\n",
    "    salaries_UK = []\n",
    "    locations_UK = []\n",
    "    cities_UK = []\n",
    "    links_UK = []\n",
    "\n",
    "    for page in tqdm(range(0, max_pages, 50)):\n",
    "        \n",
    "        # Grab the results from the request (as above)\n",
    "        # Append to the full set of results\n",
    "        \n",
    "        # random seconds per iteration (IMPORTANT to avoid website timeout)\n",
    "        # use higher loc in future\n",
    "        time.sleep(np.abs(np.random.normal(loc=3, scale=0.5)))\n",
    "            \n",
    "        r = requests.get(URL.format(page))\n",
    "        \n",
    "        soup = BeautifulSoup(r.text, 'lxml')\n",
    "        listings = soup.find_all('div', attrs={'class': 'jobsearch-SerpJobCard'})\n",
    "        \n",
    "        for listing in listings:\n",
    "            \n",
    "            try:\n",
    "                job_titles_UK.append(extract_job_title(listing))\n",
    "            except:\n",
    "                job_titles_UK.append('None')\n",
    "                \n",
    "            try:\n",
    "                companies_UK.append(extract_company_name(listing))\n",
    "            except:\n",
    "                companies_UK.append('None')\n",
    "                \n",
    "            try:\n",
    "                salaries_UK.append(extract_salary(listing))\n",
    "            except:\n",
    "                salaries_UK.append(np.nan)\n",
    "                \n",
    "            try:\n",
    "                locations_UK.append(extract_location(listing))\n",
    "            except:\n",
    "                locations_UK.append('None')\n",
    "            \n",
    "\n",
    "            try:\n",
    "                cities_UK.append(city)\n",
    "            except:\n",
    "                cities_UK.append('None')\n",
    "            \n",
    "            try:\n",
    "                links_UK.append(extract_link(listing))\n",
    "            except:\n",
    "                links_UK.append('None')\n",
    "                \n",
    "    results['Job_Title'] = job_titles_UK\n",
    "    results['Company'] = companies_UK\n",
    "    results['Salary'] = salaries_UK\n",
    "    results['Location'] = locations_UK\n",
    "    results['City'] = city\n",
    "    results['Link'] = links_UK\n",
    "    \n",
    "    dfprelim = pd.DataFrame.from_dict(results)\n",
    "    \n",
    "    # by default duplicates removed if matched on all columns\n",
    "    dfprelim = dfprelim.drop_duplicates()\n",
    "    \n",
    "    return dfprelim"
   ]
  },
  {
   "cell_type": "markdown",
   "metadata": {},
   "source": [
    "### City 1: London"
   ]
  },
  {
   "cell_type": "code",
   "execution_count": 42,
   "metadata": {},
   "outputs": [],
   "source": [
    "URLLON = \"https://www.indeed.co.uk/jobs?q=(Data+or+Scientist+or+Data+or+Analyst+or+Data+or+Engineer+or+Machine+or+Learning+or+Engineer)+£20,000%2B&l=London&radius=30&jt=fulltime&limit=50&start={}\""
   ]
  },
  {
   "cell_type": "code",
   "execution_count": 43,
   "metadata": {
    "scrolled": true
   },
   "outputs": [
    {
     "name": "stderr",
     "output_type": "stream",
     "text": [
      "100%|██████████| 100/100 [09:17<00:00,  5.57s/it]\n"
     ]
    },
    {
     "data": {
      "text/html": [
       "<div>\n",
       "<style scoped>\n",
       "    .dataframe tbody tr th:only-of-type {\n",
       "        vertical-align: middle;\n",
       "    }\n",
       "\n",
       "    .dataframe tbody tr th {\n",
       "        vertical-align: top;\n",
       "    }\n",
       "\n",
       "    .dataframe thead th {\n",
       "        text-align: right;\n",
       "    }\n",
       "</style>\n",
       "<table border=\"1\" class=\"dataframe\">\n",
       "  <thead>\n",
       "    <tr style=\"text-align: right;\">\n",
       "      <th></th>\n",
       "      <th>Job_Title</th>\n",
       "      <th>Company</th>\n",
       "      <th>Salary</th>\n",
       "      <th>Location</th>\n",
       "      <th>City</th>\n",
       "      <th>Link</th>\n",
       "    </tr>\n",
       "  </thead>\n",
       "  <tbody>\n",
       "    <tr>\n",
       "      <th>0</th>\n",
       "      <td>Data and Research Analyst</td>\n",
       "      <td>Cancer Research UK</td>\n",
       "      <td>£31,000 a year</td>\n",
       "      <td>Stratford</td>\n",
       "      <td>London</td>\n",
       "      <td>/rc/clk?jk=16e8b8e96810af24&amp;fccid=0d06dfb448b2...</td>\n",
       "    </tr>\n",
       "    <tr>\n",
       "      <th>1</th>\n",
       "      <td>Graduate Program - Associate Data Scientist</td>\n",
       "      <td>RELX Group</td>\n",
       "      <td>NaN</td>\n",
       "      <td>London</td>\n",
       "      <td>London</td>\n",
       "      <td>/rc/clk?jk=b6751e8c9cd1c813&amp;fccid=06206ab329e0...</td>\n",
       "    </tr>\n",
       "    <tr>\n",
       "      <th>2</th>\n",
       "      <td>Data Scientist</td>\n",
       "      <td>NHS Midlands and Lancashire Commissioning Supp...</td>\n",
       "      <td>£24,907 - £30,615 a year</td>\n",
       "      <td>London SE1 6LH</td>\n",
       "      <td>London</td>\n",
       "      <td>/rc/clk?jk=195753e0562ed694&amp;fccid=37c85e352ebb...</td>\n",
       "    </tr>\n",
       "    <tr>\n",
       "      <th>3</th>\n",
       "      <td>Data Analyst – Content &amp; Media</td>\n",
       "      <td>TalentPool</td>\n",
       "      <td>£27,000 a year</td>\n",
       "      <td>London EC1R 4RB</td>\n",
       "      <td>London</td>\n",
       "      <td>/rc/clk?jk=8c1cf0cc8aa52ba9&amp;fccid=3e983d79737f...</td>\n",
       "    </tr>\n",
       "    <tr>\n",
       "      <th>4</th>\n",
       "      <td>Machine Learning Engineer</td>\n",
       "      <td>IG Group</td>\n",
       "      <td>NaN</td>\n",
       "      <td>London</td>\n",
       "      <td>London</td>\n",
       "      <td>/rc/clk?jk=f2bb4bb3f97b89a1&amp;fccid=29f542c4b680...</td>\n",
       "    </tr>\n",
       "  </tbody>\n",
       "</table>\n",
       "</div>"
      ],
      "text/plain": [
       "                                     Job_Title  \\\n",
       "0                    Data and Research Analyst   \n",
       "1  Graduate Program - Associate Data Scientist   \n",
       "2                               Data Scientist   \n",
       "3               Data Analyst – Content & Media   \n",
       "4                    Machine Learning Engineer   \n",
       "\n",
       "                                             Company  \\\n",
       "0                                 Cancer Research UK   \n",
       "1                                         RELX Group   \n",
       "2  NHS Midlands and Lancashire Commissioning Supp...   \n",
       "3                                         TalentPool   \n",
       "4                                           IG Group   \n",
       "\n",
       "                     Salary         Location    City  \\\n",
       "0            £31,000 a year        Stratford  London   \n",
       "1                       NaN           London  London   \n",
       "2  £24,907 - £30,615 a year   London SE1 6LH  London   \n",
       "3            £27,000 a year  London EC1R 4RB  London   \n",
       "4                       NaN           London  London   \n",
       "\n",
       "                                                Link  \n",
       "0  /rc/clk?jk=16e8b8e96810af24&fccid=0d06dfb448b2...  \n",
       "1  /rc/clk?jk=b6751e8c9cd1c813&fccid=06206ab329e0...  \n",
       "2  /rc/clk?jk=195753e0562ed694&fccid=37c85e352ebb...  \n",
       "3  /rc/clk?jk=8c1cf0cc8aa52ba9&fccid=3e983d79737f...  \n",
       "4  /rc/clk?jk=f2bb4bb3f97b89a1&fccid=29f542c4b680...  "
      ]
     },
     "execution_count": 43,
     "metadata": {},
     "output_type": "execute_result"
    }
   ],
   "source": [
    "lon_testdf = alljob_extractor(URLLON, \"London\", max_pages=5000)\n",
    "lon_testdf.head()"
   ]
  },
  {
   "cell_type": "code",
   "execution_count": 44,
   "metadata": {},
   "outputs": [
    {
     "data": {
      "text/html": [
       "<div>\n",
       "<style scoped>\n",
       "    .dataframe tbody tr th:only-of-type {\n",
       "        vertical-align: middle;\n",
       "    }\n",
       "\n",
       "    .dataframe tbody tr th {\n",
       "        vertical-align: top;\n",
       "    }\n",
       "\n",
       "    .dataframe thead th {\n",
       "        text-align: right;\n",
       "    }\n",
       "</style>\n",
       "<table border=\"1\" class=\"dataframe\">\n",
       "  <thead>\n",
       "    <tr style=\"text-align: right;\">\n",
       "      <th></th>\n",
       "      <th>Job_Title</th>\n",
       "      <th>Company</th>\n",
       "      <th>Salary</th>\n",
       "      <th>Location</th>\n",
       "      <th>City</th>\n",
       "      <th>Link</th>\n",
       "    </tr>\n",
       "  </thead>\n",
       "  <tbody>\n",
       "    <tr>\n",
       "      <th>count</th>\n",
       "      <td>1000</td>\n",
       "      <td>1000</td>\n",
       "      <td>377</td>\n",
       "      <td>1000</td>\n",
       "      <td>1000</td>\n",
       "      <td>1000</td>\n",
       "    </tr>\n",
       "    <tr>\n",
       "      <th>unique</th>\n",
       "      <td>892</td>\n",
       "      <td>573</td>\n",
       "      <td>269</td>\n",
       "      <td>208</td>\n",
       "      <td>1</td>\n",
       "      <td>1000</td>\n",
       "    </tr>\n",
       "    <tr>\n",
       "      <th>top</th>\n",
       "      <td>Data Scientist</td>\n",
       "      <td>Public Health England</td>\n",
       "      <td>£45,780 - £51,393 a year</td>\n",
       "      <td>London</td>\n",
       "      <td>London</td>\n",
       "      <td>/rc/clk?jk=f6e4cea3be180dfc&amp;fccid=a65be4ca39f5...</td>\n",
       "    </tr>\n",
       "    <tr>\n",
       "      <th>freq</th>\n",
       "      <td>15</td>\n",
       "      <td>10</td>\n",
       "      <td>7</td>\n",
       "      <td>671</td>\n",
       "      <td>1000</td>\n",
       "      <td>1</td>\n",
       "    </tr>\n",
       "  </tbody>\n",
       "</table>\n",
       "</div>"
      ],
      "text/plain": [
       "             Job_Title                Company                    Salary  \\\n",
       "count             1000                   1000                       377   \n",
       "unique             892                    573                       269   \n",
       "top     Data Scientist  Public Health England  £45,780 - £51,393 a year   \n",
       "freq                15                     10                         7   \n",
       "\n",
       "       Location    City                                               Link  \n",
       "count      1000    1000                                               1000  \n",
       "unique      208       1                                               1000  \n",
       "top      London  London  /rc/clk?jk=f6e4cea3be180dfc&fccid=a65be4ca39f5...  \n",
       "freq        671    1000                                                  1  "
      ]
     },
     "execution_count": 44,
     "metadata": {},
     "output_type": "execute_result"
    }
   ],
   "source": [
    "# tricky to extract non duplicate jobs from london with declared salaries\n",
    "\n",
    "lon_testdf.describe()"
   ]
  },
  {
   "cell_type": "markdown",
   "metadata": {},
   "source": [
    "### City 2: Edinburgh"
   ]
  },
  {
   "cell_type": "code",
   "execution_count": 46,
   "metadata": {},
   "outputs": [],
   "source": [
    "URLEDI = \"https://www.indeed.co.uk/jobs?q=(Data+or+Scientist+or+Data+or+Analyst+or+Data+or+Engineer+or+Machine+or+Learning+or+Engineer)+£20,000%2B&l=Edinburgh&radius=30&jt=fulltime&limit=50&start={}\""
   ]
  },
  {
   "cell_type": "code",
   "execution_count": 47,
   "metadata": {},
   "outputs": [
    {
     "name": "stderr",
     "output_type": "stream",
     "text": [
      "100%|██████████| 50/50 [04:20<00:00,  5.22s/it]\n"
     ]
    }
   ],
   "source": [
    "edi_testdf = alljob_extractor(URLEDI, \"Edinburgh\", max_pages=2500)"
   ]
  },
  {
   "cell_type": "code",
   "execution_count": 48,
   "metadata": {},
   "outputs": [
    {
     "data": {
      "text/html": [
       "<div>\n",
       "<style scoped>\n",
       "    .dataframe tbody tr th:only-of-type {\n",
       "        vertical-align: middle;\n",
       "    }\n",
       "\n",
       "    .dataframe tbody tr th {\n",
       "        vertical-align: top;\n",
       "    }\n",
       "\n",
       "    .dataframe thead th {\n",
       "        text-align: right;\n",
       "    }\n",
       "</style>\n",
       "<table border=\"1\" class=\"dataframe\">\n",
       "  <thead>\n",
       "    <tr style=\"text-align: right;\">\n",
       "      <th></th>\n",
       "      <th>Job_Title</th>\n",
       "      <th>Company</th>\n",
       "      <th>Salary</th>\n",
       "      <th>Location</th>\n",
       "      <th>City</th>\n",
       "      <th>Link</th>\n",
       "    </tr>\n",
       "  </thead>\n",
       "  <tbody>\n",
       "    <tr>\n",
       "      <th>0</th>\n",
       "      <td>Machine Learning Engineer</td>\n",
       "      <td>SoulTek</td>\n",
       "      <td>£50,000 - £60,000 a year</td>\n",
       "      <td>Edinburgh</td>\n",
       "      <td>Edinburgh</td>\n",
       "      <td>/rc/clk?jk=ffdad69b595560bd&amp;fccid=dbf7c402233a...</td>\n",
       "    </tr>\n",
       "    <tr>\n",
       "      <th>1</th>\n",
       "      <td>Customer Support roles - IRC85965E</td>\n",
       "      <td>Scottish Government</td>\n",
       "      <td>£20,064 - £22,232 a year</td>\n",
       "      <td>Edinburgh EH11</td>\n",
       "      <td>Edinburgh</td>\n",
       "      <td>/rc/clk?jk=9b75e802a019bcdd&amp;fccid=7bbf7f016062...</td>\n",
       "    </tr>\n",
       "    <tr>\n",
       "      <th>2</th>\n",
       "      <td>Data Analyst</td>\n",
       "      <td>Sopra Steria</td>\n",
       "      <td>£50,000 a year</td>\n",
       "      <td>Edinburgh EH4 2HS</td>\n",
       "      <td>Edinburgh</td>\n",
       "      <td>/rc/clk?jk=778419f66a40c220&amp;fccid=3ba6d20cd884...</td>\n",
       "    </tr>\n",
       "    <tr>\n",
       "      <th>3</th>\n",
       "      <td>Learning and Development Administrator</td>\n",
       "      <td>Scottish Government</td>\n",
       "      <td>£20,064 - £22,232 a year</td>\n",
       "      <td>Edinburgh</td>\n",
       "      <td>Edinburgh</td>\n",
       "      <td>/rc/clk?jk=999428b8d88179a5&amp;fccid=7bbf7f016062...</td>\n",
       "    </tr>\n",
       "    <tr>\n",
       "      <th>4</th>\n",
       "      <td>Graduate Process Engineer - Carbon</td>\n",
       "      <td>Veolia</td>\n",
       "      <td>£26,000 - £28,000 a year</td>\n",
       "      <td>Edinburgh</td>\n",
       "      <td>Edinburgh</td>\n",
       "      <td>/company/Veolia/jobs/Graduate-Process-Engineer...</td>\n",
       "    </tr>\n",
       "  </tbody>\n",
       "</table>\n",
       "</div>"
      ],
      "text/plain": [
       "                                Job_Title              Company  \\\n",
       "0               Machine Learning Engineer              SoulTek   \n",
       "1      Customer Support roles - IRC85965E  Scottish Government   \n",
       "2                            Data Analyst         Sopra Steria   \n",
       "3  Learning and Development Administrator  Scottish Government   \n",
       "4      Graduate Process Engineer - Carbon               Veolia   \n",
       "\n",
       "                     Salary           Location       City  \\\n",
       "0  £50,000 - £60,000 a year          Edinburgh  Edinburgh   \n",
       "1  £20,064 - £22,232 a year     Edinburgh EH11  Edinburgh   \n",
       "2            £50,000 a year  Edinburgh EH4 2HS  Edinburgh   \n",
       "3  £20,064 - £22,232 a year          Edinburgh  Edinburgh   \n",
       "4  £26,000 - £28,000 a year          Edinburgh  Edinburgh   \n",
       "\n",
       "                                                Link  \n",
       "0  /rc/clk?jk=ffdad69b595560bd&fccid=dbf7c402233a...  \n",
       "1  /rc/clk?jk=9b75e802a019bcdd&fccid=7bbf7f016062...  \n",
       "2  /rc/clk?jk=778419f66a40c220&fccid=3ba6d20cd884...  \n",
       "3  /rc/clk?jk=999428b8d88179a5&fccid=7bbf7f016062...  \n",
       "4  /company/Veolia/jobs/Graduate-Process-Engineer...  "
      ]
     },
     "execution_count": 48,
     "metadata": {},
     "output_type": "execute_result"
    }
   ],
   "source": [
    "edi_testdf.head()"
   ]
  },
  {
   "cell_type": "code",
   "execution_count": 49,
   "metadata": {},
   "outputs": [
    {
     "data": {
      "text/html": [
       "<div>\n",
       "<style scoped>\n",
       "    .dataframe tbody tr th:only-of-type {\n",
       "        vertical-align: middle;\n",
       "    }\n",
       "\n",
       "    .dataframe tbody tr th {\n",
       "        vertical-align: top;\n",
       "    }\n",
       "\n",
       "    .dataframe thead th {\n",
       "        text-align: right;\n",
       "    }\n",
       "</style>\n",
       "<table border=\"1\" class=\"dataframe\">\n",
       "  <thead>\n",
       "    <tr style=\"text-align: right;\">\n",
       "      <th></th>\n",
       "      <th>Job_Title</th>\n",
       "      <th>Company</th>\n",
       "      <th>Salary</th>\n",
       "      <th>Location</th>\n",
       "      <th>City</th>\n",
       "      <th>Link</th>\n",
       "    </tr>\n",
       "  </thead>\n",
       "  <tbody>\n",
       "    <tr>\n",
       "      <th>count</th>\n",
       "      <td>1022</td>\n",
       "      <td>1022</td>\n",
       "      <td>447</td>\n",
       "      <td>1022</td>\n",
       "      <td>1022</td>\n",
       "      <td>1022</td>\n",
       "    </tr>\n",
       "    <tr>\n",
       "      <th>unique</th>\n",
       "      <td>877</td>\n",
       "      <td>460</td>\n",
       "      <td>285</td>\n",
       "      <td>192</td>\n",
       "      <td>1</td>\n",
       "      <td>991</td>\n",
       "    </tr>\n",
       "    <tr>\n",
       "      <th>top</th>\n",
       "      <td>Senior Software Engineer</td>\n",
       "      <td>Appoint Group</td>\n",
       "      <td>£25,000 - £30,000 a year</td>\n",
       "      <td>Edinburgh</td>\n",
       "      <td>Edinburgh</td>\n",
       "      <td>/rc/clk?jk=44e74c1e8eae8cac&amp;fccid=3eb4d72008bb...</td>\n",
       "    </tr>\n",
       "    <tr>\n",
       "      <th>freq</th>\n",
       "      <td>8</td>\n",
       "      <td>27</td>\n",
       "      <td>9</td>\n",
       "      <td>545</td>\n",
       "      <td>1022</td>\n",
       "      <td>2</td>\n",
       "    </tr>\n",
       "  </tbody>\n",
       "</table>\n",
       "</div>"
      ],
      "text/plain": [
       "                       Job_Title        Company                    Salary  \\\n",
       "count                       1022           1022                       447   \n",
       "unique                       877            460                       285   \n",
       "top     Senior Software Engineer  Appoint Group  £25,000 - £30,000 a year   \n",
       "freq                           8             27                         9   \n",
       "\n",
       "         Location       City  \\\n",
       "count        1022       1022   \n",
       "unique        192          1   \n",
       "top     Edinburgh  Edinburgh   \n",
       "freq          545       1022   \n",
       "\n",
       "                                                     Link  \n",
       "count                                                1022  \n",
       "unique                                                991  \n",
       "top     /rc/clk?jk=44e74c1e8eae8cac&fccid=3eb4d72008bb...  \n",
       "freq                                                    2  "
      ]
     },
     "execution_count": 49,
     "metadata": {},
     "output_type": "execute_result"
    }
   ],
   "source": [
    "edi_testdf.describe()"
   ]
  },
  {
   "cell_type": "markdown",
   "metadata": {},
   "source": [
    "### City 3: Manchester"
   ]
  },
  {
   "cell_type": "code",
   "execution_count": 50,
   "metadata": {},
   "outputs": [],
   "source": [
    "URLMCR = \"https://www.indeed.co.uk/jobs?q=(Data+or+Scientist+or+Data+or+Analyst+or+Data+or+Engineer+or+Machine+or+Learning+or+Engineer)+£20,000%2B&l=Manchester&radius=30&jt=fulltime&limit=50&start={}\""
   ]
  },
  {
   "cell_type": "code",
   "execution_count": 51,
   "metadata": {},
   "outputs": [
    {
     "name": "stderr",
     "output_type": "stream",
     "text": [
      "100%|██████████| 50/50 [04:28<00:00,  5.36s/it]\n"
     ]
    }
   ],
   "source": [
    "mcr_testdf = alljob_extractor(URLMCR, \"Manchester\", max_pages=2500)"
   ]
  },
  {
   "cell_type": "code",
   "execution_count": 52,
   "metadata": {},
   "outputs": [
    {
     "data": {
      "text/html": [
       "<div>\n",
       "<style scoped>\n",
       "    .dataframe tbody tr th:only-of-type {\n",
       "        vertical-align: middle;\n",
       "    }\n",
       "\n",
       "    .dataframe tbody tr th {\n",
       "        vertical-align: top;\n",
       "    }\n",
       "\n",
       "    .dataframe thead th {\n",
       "        text-align: right;\n",
       "    }\n",
       "</style>\n",
       "<table border=\"1\" class=\"dataframe\">\n",
       "  <thead>\n",
       "    <tr style=\"text-align: right;\">\n",
       "      <th></th>\n",
       "      <th>Job_Title</th>\n",
       "      <th>Company</th>\n",
       "      <th>Salary</th>\n",
       "      <th>Location</th>\n",
       "      <th>City</th>\n",
       "      <th>Link</th>\n",
       "    </tr>\n",
       "  </thead>\n",
       "  <tbody>\n",
       "    <tr>\n",
       "      <th>0</th>\n",
       "      <td>Sustainability Data and Systems Analyst</td>\n",
       "      <td>Manchester University NHS Foundation Trust</td>\n",
       "      <td>£24,907 - £30,615 a year</td>\n",
       "      <td>Wythenshawe</td>\n",
       "      <td>Manchester</td>\n",
       "      <td>/rc/clk?jk=db6d1d647ba993e6&amp;fccid=9e0482cdf064...</td>\n",
       "    </tr>\n",
       "    <tr>\n",
       "      <th>1</th>\n",
       "      <td>Data Analyst</td>\n",
       "      <td>Salford Royal NHS Foundation Trust</td>\n",
       "      <td>£38,890 - £44,503 a year</td>\n",
       "      <td>Manchester</td>\n",
       "      <td>Manchester</td>\n",
       "      <td>/rc/clk?jk=ddd62afe8f1bb057&amp;fccid=e81f055df2aa...</td>\n",
       "    </tr>\n",
       "    <tr>\n",
       "      <th>2</th>\n",
       "      <td>Healthcare Scientist Practitoner</td>\n",
       "      <td>Public Health England</td>\n",
       "      <td>£23,139 - £28,195 a year</td>\n",
       "      <td>Manchester M13 9WL</td>\n",
       "      <td>Manchester</td>\n",
       "      <td>/rc/clk?jk=8b5e3bd0af8e45a8&amp;fccid=56df6d0891c9...</td>\n",
       "    </tr>\n",
       "    <tr>\n",
       "      <th>3</th>\n",
       "      <td>SSNAP Data Collector</td>\n",
       "      <td>Salford Royal NHS Foundation Trust</td>\n",
       "      <td>£21,892 - £24,157 a year</td>\n",
       "      <td>Salford M6</td>\n",
       "      <td>Manchester</td>\n",
       "      <td>/rc/clk?jk=fd37c2b150b97a07&amp;fccid=e81f055df2aa...</td>\n",
       "    </tr>\n",
       "    <tr>\n",
       "      <th>4</th>\n",
       "      <td>Learning Technologist</td>\n",
       "      <td>The Christie NHS Foundation Trust</td>\n",
       "      <td>£24,907 - £30,615 a year</td>\n",
       "      <td>Manchester M20 4BX</td>\n",
       "      <td>Manchester</td>\n",
       "      <td>/rc/clk?jk=aa9039a181d8d803&amp;fccid=4c197c46f279...</td>\n",
       "    </tr>\n",
       "  </tbody>\n",
       "</table>\n",
       "</div>"
      ],
      "text/plain": [
       "                                 Job_Title  \\\n",
       "0  Sustainability Data and Systems Analyst   \n",
       "1                             Data Analyst   \n",
       "2         Healthcare Scientist Practitoner   \n",
       "3                     SSNAP Data Collector   \n",
       "4                    Learning Technologist   \n",
       "\n",
       "                                      Company                    Salary  \\\n",
       "0  Manchester University NHS Foundation Trust  £24,907 - £30,615 a year   \n",
       "1          Salford Royal NHS Foundation Trust  £38,890 - £44,503 a year   \n",
       "2                       Public Health England  £23,139 - £28,195 a year   \n",
       "3          Salford Royal NHS Foundation Trust  £21,892 - £24,157 a year   \n",
       "4           The Christie NHS Foundation Trust  £24,907 - £30,615 a year   \n",
       "\n",
       "             Location        City  \\\n",
       "0         Wythenshawe  Manchester   \n",
       "1          Manchester  Manchester   \n",
       "2  Manchester M13 9WL  Manchester   \n",
       "3          Salford M6  Manchester   \n",
       "4  Manchester M20 4BX  Manchester   \n",
       "\n",
       "                                                Link  \n",
       "0  /rc/clk?jk=db6d1d647ba993e6&fccid=9e0482cdf064...  \n",
       "1  /rc/clk?jk=ddd62afe8f1bb057&fccid=e81f055df2aa...  \n",
       "2  /rc/clk?jk=8b5e3bd0af8e45a8&fccid=56df6d0891c9...  \n",
       "3  /rc/clk?jk=fd37c2b150b97a07&fccid=e81f055df2aa...  \n",
       "4  /rc/clk?jk=aa9039a181d8d803&fccid=4c197c46f279...  "
      ]
     },
     "execution_count": 52,
     "metadata": {},
     "output_type": "execute_result"
    }
   ],
   "source": [
    "mcr_testdf.head()"
   ]
  },
  {
   "cell_type": "code",
   "execution_count": 53,
   "metadata": {},
   "outputs": [
    {
     "data": {
      "text/html": [
       "<div>\n",
       "<style scoped>\n",
       "    .dataframe tbody tr th:only-of-type {\n",
       "        vertical-align: middle;\n",
       "    }\n",
       "\n",
       "    .dataframe tbody tr th {\n",
       "        vertical-align: top;\n",
       "    }\n",
       "\n",
       "    .dataframe thead th {\n",
       "        text-align: right;\n",
       "    }\n",
       "</style>\n",
       "<table border=\"1\" class=\"dataframe\">\n",
       "  <thead>\n",
       "    <tr style=\"text-align: right;\">\n",
       "      <th></th>\n",
       "      <th>Job_Title</th>\n",
       "      <th>Company</th>\n",
       "      <th>Salary</th>\n",
       "      <th>Location</th>\n",
       "      <th>City</th>\n",
       "      <th>Link</th>\n",
       "    </tr>\n",
       "  </thead>\n",
       "  <tbody>\n",
       "    <tr>\n",
       "      <th>count</th>\n",
       "      <td>998</td>\n",
       "      <td>998</td>\n",
       "      <td>502</td>\n",
       "      <td>998</td>\n",
       "      <td>998</td>\n",
       "      <td>998</td>\n",
       "    </tr>\n",
       "    <tr>\n",
       "      <th>unique</th>\n",
       "      <td>926</td>\n",
       "      <td>446</td>\n",
       "      <td>276</td>\n",
       "      <td>209</td>\n",
       "      <td>1</td>\n",
       "      <td>998</td>\n",
       "    </tr>\n",
       "    <tr>\n",
       "      <th>top</th>\n",
       "      <td>Business Analyst</td>\n",
       "      <td>Jacobs</td>\n",
       "      <td>£24,907 - £30,615 a year</td>\n",
       "      <td>Manchester</td>\n",
       "      <td>Manchester</td>\n",
       "      <td>/rc/clk?jk=6a54a5440e605728&amp;fccid=bb4e3d67ccb0...</td>\n",
       "    </tr>\n",
       "    <tr>\n",
       "      <th>freq</th>\n",
       "      <td>4</td>\n",
       "      <td>23</td>\n",
       "      <td>21</td>\n",
       "      <td>356</td>\n",
       "      <td>998</td>\n",
       "      <td>1</td>\n",
       "    </tr>\n",
       "  </tbody>\n",
       "</table>\n",
       "</div>"
      ],
      "text/plain": [
       "               Job_Title Company                    Salary    Location  \\\n",
       "count                998     998                       502         998   \n",
       "unique               926     446                       276         209   \n",
       "top     Business Analyst  Jacobs  £24,907 - £30,615 a year  Manchester   \n",
       "freq                   4      23                        21         356   \n",
       "\n",
       "              City                                               Link  \n",
       "count          998                                                998  \n",
       "unique           1                                                998  \n",
       "top     Manchester  /rc/clk?jk=6a54a5440e605728&fccid=bb4e3d67ccb0...  \n",
       "freq           998                                                  1  "
      ]
     },
     "execution_count": 53,
     "metadata": {},
     "output_type": "execute_result"
    }
   ],
   "source": [
    "mcr_testdf.describe()"
   ]
  },
  {
   "cell_type": "markdown",
   "metadata": {},
   "source": [
    "### City 4: Birmingham"
   ]
  },
  {
   "cell_type": "code",
   "execution_count": 54,
   "metadata": {},
   "outputs": [],
   "source": [
    "URLBIR = \"https://www.indeed.co.uk/jobs?q=(Data+or+Scientist+or+Data+or+Analyst+or+Data+or+Engineer+or+Machine+or+Learning+or+Engineer)+£20,000%2B&l=Birmingham&radius=30&jt=fulltime&limit=50&start={}\""
   ]
  },
  {
   "cell_type": "code",
   "execution_count": 55,
   "metadata": {},
   "outputs": [
    {
     "name": "stderr",
     "output_type": "stream",
     "text": [
      "100%|██████████| 50/50 [04:34<00:00,  5.49s/it]\n"
     ]
    }
   ],
   "source": [
    "bir_testdf = alljob_extractor(URLBIR, \"Birmingham\", max_pages=2500)"
   ]
  },
  {
   "cell_type": "code",
   "execution_count": 56,
   "metadata": {},
   "outputs": [
    {
     "data": {
      "text/html": [
       "<div>\n",
       "<style scoped>\n",
       "    .dataframe tbody tr th:only-of-type {\n",
       "        vertical-align: middle;\n",
       "    }\n",
       "\n",
       "    .dataframe tbody tr th {\n",
       "        vertical-align: top;\n",
       "    }\n",
       "\n",
       "    .dataframe thead th {\n",
       "        text-align: right;\n",
       "    }\n",
       "</style>\n",
       "<table border=\"1\" class=\"dataframe\">\n",
       "  <thead>\n",
       "    <tr style=\"text-align: right;\">\n",
       "      <th></th>\n",
       "      <th>Job_Title</th>\n",
       "      <th>Company</th>\n",
       "      <th>Salary</th>\n",
       "      <th>Location</th>\n",
       "      <th>City</th>\n",
       "      <th>Link</th>\n",
       "    </tr>\n",
       "  </thead>\n",
       "  <tbody>\n",
       "    <tr>\n",
       "      <th>0</th>\n",
       "      <td>Data Scientist</td>\n",
       "      <td>Kainos</td>\n",
       "      <td>NaN</td>\n",
       "      <td>Birmingham</td>\n",
       "      <td>Birmingham</td>\n",
       "      <td>/rc/clk?jk=003ddc946281f5fc&amp;fccid=538421af10c1...</td>\n",
       "    </tr>\n",
       "    <tr>\n",
       "      <th>1</th>\n",
       "      <td>Assistant Asset Engineer</td>\n",
       "      <td>Network Rail</td>\n",
       "      <td>£25,806 - £35,000 a year</td>\n",
       "      <td>Birmingham B1 2ND</td>\n",
       "      <td>Birmingham</td>\n",
       "      <td>/rc/clk?jk=a58b50de6bfa2676&amp;fccid=f5e16ad1713f...</td>\n",
       "    </tr>\n",
       "    <tr>\n",
       "      <th>2</th>\n",
       "      <td>DWP EO Work Coach – West Midlands Group – Mercia</td>\n",
       "      <td>UK Government - Department for Work and Pensions</td>\n",
       "      <td>£27,565 a year</td>\n",
       "      <td>Redditch</td>\n",
       "      <td>Birmingham</td>\n",
       "      <td>/rc/clk?jk=9c5187a2b8e5d2e7&amp;fccid=bde86870b61a...</td>\n",
       "    </tr>\n",
       "    <tr>\n",
       "      <th>3</th>\n",
       "      <td>National Data and Information Technician (cerv...</td>\n",
       "      <td>Public Health England</td>\n",
       "      <td>£36,329 - £42,481 a year</td>\n",
       "      <td>Birmingham B3 2PW</td>\n",
       "      <td>Birmingham</td>\n",
       "      <td>/rc/clk?jk=dc1f2204f146c24f&amp;fccid=56df6d0891c9...</td>\n",
       "    </tr>\n",
       "    <tr>\n",
       "      <th>4</th>\n",
       "      <td>Data Protection Analyst</td>\n",
       "      <td>Aldi</td>\n",
       "      <td>£46,405 a year</td>\n",
       "      <td>Atherstone CV9 2SQ</td>\n",
       "      <td>Birmingham</td>\n",
       "      <td>/rc/clk?jk=3a06bcf786fe55d1&amp;fccid=419801c05606...</td>\n",
       "    </tr>\n",
       "  </tbody>\n",
       "</table>\n",
       "</div>"
      ],
      "text/plain": [
       "                                           Job_Title  \\\n",
       "0                                     Data Scientist   \n",
       "1                           Assistant Asset Engineer   \n",
       "2   DWP EO Work Coach – West Midlands Group – Mercia   \n",
       "3  National Data and Information Technician (cerv...   \n",
       "4                            Data Protection Analyst   \n",
       "\n",
       "                                            Company                    Salary  \\\n",
       "0                                            Kainos                       NaN   \n",
       "1                                      Network Rail  £25,806 - £35,000 a year   \n",
       "2  UK Government - Department for Work and Pensions            £27,565 a year   \n",
       "3                             Public Health England  £36,329 - £42,481 a year   \n",
       "4                                              Aldi            £46,405 a year   \n",
       "\n",
       "             Location        City  \\\n",
       "0          Birmingham  Birmingham   \n",
       "1   Birmingham B1 2ND  Birmingham   \n",
       "2            Redditch  Birmingham   \n",
       "3   Birmingham B3 2PW  Birmingham   \n",
       "4  Atherstone CV9 2SQ  Birmingham   \n",
       "\n",
       "                                                Link  \n",
       "0  /rc/clk?jk=003ddc946281f5fc&fccid=538421af10c1...  \n",
       "1  /rc/clk?jk=a58b50de6bfa2676&fccid=f5e16ad1713f...  \n",
       "2  /rc/clk?jk=9c5187a2b8e5d2e7&fccid=bde86870b61a...  \n",
       "3  /rc/clk?jk=dc1f2204f146c24f&fccid=56df6d0891c9...  \n",
       "4  /rc/clk?jk=3a06bcf786fe55d1&fccid=419801c05606...  "
      ]
     },
     "execution_count": 56,
     "metadata": {},
     "output_type": "execute_result"
    }
   ],
   "source": [
    "bir_testdf.head()"
   ]
  },
  {
   "cell_type": "code",
   "execution_count": 57,
   "metadata": {},
   "outputs": [
    {
     "data": {
      "text/html": [
       "<div>\n",
       "<style scoped>\n",
       "    .dataframe tbody tr th:only-of-type {\n",
       "        vertical-align: middle;\n",
       "    }\n",
       "\n",
       "    .dataframe tbody tr th {\n",
       "        vertical-align: top;\n",
       "    }\n",
       "\n",
       "    .dataframe thead th {\n",
       "        text-align: right;\n",
       "    }\n",
       "</style>\n",
       "<table border=\"1\" class=\"dataframe\">\n",
       "  <thead>\n",
       "    <tr style=\"text-align: right;\">\n",
       "      <th></th>\n",
       "      <th>Job_Title</th>\n",
       "      <th>Company</th>\n",
       "      <th>Salary</th>\n",
       "      <th>Location</th>\n",
       "      <th>City</th>\n",
       "      <th>Link</th>\n",
       "    </tr>\n",
       "  </thead>\n",
       "  <tbody>\n",
       "    <tr>\n",
       "      <th>count</th>\n",
       "      <td>1000</td>\n",
       "      <td>1000</td>\n",
       "      <td>479</td>\n",
       "      <td>1000</td>\n",
       "      <td>1000</td>\n",
       "      <td>1000</td>\n",
       "    </tr>\n",
       "    <tr>\n",
       "      <th>unique</th>\n",
       "      <td>945</td>\n",
       "      <td>409</td>\n",
       "      <td>285</td>\n",
       "      <td>192</td>\n",
       "      <td>1</td>\n",
       "      <td>1000</td>\n",
       "    </tr>\n",
       "    <tr>\n",
       "      <th>top</th>\n",
       "      <td>Data Analyst</td>\n",
       "      <td>Balfour Beatty</td>\n",
       "      <td>£24,907 - £30,615 a year</td>\n",
       "      <td>Birmingham</td>\n",
       "      <td>Birmingham</td>\n",
       "      <td>/rc/clk?jk=c3b7bc97c4e880a2&amp;fccid=344344dda6e8...</td>\n",
       "    </tr>\n",
       "    <tr>\n",
       "      <th>freq</th>\n",
       "      <td>4</td>\n",
       "      <td>23</td>\n",
       "      <td>22</td>\n",
       "      <td>403</td>\n",
       "      <td>1000</td>\n",
       "      <td>1</td>\n",
       "    </tr>\n",
       "  </tbody>\n",
       "</table>\n",
       "</div>"
      ],
      "text/plain": [
       "           Job_Title         Company                    Salary    Location  \\\n",
       "count           1000            1000                       479        1000   \n",
       "unique           945             409                       285         192   \n",
       "top     Data Analyst  Balfour Beatty  £24,907 - £30,615 a year  Birmingham   \n",
       "freq               4              23                        22         403   \n",
       "\n",
       "              City                                               Link  \n",
       "count         1000                                               1000  \n",
       "unique           1                                               1000  \n",
       "top     Birmingham  /rc/clk?jk=c3b7bc97c4e880a2&fccid=344344dda6e8...  \n",
       "freq          1000                                                  1  "
      ]
     },
     "execution_count": 57,
     "metadata": {},
     "output_type": "execute_result"
    }
   ],
   "source": [
    "bir_testdf.describe()"
   ]
  },
  {
   "cell_type": "markdown",
   "metadata": {},
   "source": [
    "### City 5: Newcastle"
   ]
  },
  {
   "cell_type": "code",
   "execution_count": 58,
   "metadata": {},
   "outputs": [],
   "source": [
    "URLNEWC = \"https://www.indeed.co.uk/jobs?q=(Data+or+Scientist+or+Data+or+Analyst+or+Data+or+Engineer+or+Machine+or+Learning+or+Engineer)+£20,000%2B&l=Newcastle&radius=30&jt=fulltime&limit=50&start={}\""
   ]
  },
  {
   "cell_type": "code",
   "execution_count": 59,
   "metadata": {},
   "outputs": [
    {
     "name": "stderr",
     "output_type": "stream",
     "text": [
      "100%|██████████| 50/50 [04:29<00:00,  5.39s/it]\n"
     ]
    }
   ],
   "source": [
    "newc_testdf = alljob_extractor(URLNEWC, \"Newcastle\", max_pages=2500)"
   ]
  },
  {
   "cell_type": "code",
   "execution_count": 60,
   "metadata": {},
   "outputs": [
    {
     "data": {
      "text/html": [
       "<div>\n",
       "<style scoped>\n",
       "    .dataframe tbody tr th:only-of-type {\n",
       "        vertical-align: middle;\n",
       "    }\n",
       "\n",
       "    .dataframe tbody tr th {\n",
       "        vertical-align: top;\n",
       "    }\n",
       "\n",
       "    .dataframe thead th {\n",
       "        text-align: right;\n",
       "    }\n",
       "</style>\n",
       "<table border=\"1\" class=\"dataframe\">\n",
       "  <thead>\n",
       "    <tr style=\"text-align: right;\">\n",
       "      <th></th>\n",
       "      <th>Job_Title</th>\n",
       "      <th>Company</th>\n",
       "      <th>Salary</th>\n",
       "      <th>Location</th>\n",
       "      <th>City</th>\n",
       "      <th>Link</th>\n",
       "    </tr>\n",
       "  </thead>\n",
       "  <tbody>\n",
       "    <tr>\n",
       "      <th>0</th>\n",
       "      <td>86794 - Senior Data Scientist</td>\n",
       "      <td>UK Government - Department for Work and Pensions</td>\n",
       "      <td>£49,171 - £72,771 a year</td>\n",
       "      <td>Newcastle upon Tyne</td>\n",
       "      <td>Newcastle</td>\n",
       "      <td>/rc/clk?jk=3e30606881e8c53f&amp;fccid=bde86870b61a...</td>\n",
       "    </tr>\n",
       "    <tr>\n",
       "      <th>1</th>\n",
       "      <td>Junior Data Warehouse ETL Developer</td>\n",
       "      <td>NHS Business Services Authority</td>\n",
       "      <td>£24,907 - £30,615 a year</td>\n",
       "      <td>Newcastle upon Tyne</td>\n",
       "      <td>Newcastle</td>\n",
       "      <td>/rc/clk?jk=29fe64c4d2f5510d&amp;fccid=7b42a43de4c4...</td>\n",
       "    </tr>\n",
       "    <tr>\n",
       "      <th>2</th>\n",
       "      <td>Executive Officer - Immigration and Protection...</td>\n",
       "      <td>UK Government - Home Office</td>\n",
       "      <td>£24,883 - £31,519 a year</td>\n",
       "      <td>Newcastle upon Tyne</td>\n",
       "      <td>Newcastle</td>\n",
       "      <td>/rc/clk?jk=e393dc08d645c3ed&amp;fccid=d6325847d65f...</td>\n",
       "    </tr>\n",
       "    <tr>\n",
       "      <th>3</th>\n",
       "      <td>Bio Processing Scientist</td>\n",
       "      <td>Leica Biosystems</td>\n",
       "      <td>NaN</td>\n",
       "      <td>Newcastle upon Tyne NE12 8EW</td>\n",
       "      <td>Newcastle</td>\n",
       "      <td>/rc/clk?jk=7291f6bd8a3c5179&amp;fccid=f8d12c4ab90c...</td>\n",
       "    </tr>\n",
       "    <tr>\n",
       "      <th>4</th>\n",
       "      <td>COVID-19 Vaccination Programme Vaccinator</td>\n",
       "      <td>NHS Professionals</td>\n",
       "      <td>£10.09 - £11.19 an hour</td>\n",
       "      <td>Newcastle upon Tyne</td>\n",
       "      <td>Newcastle</td>\n",
       "      <td>/company/NHS-Professionals-(Bank)/jobs/Covid-V...</td>\n",
       "    </tr>\n",
       "  </tbody>\n",
       "</table>\n",
       "</div>"
      ],
      "text/plain": [
       "                                           Job_Title  \\\n",
       "0                      86794 - Senior Data Scientist   \n",
       "1                Junior Data Warehouse ETL Developer   \n",
       "2  Executive Officer - Immigration and Protection...   \n",
       "3                           Bio Processing Scientist   \n",
       "4          COVID-19 Vaccination Programme Vaccinator   \n",
       "\n",
       "                                            Company                    Salary  \\\n",
       "0  UK Government - Department for Work and Pensions  £49,171 - £72,771 a year   \n",
       "1                   NHS Business Services Authority  £24,907 - £30,615 a year   \n",
       "2                       UK Government - Home Office  £24,883 - £31,519 a year   \n",
       "3                                  Leica Biosystems                       NaN   \n",
       "4                                 NHS Professionals   £10.09 - £11.19 an hour   \n",
       "\n",
       "                       Location       City  \\\n",
       "0           Newcastle upon Tyne  Newcastle   \n",
       "1           Newcastle upon Tyne  Newcastle   \n",
       "2           Newcastle upon Tyne  Newcastle   \n",
       "3  Newcastle upon Tyne NE12 8EW  Newcastle   \n",
       "4           Newcastle upon Tyne  Newcastle   \n",
       "\n",
       "                                                Link  \n",
       "0  /rc/clk?jk=3e30606881e8c53f&fccid=bde86870b61a...  \n",
       "1  /rc/clk?jk=29fe64c4d2f5510d&fccid=7b42a43de4c4...  \n",
       "2  /rc/clk?jk=e393dc08d645c3ed&fccid=d6325847d65f...  \n",
       "3  /rc/clk?jk=7291f6bd8a3c5179&fccid=f8d12c4ab90c...  \n",
       "4  /company/NHS-Professionals-(Bank)/jobs/Covid-V...  "
      ]
     },
     "execution_count": 60,
     "metadata": {},
     "output_type": "execute_result"
    }
   ],
   "source": [
    "newc_testdf.head()"
   ]
  },
  {
   "cell_type": "code",
   "execution_count": 61,
   "metadata": {},
   "outputs": [
    {
     "data": {
      "text/html": [
       "<div>\n",
       "<style scoped>\n",
       "    .dataframe tbody tr th:only-of-type {\n",
       "        vertical-align: middle;\n",
       "    }\n",
       "\n",
       "    .dataframe tbody tr th {\n",
       "        vertical-align: top;\n",
       "    }\n",
       "\n",
       "    .dataframe thead th {\n",
       "        text-align: right;\n",
       "    }\n",
       "</style>\n",
       "<table border=\"1\" class=\"dataframe\">\n",
       "  <thead>\n",
       "    <tr style=\"text-align: right;\">\n",
       "      <th></th>\n",
       "      <th>Job_Title</th>\n",
       "      <th>Company</th>\n",
       "      <th>Salary</th>\n",
       "      <th>Location</th>\n",
       "      <th>City</th>\n",
       "      <th>Link</th>\n",
       "    </tr>\n",
       "  </thead>\n",
       "  <tbody>\n",
       "    <tr>\n",
       "      <th>count</th>\n",
       "      <td>1012</td>\n",
       "      <td>1012</td>\n",
       "      <td>652</td>\n",
       "      <td>1012</td>\n",
       "      <td>1012</td>\n",
       "      <td>1012</td>\n",
       "    </tr>\n",
       "    <tr>\n",
       "      <th>unique</th>\n",
       "      <td>920</td>\n",
       "      <td>503</td>\n",
       "      <td>368</td>\n",
       "      <td>228</td>\n",
       "      <td>1</td>\n",
       "      <td>1012</td>\n",
       "    </tr>\n",
       "    <tr>\n",
       "      <th>top</th>\n",
       "      <td>Staff Nurse</td>\n",
       "      <td>Newcastle University</td>\n",
       "      <td>£31,365 - £37,890 a year</td>\n",
       "      <td>Newcastle upon Tyne</td>\n",
       "      <td>Newcastle</td>\n",
       "      <td>/company/Orchard-Care-Homes/jobs/Dementia-Supp...</td>\n",
       "    </tr>\n",
       "    <tr>\n",
       "      <th>freq</th>\n",
       "      <td>7</td>\n",
       "      <td>36</td>\n",
       "      <td>18</td>\n",
       "      <td>397</td>\n",
       "      <td>1012</td>\n",
       "      <td>1</td>\n",
       "    </tr>\n",
       "  </tbody>\n",
       "</table>\n",
       "</div>"
      ],
      "text/plain": [
       "          Job_Title               Company                    Salary  \\\n",
       "count          1012                  1012                       652   \n",
       "unique          920                   503                       368   \n",
       "top     Staff Nurse  Newcastle University  £31,365 - £37,890 a year   \n",
       "freq              7                    36                        18   \n",
       "\n",
       "                   Location       City  \\\n",
       "count                  1012       1012   \n",
       "unique                  228          1   \n",
       "top     Newcastle upon Tyne  Newcastle   \n",
       "freq                    397       1012   \n",
       "\n",
       "                                                     Link  \n",
       "count                                                1012  \n",
       "unique                                               1012  \n",
       "top     /company/Orchard-Care-Homes/jobs/Dementia-Supp...  \n",
       "freq                                                    1  "
      ]
     },
     "execution_count": 61,
     "metadata": {},
     "output_type": "execute_result"
    }
   ],
   "source": [
    "newc_testdf.describe()"
   ]
  },
  {
   "cell_type": "markdown",
   "metadata": {},
   "source": [
    "### City 6: Bristol"
   ]
  },
  {
   "cell_type": "code",
   "execution_count": 62,
   "metadata": {},
   "outputs": [],
   "source": [
    "URLBRIS = \"https://www.indeed.co.uk/jobs?q=(Data+or+Scientist+or+Data+or+Analyst+or+Data+or+Engineer+or+Machine+or+Learning+or+Engineer)+£20,000%2B&l=Bristol&radius=30&jt=fulltime&limit=50&start={}\""
   ]
  },
  {
   "cell_type": "code",
   "execution_count": 63,
   "metadata": {},
   "outputs": [
    {
     "name": "stderr",
     "output_type": "stream",
     "text": [
      "100%|██████████| 50/50 [04:18<00:00,  5.17s/it]\n"
     ]
    }
   ],
   "source": [
    "bris_testdf = alljob_extractor(URLBRIS, \"Bristol\", max_pages=2500)"
   ]
  },
  {
   "cell_type": "code",
   "execution_count": 64,
   "metadata": {},
   "outputs": [
    {
     "data": {
      "text/html": [
       "<div>\n",
       "<style scoped>\n",
       "    .dataframe tbody tr th:only-of-type {\n",
       "        vertical-align: middle;\n",
       "    }\n",
       "\n",
       "    .dataframe tbody tr th {\n",
       "        vertical-align: top;\n",
       "    }\n",
       "\n",
       "    .dataframe thead th {\n",
       "        text-align: right;\n",
       "    }\n",
       "</style>\n",
       "<table border=\"1\" class=\"dataframe\">\n",
       "  <thead>\n",
       "    <tr style=\"text-align: right;\">\n",
       "      <th></th>\n",
       "      <th>Job_Title</th>\n",
       "      <th>Company</th>\n",
       "      <th>Salary</th>\n",
       "      <th>Location</th>\n",
       "      <th>City</th>\n",
       "      <th>Link</th>\n",
       "    </tr>\n",
       "  </thead>\n",
       "  <tbody>\n",
       "    <tr>\n",
       "      <th>0</th>\n",
       "      <td>Support Officer- Learning and Development</td>\n",
       "      <td>UK Government - Department for Environment, Fo...</td>\n",
       "      <td>£29,157 - £32,160 a year</td>\n",
       "      <td>Bristol</td>\n",
       "      <td>Bristol</td>\n",
       "      <td>/rc/clk?jk=df3603c889a2574b&amp;fccid=7d1f275fccbb...</td>\n",
       "    </tr>\n",
       "    <tr>\n",
       "      <th>1</th>\n",
       "      <td>Data Management Assistant</td>\n",
       "      <td>University of Bristol</td>\n",
       "      <td>£19,133 - £21,236 a year</td>\n",
       "      <td>Bristol BS8 1QU</td>\n",
       "      <td>Bristol</td>\n",
       "      <td>/rc/clk?jk=f1587f9c56dd420c&amp;fccid=3e2d0f19609a...</td>\n",
       "    </tr>\n",
       "    <tr>\n",
       "      <th>2</th>\n",
       "      <td>Student Records Administrator</td>\n",
       "      <td>University of Bristol</td>\n",
       "      <td>£23,754 - £26,715 a year</td>\n",
       "      <td>Bristol BS8 1QU</td>\n",
       "      <td>Bristol</td>\n",
       "      <td>/rc/clk?jk=1e7f0de858321d21&amp;fccid=3e2d0f19609a...</td>\n",
       "    </tr>\n",
       "    <tr>\n",
       "      <th>3</th>\n",
       "      <td>Development Scientist</td>\n",
       "      <td>NHS Blood and Transplant (NHSBT)</td>\n",
       "      <td>£31,365 - £37,890 a year</td>\n",
       "      <td>Bristol</td>\n",
       "      <td>Bristol</td>\n",
       "      <td>/rc/clk?jk=e0fc9367edc8dfd9&amp;fccid=be7f1a7e5f11...</td>\n",
       "    </tr>\n",
       "    <tr>\n",
       "      <th>4</th>\n",
       "      <td>COVID-19 Vaccination Programme Vaccinator</td>\n",
       "      <td>NHS Professionals</td>\n",
       "      <td>£10.09 - £11.19 an hour</td>\n",
       "      <td>Bristol</td>\n",
       "      <td>Bristol</td>\n",
       "      <td>/company/NHS-Professionals/jobs/Covid-Vaccinat...</td>\n",
       "    </tr>\n",
       "  </tbody>\n",
       "</table>\n",
       "</div>"
      ],
      "text/plain": [
       "                                   Job_Title  \\\n",
       "0  Support Officer- Learning and Development   \n",
       "1                  Data Management Assistant   \n",
       "2              Student Records Administrator   \n",
       "3                      Development Scientist   \n",
       "4  COVID-19 Vaccination Programme Vaccinator   \n",
       "\n",
       "                                             Company  \\\n",
       "0  UK Government - Department for Environment, Fo...   \n",
       "1                              University of Bristol   \n",
       "2                              University of Bristol   \n",
       "3                   NHS Blood and Transplant (NHSBT)   \n",
       "4                                  NHS Professionals   \n",
       "\n",
       "                     Salary         Location     City  \\\n",
       "0  £29,157 - £32,160 a year          Bristol  Bristol   \n",
       "1  £19,133 - £21,236 a year  Bristol BS8 1QU  Bristol   \n",
       "2  £23,754 - £26,715 a year  Bristol BS8 1QU  Bristol   \n",
       "3  £31,365 - £37,890 a year          Bristol  Bristol   \n",
       "4   £10.09 - £11.19 an hour          Bristol  Bristol   \n",
       "\n",
       "                                                Link  \n",
       "0  /rc/clk?jk=df3603c889a2574b&fccid=7d1f275fccbb...  \n",
       "1  /rc/clk?jk=f1587f9c56dd420c&fccid=3e2d0f19609a...  \n",
       "2  /rc/clk?jk=1e7f0de858321d21&fccid=3e2d0f19609a...  \n",
       "3  /rc/clk?jk=e0fc9367edc8dfd9&fccid=be7f1a7e5f11...  \n",
       "4  /company/NHS-Professionals/jobs/Covid-Vaccinat...  "
      ]
     },
     "execution_count": 64,
     "metadata": {},
     "output_type": "execute_result"
    }
   ],
   "source": [
    "bris_testdf.head()"
   ]
  },
  {
   "cell_type": "code",
   "execution_count": 65,
   "metadata": {},
   "outputs": [
    {
     "data": {
      "text/html": [
       "<div>\n",
       "<style scoped>\n",
       "    .dataframe tbody tr th:only-of-type {\n",
       "        vertical-align: middle;\n",
       "    }\n",
       "\n",
       "    .dataframe tbody tr th {\n",
       "        vertical-align: top;\n",
       "    }\n",
       "\n",
       "    .dataframe thead th {\n",
       "        text-align: right;\n",
       "    }\n",
       "</style>\n",
       "<table border=\"1\" class=\"dataframe\">\n",
       "  <thead>\n",
       "    <tr style=\"text-align: right;\">\n",
       "      <th></th>\n",
       "      <th>Job_Title</th>\n",
       "      <th>Company</th>\n",
       "      <th>Salary</th>\n",
       "      <th>Location</th>\n",
       "      <th>City</th>\n",
       "      <th>Link</th>\n",
       "    </tr>\n",
       "  </thead>\n",
       "  <tbody>\n",
       "    <tr>\n",
       "      <th>count</th>\n",
       "      <td>1011</td>\n",
       "      <td>1011</td>\n",
       "      <td>484</td>\n",
       "      <td>1011</td>\n",
       "      <td>1011</td>\n",
       "      <td>1011</td>\n",
       "    </tr>\n",
       "    <tr>\n",
       "      <th>unique</th>\n",
       "      <td>954</td>\n",
       "      <td>384</td>\n",
       "      <td>288</td>\n",
       "      <td>164</td>\n",
       "      <td>1</td>\n",
       "      <td>1011</td>\n",
       "    </tr>\n",
       "    <tr>\n",
       "      <th>top</th>\n",
       "      <td>Software Engineer</td>\n",
       "      <td>UK Government - Ministry of Defence</td>\n",
       "      <td>£40,000 a year</td>\n",
       "      <td>Bristol</td>\n",
       "      <td>Bristol</td>\n",
       "      <td>/rc/clk?jk=dce62baac5167631&amp;fccid=e69c0a966f36...</td>\n",
       "    </tr>\n",
       "    <tr>\n",
       "      <th>freq</th>\n",
       "      <td>7</td>\n",
       "      <td>41</td>\n",
       "      <td>16</td>\n",
       "      <td>375</td>\n",
       "      <td>1011</td>\n",
       "      <td>1</td>\n",
       "    </tr>\n",
       "  </tbody>\n",
       "</table>\n",
       "</div>"
      ],
      "text/plain": [
       "                Job_Title                              Company  \\\n",
       "count                1011                                 1011   \n",
       "unique                954                                  384   \n",
       "top     Software Engineer  UK Government - Ministry of Defence   \n",
       "freq                    7                                   41   \n",
       "\n",
       "                Salary Location     City  \\\n",
       "count              484     1011     1011   \n",
       "unique             288      164        1   \n",
       "top     £40,000 a year  Bristol  Bristol   \n",
       "freq                16      375     1011   \n",
       "\n",
       "                                                     Link  \n",
       "count                                                1011  \n",
       "unique                                               1011  \n",
       "top     /rc/clk?jk=dce62baac5167631&fccid=e69c0a966f36...  \n",
       "freq                                                    1  "
      ]
     },
     "execution_count": 65,
     "metadata": {},
     "output_type": "execute_result"
    }
   ],
   "source": [
    "bris_testdf.describe()"
   ]
  },
  {
   "cell_type": "markdown",
   "metadata": {},
   "source": [
    "### City 7: Leeds"
   ]
  },
  {
   "cell_type": "code",
   "execution_count": 66,
   "metadata": {},
   "outputs": [],
   "source": [
    "URLLEED = \"https://www.indeed.co.uk/jobs?q=(Data+or+Scientist+or+Data+or+Analyst+or+Data+or+Engineer+or+Machine+or+Learning+or+Engineer)+£20,000%2B&l=Leeds&radius=30&jt=fulltime&limit=50&start={}\""
   ]
  },
  {
   "cell_type": "code",
   "execution_count": 67,
   "metadata": {},
   "outputs": [
    {
     "name": "stderr",
     "output_type": "stream",
     "text": [
      "100%|██████████| 50/50 [04:17<00:00,  5.14s/it]\n"
     ]
    }
   ],
   "source": [
    "leeds_testdf = alljob_extractor(URLLEED, \"Leeds\", max_pages=2500)"
   ]
  },
  {
   "cell_type": "code",
   "execution_count": 68,
   "metadata": {},
   "outputs": [
    {
     "data": {
      "text/html": [
       "<div>\n",
       "<style scoped>\n",
       "    .dataframe tbody tr th:only-of-type {\n",
       "        vertical-align: middle;\n",
       "    }\n",
       "\n",
       "    .dataframe tbody tr th {\n",
       "        vertical-align: top;\n",
       "    }\n",
       "\n",
       "    .dataframe thead th {\n",
       "        text-align: right;\n",
       "    }\n",
       "</style>\n",
       "<table border=\"1\" class=\"dataframe\">\n",
       "  <thead>\n",
       "    <tr style=\"text-align: right;\">\n",
       "      <th></th>\n",
       "      <th>Job_Title</th>\n",
       "      <th>Company</th>\n",
       "      <th>Salary</th>\n",
       "      <th>Location</th>\n",
       "      <th>City</th>\n",
       "      <th>Link</th>\n",
       "    </tr>\n",
       "  </thead>\n",
       "  <tbody>\n",
       "    <tr>\n",
       "      <th>0</th>\n",
       "      <td>Data Analyst Industrial Placement</td>\n",
       "      <td>HM Revenue and Customs</td>\n",
       "      <td>£24,818 a year</td>\n",
       "      <td>Leeds</td>\n",
       "      <td>Leeds</td>\n",
       "      <td>/rc/clk?jk=a0e085f65822b513&amp;fccid=a0bedfafc8a9...</td>\n",
       "    </tr>\n",
       "    <tr>\n",
       "      <th>1</th>\n",
       "      <td>Data Analyst</td>\n",
       "      <td>Mazars</td>\n",
       "      <td>NaN</td>\n",
       "      <td>Leeds</td>\n",
       "      <td>Leeds</td>\n",
       "      <td>/rc/clk?jk=85d8e6ff046e93e3&amp;fccid=cf80abde47d3...</td>\n",
       "    </tr>\n",
       "    <tr>\n",
       "      <th>2</th>\n",
       "      <td>Data Analyst</td>\n",
       "      <td>Yorkshire Housing Limited</td>\n",
       "      <td>£31,384 a year</td>\n",
       "      <td>Leeds</td>\n",
       "      <td>Leeds</td>\n",
       "      <td>/rc/clk?jk=0d5811e23b04c4e3&amp;fccid=a16451726f4a...</td>\n",
       "    </tr>\n",
       "    <tr>\n",
       "      <th>3</th>\n",
       "      <td>Executive Education and Distance Learning Admi...</td>\n",
       "      <td>University of Bradford</td>\n",
       "      <td>£20,130 - £21,814 a year</td>\n",
       "      <td>Bradford</td>\n",
       "      <td>Leeds</td>\n",
       "      <td>/rc/clk?jk=f5d5331c55cc4cdf&amp;fccid=ebe1d34de054...</td>\n",
       "    </tr>\n",
       "    <tr>\n",
       "      <th>4</th>\n",
       "      <td>Manufacturing - Machine Operatives</td>\n",
       "      <td>WM Morrisons Supermarkets</td>\n",
       "      <td>NaN</td>\n",
       "      <td>Bradford</td>\n",
       "      <td>Leeds</td>\n",
       "      <td>/rc/clk?jk=6e00859599fea920&amp;fccid=815d93b338ee...</td>\n",
       "    </tr>\n",
       "  </tbody>\n",
       "</table>\n",
       "</div>"
      ],
      "text/plain": [
       "                                           Job_Title  \\\n",
       "0                  Data Analyst Industrial Placement   \n",
       "1                                       Data Analyst   \n",
       "2                                       Data Analyst   \n",
       "3  Executive Education and Distance Learning Admi...   \n",
       "4                 Manufacturing - Machine Operatives   \n",
       "\n",
       "                     Company                    Salary  Location   City  \\\n",
       "0     HM Revenue and Customs            £24,818 a year     Leeds  Leeds   \n",
       "1                     Mazars                       NaN     Leeds  Leeds   \n",
       "2  Yorkshire Housing Limited            £31,384 a year     Leeds  Leeds   \n",
       "3     University of Bradford  £20,130 - £21,814 a year  Bradford  Leeds   \n",
       "4  WM Morrisons Supermarkets                       NaN  Bradford  Leeds   \n",
       "\n",
       "                                                Link  \n",
       "0  /rc/clk?jk=a0e085f65822b513&fccid=a0bedfafc8a9...  \n",
       "1  /rc/clk?jk=85d8e6ff046e93e3&fccid=cf80abde47d3...  \n",
       "2  /rc/clk?jk=0d5811e23b04c4e3&fccid=a16451726f4a...  \n",
       "3  /rc/clk?jk=f5d5331c55cc4cdf&fccid=ebe1d34de054...  \n",
       "4  /rc/clk?jk=6e00859599fea920&fccid=815d93b338ee...  "
      ]
     },
     "execution_count": 68,
     "metadata": {},
     "output_type": "execute_result"
    }
   ],
   "source": [
    "leeds_testdf.head()"
   ]
  },
  {
   "cell_type": "code",
   "execution_count": 69,
   "metadata": {},
   "outputs": [
    {
     "data": {
      "text/html": [
       "<div>\n",
       "<style scoped>\n",
       "    .dataframe tbody tr th:only-of-type {\n",
       "        vertical-align: middle;\n",
       "    }\n",
       "\n",
       "    .dataframe tbody tr th {\n",
       "        vertical-align: top;\n",
       "    }\n",
       "\n",
       "    .dataframe thead th {\n",
       "        text-align: right;\n",
       "    }\n",
       "</style>\n",
       "<table border=\"1\" class=\"dataframe\">\n",
       "  <thead>\n",
       "    <tr style=\"text-align: right;\">\n",
       "      <th></th>\n",
       "      <th>Job_Title</th>\n",
       "      <th>Company</th>\n",
       "      <th>Salary</th>\n",
       "      <th>Location</th>\n",
       "      <th>City</th>\n",
       "      <th>Link</th>\n",
       "    </tr>\n",
       "  </thead>\n",
       "  <tbody>\n",
       "    <tr>\n",
       "      <th>count</th>\n",
       "      <td>1000</td>\n",
       "      <td>1000</td>\n",
       "      <td>560</td>\n",
       "      <td>1000</td>\n",
       "      <td>1000</td>\n",
       "      <td>1000</td>\n",
       "    </tr>\n",
       "    <tr>\n",
       "      <th>unique</th>\n",
       "      <td>940</td>\n",
       "      <td>398</td>\n",
       "      <td>320</td>\n",
       "      <td>159</td>\n",
       "      <td>1</td>\n",
       "      <td>1000</td>\n",
       "    </tr>\n",
       "    <tr>\n",
       "      <th>top</th>\n",
       "      <td>Business Analyst</td>\n",
       "      <td>Interface Recruitment</td>\n",
       "      <td>£25,000 a year</td>\n",
       "      <td>Leeds</td>\n",
       "      <td>Leeds</td>\n",
       "      <td>/rc/clk?jk=1945f0a77f6ddf5b&amp;fccid=6c46f9954c4d...</td>\n",
       "    </tr>\n",
       "    <tr>\n",
       "      <th>freq</th>\n",
       "      <td>6</td>\n",
       "      <td>63</td>\n",
       "      <td>19</td>\n",
       "      <td>344</td>\n",
       "      <td>1000</td>\n",
       "      <td>1</td>\n",
       "    </tr>\n",
       "  </tbody>\n",
       "</table>\n",
       "</div>"
      ],
      "text/plain": [
       "               Job_Title                Company          Salary Location  \\\n",
       "count               1000                   1000             560     1000   \n",
       "unique               940                    398             320      159   \n",
       "top     Business Analyst  Interface Recruitment  £25,000 a year    Leeds   \n",
       "freq                   6                     63              19      344   \n",
       "\n",
       "         City                                               Link  \n",
       "count    1000                                               1000  \n",
       "unique      1                                               1000  \n",
       "top     Leeds  /rc/clk?jk=1945f0a77f6ddf5b&fccid=6c46f9954c4d...  \n",
       "freq     1000                                                  1  "
      ]
     },
     "execution_count": 69,
     "metadata": {},
     "output_type": "execute_result"
    }
   ],
   "source": [
    "leeds_testdf.describe()"
   ]
  },
  {
   "cell_type": "markdown",
   "metadata": {},
   "source": [
    "### City 8: Brighton"
   ]
  },
  {
   "cell_type": "code",
   "execution_count": 70,
   "metadata": {},
   "outputs": [],
   "source": [
    "URLBRIG = \"https://www.indeed.co.uk/jobs?q=(Data+or+Scientist+or+Data+or+Analyst+or+Data+or+Engineer+or+Machine+or+Learning+or+Engineer)+£20,000%2B&l=Brighton&radius=30&jt=fulltime&limit=50&start={}\""
   ]
  },
  {
   "cell_type": "code",
   "execution_count": 71,
   "metadata": {},
   "outputs": [
    {
     "name": "stderr",
     "output_type": "stream",
     "text": [
      "100%|██████████| 50/50 [04:29<00:00,  5.39s/it]\n"
     ]
    }
   ],
   "source": [
    "brigh_testdf = alljob_extractor(URLBRIG, \"Brighton\", max_pages=2500)"
   ]
  },
  {
   "cell_type": "code",
   "execution_count": 72,
   "metadata": {},
   "outputs": [
    {
     "data": {
      "text/html": [
       "<div>\n",
       "<style scoped>\n",
       "    .dataframe tbody tr th:only-of-type {\n",
       "        vertical-align: middle;\n",
       "    }\n",
       "\n",
       "    .dataframe tbody tr th {\n",
       "        vertical-align: top;\n",
       "    }\n",
       "\n",
       "    .dataframe thead th {\n",
       "        text-align: right;\n",
       "    }\n",
       "</style>\n",
       "<table border=\"1\" class=\"dataframe\">\n",
       "  <thead>\n",
       "    <tr style=\"text-align: right;\">\n",
       "      <th></th>\n",
       "      <th>Job_Title</th>\n",
       "      <th>Company</th>\n",
       "      <th>Salary</th>\n",
       "      <th>Location</th>\n",
       "      <th>City</th>\n",
       "      <th>Link</th>\n",
       "    </tr>\n",
       "  </thead>\n",
       "  <tbody>\n",
       "    <tr>\n",
       "      <th>0</th>\n",
       "      <td>Public Health Data Analyst</td>\n",
       "      <td>East Sussex County Council</td>\n",
       "      <td>£29,594 - £31,968 a year</td>\n",
       "      <td>Lewes</td>\n",
       "      <td>Brighton</td>\n",
       "      <td>/rc/clk?jk=803903688dc3065f&amp;fccid=a16fa495e127...</td>\n",
       "    </tr>\n",
       "    <tr>\n",
       "      <th>1</th>\n",
       "      <td>Online Distance Learning Coordinator</td>\n",
       "      <td>University of Sussex</td>\n",
       "      <td>£21,814 - £25,217 a year</td>\n",
       "      <td>Brighton</td>\n",
       "      <td>Brighton</td>\n",
       "      <td>/rc/clk?jk=6f62681517a428d3&amp;fccid=5aa1e8076bd7...</td>\n",
       "    </tr>\n",
       "    <tr>\n",
       "      <th>2</th>\n",
       "      <td>Data Scientist - Remote</td>\n",
       "      <td>IQVIA</td>\n",
       "      <td>NaN</td>\n",
       "      <td>Brighton</td>\n",
       "      <td>Brighton</td>\n",
       "      <td>/rc/clk?jk=70fccbad7ec3e485&amp;fccid=6b7a1dfe07e7...</td>\n",
       "    </tr>\n",
       "    <tr>\n",
       "      <th>3</th>\n",
       "      <td>Trainee Performance and Intelligence Analyst</td>\n",
       "      <td>Sussex NHS Commissioners</td>\n",
       "      <td>£21,892 - £24,157 a year</td>\n",
       "      <td>Hove</td>\n",
       "      <td>Brighton</td>\n",
       "      <td>/rc/clk?jk=87b773d728e51b4e&amp;fccid=bee895d04f2d...</td>\n",
       "    </tr>\n",
       "    <tr>\n",
       "      <th>4</th>\n",
       "      <td>Analytical Development Analyst</td>\n",
       "      <td>Custom Pharma Services</td>\n",
       "      <td>NaN</td>\n",
       "      <td>Brighton BN2</td>\n",
       "      <td>Brighton</td>\n",
       "      <td>/rc/clk?jk=de90e33937a44c27&amp;fccid=3ad52c1e2844...</td>\n",
       "    </tr>\n",
       "  </tbody>\n",
       "</table>\n",
       "</div>"
      ],
      "text/plain": [
       "                                      Job_Title                     Company  \\\n",
       "0                    Public Health Data Analyst  East Sussex County Council   \n",
       "1          Online Distance Learning Coordinator        University of Sussex   \n",
       "2                       Data Scientist - Remote                       IQVIA   \n",
       "3  Trainee Performance and Intelligence Analyst    Sussex NHS Commissioners   \n",
       "4                Analytical Development Analyst      Custom Pharma Services   \n",
       "\n",
       "                     Salary      Location      City  \\\n",
       "0  £29,594 - £31,968 a year         Lewes  Brighton   \n",
       "1  £21,814 - £25,217 a year      Brighton  Brighton   \n",
       "2                       NaN      Brighton  Brighton   \n",
       "3  £21,892 - £24,157 a year          Hove  Brighton   \n",
       "4                       NaN  Brighton BN2  Brighton   \n",
       "\n",
       "                                                Link  \n",
       "0  /rc/clk?jk=803903688dc3065f&fccid=a16fa495e127...  \n",
       "1  /rc/clk?jk=6f62681517a428d3&fccid=5aa1e8076bd7...  \n",
       "2  /rc/clk?jk=70fccbad7ec3e485&fccid=6b7a1dfe07e7...  \n",
       "3  /rc/clk?jk=87b773d728e51b4e&fccid=bee895d04f2d...  \n",
       "4  /rc/clk?jk=de90e33937a44c27&fccid=3ad52c1e2844...  "
      ]
     },
     "execution_count": 72,
     "metadata": {},
     "output_type": "execute_result"
    }
   ],
   "source": [
    "brigh_testdf.head()"
   ]
  },
  {
   "cell_type": "code",
   "execution_count": 73,
   "metadata": {},
   "outputs": [
    {
     "data": {
      "text/html": [
       "<div>\n",
       "<style scoped>\n",
       "    .dataframe tbody tr th:only-of-type {\n",
       "        vertical-align: middle;\n",
       "    }\n",
       "\n",
       "    .dataframe tbody tr th {\n",
       "        vertical-align: top;\n",
       "    }\n",
       "\n",
       "    .dataframe thead th {\n",
       "        text-align: right;\n",
       "    }\n",
       "</style>\n",
       "<table border=\"1\" class=\"dataframe\">\n",
       "  <thead>\n",
       "    <tr style=\"text-align: right;\">\n",
       "      <th></th>\n",
       "      <th>Job_Title</th>\n",
       "      <th>Company</th>\n",
       "      <th>Salary</th>\n",
       "      <th>Location</th>\n",
       "      <th>City</th>\n",
       "      <th>Link</th>\n",
       "    </tr>\n",
       "  </thead>\n",
       "  <tbody>\n",
       "    <tr>\n",
       "      <th>count</th>\n",
       "      <td>1017</td>\n",
       "      <td>1017</td>\n",
       "      <td>625</td>\n",
       "      <td>1017</td>\n",
       "      <td>1017</td>\n",
       "      <td>1017</td>\n",
       "    </tr>\n",
       "    <tr>\n",
       "      <th>unique</th>\n",
       "      <td>912</td>\n",
       "      <td>504</td>\n",
       "      <td>342</td>\n",
       "      <td>269</td>\n",
       "      <td>1</td>\n",
       "      <td>1017</td>\n",
       "    </tr>\n",
       "    <tr>\n",
       "      <th>top</th>\n",
       "      <td>Staff Nurse</td>\n",
       "      <td>SYK Recruitment Specialists</td>\n",
       "      <td>£31,365 - £37,890 a year</td>\n",
       "      <td>Brighton</td>\n",
       "      <td>Brighton</td>\n",
       "      <td>/rc/clk?jk=52c5aa9baa7ff82d&amp;fccid=d9caf355bb5b...</td>\n",
       "    </tr>\n",
       "    <tr>\n",
       "      <th>freq</th>\n",
       "      <td>9</td>\n",
       "      <td>17</td>\n",
       "      <td>24</td>\n",
       "      <td>169</td>\n",
       "      <td>1017</td>\n",
       "      <td>1</td>\n",
       "    </tr>\n",
       "  </tbody>\n",
       "</table>\n",
       "</div>"
      ],
      "text/plain": [
       "          Job_Title                      Company                    Salary  \\\n",
       "count          1017                         1017                       625   \n",
       "unique          912                          504                       342   \n",
       "top     Staff Nurse  SYK Recruitment Specialists  £31,365 - £37,890 a year   \n",
       "freq              9                           17                        24   \n",
       "\n",
       "        Location      City                                               Link  \n",
       "count       1017      1017                                               1017  \n",
       "unique       269         1                                               1017  \n",
       "top     Brighton  Brighton  /rc/clk?jk=52c5aa9baa7ff82d&fccid=d9caf355bb5b...  \n",
       "freq         169      1017                                                  1  "
      ]
     },
     "execution_count": 73,
     "metadata": {},
     "output_type": "execute_result"
    }
   ],
   "source": [
    "brigh_testdf.describe()"
   ]
  },
  {
   "cell_type": "markdown",
   "metadata": {},
   "source": [
    "### City 9: Glasgow"
   ]
  },
  {
   "cell_type": "code",
   "execution_count": 74,
   "metadata": {},
   "outputs": [],
   "source": [
    "URLGLW = \"https://www.indeed.co.uk/jobs?q=(Data+or+Scientist+or+Data+or+Analyst+or+Data+or+Engineer+or+Machine+or+Learning+or+Engineer)+£20,000%2B&l=Glasgow&radius=30&jt=fulltime&limit=50&start={}\""
   ]
  },
  {
   "cell_type": "code",
   "execution_count": 75,
   "metadata": {},
   "outputs": [
    {
     "name": "stderr",
     "output_type": "stream",
     "text": [
      "100%|██████████| 50/50 [04:21<00:00,  5.23s/it]\n"
     ]
    }
   ],
   "source": [
    "glw_testdf = alljob_extractor(URLGLW, \"Glasgow\", max_pages=2500)"
   ]
  },
  {
   "cell_type": "code",
   "execution_count": 76,
   "metadata": {},
   "outputs": [
    {
     "data": {
      "text/html": [
       "<div>\n",
       "<style scoped>\n",
       "    .dataframe tbody tr th:only-of-type {\n",
       "        vertical-align: middle;\n",
       "    }\n",
       "\n",
       "    .dataframe tbody tr th {\n",
       "        vertical-align: top;\n",
       "    }\n",
       "\n",
       "    .dataframe thead th {\n",
       "        text-align: right;\n",
       "    }\n",
       "</style>\n",
       "<table border=\"1\" class=\"dataframe\">\n",
       "  <thead>\n",
       "    <tr style=\"text-align: right;\">\n",
       "      <th></th>\n",
       "      <th>Job_Title</th>\n",
       "      <th>Company</th>\n",
       "      <th>Salary</th>\n",
       "      <th>Location</th>\n",
       "      <th>City</th>\n",
       "      <th>Link</th>\n",
       "    </tr>\n",
       "  </thead>\n",
       "  <tbody>\n",
       "    <tr>\n",
       "      <th>0</th>\n",
       "      <td>Education Officer - Community Learning and Dev...</td>\n",
       "      <td>Scottish Government</td>\n",
       "      <td>£48,930 - £61,006 a year</td>\n",
       "      <td>Glasgow</td>\n",
       "      <td>Glasgow</td>\n",
       "      <td>/rc/clk?jk=128bcdf56da7f7a4&amp;fccid=7bbf7f016062...</td>\n",
       "    </tr>\n",
       "    <tr>\n",
       "      <th>1</th>\n",
       "      <td>Education Officer – Community Learning and Dev...</td>\n",
       "      <td>Scottish Government</td>\n",
       "      <td>£48,930 - £61,006 a year</td>\n",
       "      <td>Glasgow</td>\n",
       "      <td>Glasgow</td>\n",
       "      <td>/rc/clk?jk=cda2a19d57c4c28a&amp;fccid=7bbf7f016062...</td>\n",
       "    </tr>\n",
       "    <tr>\n",
       "      <th>2</th>\n",
       "      <td>Scientist 1</td>\n",
       "      <td>Merck KGaA</td>\n",
       "      <td>NaN</td>\n",
       "      <td>Glasgow G20 0XA</td>\n",
       "      <td>Glasgow</td>\n",
       "      <td>/rc/clk?jk=8f7961de43e543b9&amp;fccid=68d0e0954a81...</td>\n",
       "    </tr>\n",
       "    <tr>\n",
       "      <th>3</th>\n",
       "      <td>Digital Engagement Officer -</td>\n",
       "      <td>Scottish Government</td>\n",
       "      <td>£30,652 - £35,110 a year</td>\n",
       "      <td>Glasgow G2 8LU</td>\n",
       "      <td>Glasgow</td>\n",
       "      <td>/rc/clk?jk=c40e275f15abdd4e&amp;fccid=7bbf7f016062...</td>\n",
       "    </tr>\n",
       "    <tr>\n",
       "      <th>4</th>\n",
       "      <td>Cash Management Analyst</td>\n",
       "      <td>AGS Airports</td>\n",
       "      <td>£23,132 a year</td>\n",
       "      <td>Glasgow PA3</td>\n",
       "      <td>Glasgow</td>\n",
       "      <td>/rc/clk?jk=c3f53130b6a891f1&amp;fccid=428cf1fa71b8...</td>\n",
       "    </tr>\n",
       "  </tbody>\n",
       "</table>\n",
       "</div>"
      ],
      "text/plain": [
       "                                           Job_Title              Company  \\\n",
       "0  Education Officer - Community Learning and Dev...  Scottish Government   \n",
       "1  Education Officer – Community Learning and Dev...  Scottish Government   \n",
       "2                                        Scientist 1           Merck KGaA   \n",
       "3                       Digital Engagement Officer -  Scottish Government   \n",
       "4                            Cash Management Analyst         AGS Airports   \n",
       "\n",
       "                     Salary         Location     City  \\\n",
       "0  £48,930 - £61,006 a year          Glasgow  Glasgow   \n",
       "1  £48,930 - £61,006 a year          Glasgow  Glasgow   \n",
       "2                       NaN  Glasgow G20 0XA  Glasgow   \n",
       "3  £30,652 - £35,110 a year   Glasgow G2 8LU  Glasgow   \n",
       "4            £23,132 a year      Glasgow PA3  Glasgow   \n",
       "\n",
       "                                                Link  \n",
       "0  /rc/clk?jk=128bcdf56da7f7a4&fccid=7bbf7f016062...  \n",
       "1  /rc/clk?jk=cda2a19d57c4c28a&fccid=7bbf7f016062...  \n",
       "2  /rc/clk?jk=8f7961de43e543b9&fccid=68d0e0954a81...  \n",
       "3  /rc/clk?jk=c40e275f15abdd4e&fccid=7bbf7f016062...  \n",
       "4  /rc/clk?jk=c3f53130b6a891f1&fccid=428cf1fa71b8...  "
      ]
     },
     "execution_count": 76,
     "metadata": {},
     "output_type": "execute_result"
    }
   ],
   "source": [
    "glw_testdf.head()"
   ]
  },
  {
   "cell_type": "code",
   "execution_count": 77,
   "metadata": {},
   "outputs": [
    {
     "data": {
      "text/html": [
       "<div>\n",
       "<style scoped>\n",
       "    .dataframe tbody tr th:only-of-type {\n",
       "        vertical-align: middle;\n",
       "    }\n",
       "\n",
       "    .dataframe tbody tr th {\n",
       "        vertical-align: top;\n",
       "    }\n",
       "\n",
       "    .dataframe thead th {\n",
       "        text-align: right;\n",
       "    }\n",
       "</style>\n",
       "<table border=\"1\" class=\"dataframe\">\n",
       "  <thead>\n",
       "    <tr style=\"text-align: right;\">\n",
       "      <th></th>\n",
       "      <th>Job_Title</th>\n",
       "      <th>Company</th>\n",
       "      <th>Salary</th>\n",
       "      <th>Location</th>\n",
       "      <th>City</th>\n",
       "      <th>Link</th>\n",
       "    </tr>\n",
       "  </thead>\n",
       "  <tbody>\n",
       "    <tr>\n",
       "      <th>count</th>\n",
       "      <td>1013</td>\n",
       "      <td>1013</td>\n",
       "      <td>430</td>\n",
       "      <td>1013</td>\n",
       "      <td>1013</td>\n",
       "      <td>1013</td>\n",
       "    </tr>\n",
       "    <tr>\n",
       "      <th>unique</th>\n",
       "      <td>915</td>\n",
       "      <td>446</td>\n",
       "      <td>253</td>\n",
       "      <td>203</td>\n",
       "      <td>1</td>\n",
       "      <td>1013</td>\n",
       "    </tr>\n",
       "    <tr>\n",
       "      <th>top</th>\n",
       "      <td>Team Leader</td>\n",
       "      <td>JPMorgan Chase Bank, N.A.</td>\n",
       "      <td>£35,000 a year</td>\n",
       "      <td>Glasgow</td>\n",
       "      <td>Glasgow</td>\n",
       "      <td>/company/GWG-Associates/jobs/Graduate-Data-Ana...</td>\n",
       "    </tr>\n",
       "    <tr>\n",
       "      <th>freq</th>\n",
       "      <td>7</td>\n",
       "      <td>47</td>\n",
       "      <td>11</td>\n",
       "      <td>506</td>\n",
       "      <td>1013</td>\n",
       "      <td>1</td>\n",
       "    </tr>\n",
       "  </tbody>\n",
       "</table>\n",
       "</div>"
      ],
      "text/plain": [
       "          Job_Title                    Company          Salary Location  \\\n",
       "count          1013                       1013             430     1013   \n",
       "unique          915                        446             253      203   \n",
       "top     Team Leader  JPMorgan Chase Bank, N.A.  £35,000 a year  Glasgow   \n",
       "freq              7                         47              11      506   \n",
       "\n",
       "           City                                               Link  \n",
       "count      1013                                               1013  \n",
       "unique        1                                               1013  \n",
       "top     Glasgow  /company/GWG-Associates/jobs/Graduate-Data-Ana...  \n",
       "freq       1013                                                  1  "
      ]
     },
     "execution_count": 77,
     "metadata": {},
     "output_type": "execute_result"
    }
   ],
   "source": [
    "glw_testdf.describe()"
   ]
  },
  {
   "cell_type": "markdown",
   "metadata": {},
   "source": [
    "### City 10: Nottingham"
   ]
  },
  {
   "cell_type": "code",
   "execution_count": 78,
   "metadata": {},
   "outputs": [],
   "source": [
    "URLNOTT = \"https://www.indeed.co.uk/jobs?q=(Data+or+Scientist+or+Data+or+Analyst+or+Data+or+Engineer+or+Machine+or+Learning+or+Engineer)+£20,000%2B&l=Nottingham&radius=30&jt=fulltime&limit=50&start={}\""
   ]
  },
  {
   "cell_type": "code",
   "execution_count": 79,
   "metadata": {},
   "outputs": [
    {
     "name": "stderr",
     "output_type": "stream",
     "text": [
      "100%|██████████| 50/50 [04:34<00:00,  5.50s/it]\n"
     ]
    }
   ],
   "source": [
    "nott_testdf = alljob_extractor(URLNOTT, \"Nottingham\", max_pages=2500)"
   ]
  },
  {
   "cell_type": "code",
   "execution_count": 80,
   "metadata": {},
   "outputs": [
    {
     "data": {
      "text/html": [
       "<div>\n",
       "<style scoped>\n",
       "    .dataframe tbody tr th:only-of-type {\n",
       "        vertical-align: middle;\n",
       "    }\n",
       "\n",
       "    .dataframe tbody tr th {\n",
       "        vertical-align: top;\n",
       "    }\n",
       "\n",
       "    .dataframe thead th {\n",
       "        text-align: right;\n",
       "    }\n",
       "</style>\n",
       "<table border=\"1\" class=\"dataframe\">\n",
       "  <thead>\n",
       "    <tr style=\"text-align: right;\">\n",
       "      <th></th>\n",
       "      <th>Job_Title</th>\n",
       "      <th>Company</th>\n",
       "      <th>Salary</th>\n",
       "      <th>Location</th>\n",
       "      <th>City</th>\n",
       "      <th>Link</th>\n",
       "    </tr>\n",
       "  </thead>\n",
       "  <tbody>\n",
       "    <tr>\n",
       "      <th>0</th>\n",
       "      <td>Data Scientist</td>\n",
       "      <td>Boots</td>\n",
       "      <td>NaN</td>\n",
       "      <td>Nottingham</td>\n",
       "      <td>Nottingham</td>\n",
       "      <td>/rc/clk?jk=1a3d06dd529b03a6&amp;fccid=72a97bc93221...</td>\n",
       "    </tr>\n",
       "    <tr>\n",
       "      <th>1</th>\n",
       "      <td>Data Analyst x 2 (Mon-Fri 5am-1pm and 7am-3pm)</td>\n",
       "      <td>Page Personnel - UK</td>\n",
       "      <td>£11 - £12 an hour</td>\n",
       "      <td>Nottingham</td>\n",
       "      <td>Nottingham</td>\n",
       "      <td>/rc/clk?jk=3474311a07d0a048&amp;fccid=e5ea1ff710ce...</td>\n",
       "    </tr>\n",
       "    <tr>\n",
       "      <th>2</th>\n",
       "      <td>Data Administrator</td>\n",
       "      <td>SF Recruitment</td>\n",
       "      <td>£10 - £11 an hour</td>\n",
       "      <td>Nottingham</td>\n",
       "      <td>Nottingham</td>\n",
       "      <td>/rc/clk?jk=1efd7e5815431a45&amp;fccid=dbade4ef28af...</td>\n",
       "    </tr>\n",
       "    <tr>\n",
       "      <th>3</th>\n",
       "      <td>HO - Adjudicator's Office Investigator</td>\n",
       "      <td>HM Revenue and Customs</td>\n",
       "      <td>£30,880 - £34,310 a year</td>\n",
       "      <td>Nottingham NG2</td>\n",
       "      <td>Nottingham</td>\n",
       "      <td>/rc/clk?jk=99847a16906fd37a&amp;fccid=a0bedfafc8a9...</td>\n",
       "    </tr>\n",
       "    <tr>\n",
       "      <th>4</th>\n",
       "      <td>HO - Data Exploitation Analysts</td>\n",
       "      <td>HM Revenue and Customs</td>\n",
       "      <td>£30,880 - £34,310 a year</td>\n",
       "      <td>Nottingham</td>\n",
       "      <td>Nottingham</td>\n",
       "      <td>/rc/clk?jk=0018e6d48ce2db7b&amp;fccid=a0bedfafc8a9...</td>\n",
       "    </tr>\n",
       "  </tbody>\n",
       "</table>\n",
       "</div>"
      ],
      "text/plain": [
       "                                        Job_Title                 Company  \\\n",
       "0                                  Data Scientist                   Boots   \n",
       "1  Data Analyst x 2 (Mon-Fri 5am-1pm and 7am-3pm)     Page Personnel - UK   \n",
       "2                              Data Administrator          SF Recruitment   \n",
       "3          HO - Adjudicator's Office Investigator  HM Revenue and Customs   \n",
       "4                 HO - Data Exploitation Analysts  HM Revenue and Customs   \n",
       "\n",
       "                     Salary        Location        City  \\\n",
       "0                       NaN      Nottingham  Nottingham   \n",
       "1         £11 - £12 an hour      Nottingham  Nottingham   \n",
       "2         £10 - £11 an hour      Nottingham  Nottingham   \n",
       "3  £30,880 - £34,310 a year  Nottingham NG2  Nottingham   \n",
       "4  £30,880 - £34,310 a year      Nottingham  Nottingham   \n",
       "\n",
       "                                                Link  \n",
       "0  /rc/clk?jk=1a3d06dd529b03a6&fccid=72a97bc93221...  \n",
       "1  /rc/clk?jk=3474311a07d0a048&fccid=e5ea1ff710ce...  \n",
       "2  /rc/clk?jk=1efd7e5815431a45&fccid=dbade4ef28af...  \n",
       "3  /rc/clk?jk=99847a16906fd37a&fccid=a0bedfafc8a9...  \n",
       "4  /rc/clk?jk=0018e6d48ce2db7b&fccid=a0bedfafc8a9...  "
      ]
     },
     "execution_count": 80,
     "metadata": {},
     "output_type": "execute_result"
    }
   ],
   "source": [
    "nott_testdf.head()"
   ]
  },
  {
   "cell_type": "code",
   "execution_count": 81,
   "metadata": {},
   "outputs": [
    {
     "data": {
      "text/html": [
       "<div>\n",
       "<style scoped>\n",
       "    .dataframe tbody tr th:only-of-type {\n",
       "        vertical-align: middle;\n",
       "    }\n",
       "\n",
       "    .dataframe tbody tr th {\n",
       "        vertical-align: top;\n",
       "    }\n",
       "\n",
       "    .dataframe thead th {\n",
       "        text-align: right;\n",
       "    }\n",
       "</style>\n",
       "<table border=\"1\" class=\"dataframe\">\n",
       "  <thead>\n",
       "    <tr style=\"text-align: right;\">\n",
       "      <th></th>\n",
       "      <th>Job_Title</th>\n",
       "      <th>Company</th>\n",
       "      <th>Salary</th>\n",
       "      <th>Location</th>\n",
       "      <th>City</th>\n",
       "      <th>Link</th>\n",
       "    </tr>\n",
       "  </thead>\n",
       "  <tbody>\n",
       "    <tr>\n",
       "      <th>count</th>\n",
       "      <td>1001</td>\n",
       "      <td>1001</td>\n",
       "      <td>508</td>\n",
       "      <td>1001</td>\n",
       "      <td>1001</td>\n",
       "      <td>1001</td>\n",
       "    </tr>\n",
       "    <tr>\n",
       "      <th>unique</th>\n",
       "      <td>957</td>\n",
       "      <td>346</td>\n",
       "      <td>297</td>\n",
       "      <td>200</td>\n",
       "      <td>1</td>\n",
       "      <td>1001</td>\n",
       "    </tr>\n",
       "    <tr>\n",
       "      <th>top</th>\n",
       "      <td>Registered Nurse</td>\n",
       "      <td>Nottingham University Hospitals NHS Trust</td>\n",
       "      <td>£31,365 - £37,890 a year</td>\n",
       "      <td>Nottingham</td>\n",
       "      <td>Nottingham</td>\n",
       "      <td>/rc/clk?jk=3cb04d492cf05406&amp;fccid=b85c5070c3d3...</td>\n",
       "    </tr>\n",
       "    <tr>\n",
       "      <th>freq</th>\n",
       "      <td>5</td>\n",
       "      <td>63</td>\n",
       "      <td>37</td>\n",
       "      <td>328</td>\n",
       "      <td>1001</td>\n",
       "      <td>1</td>\n",
       "    </tr>\n",
       "  </tbody>\n",
       "</table>\n",
       "</div>"
      ],
      "text/plain": [
       "               Job_Title                                    Company  \\\n",
       "count               1001                                       1001   \n",
       "unique               957                                        346   \n",
       "top     Registered Nurse  Nottingham University Hospitals NHS Trust   \n",
       "freq                   5                                         63   \n",
       "\n",
       "                          Salary    Location        City  \\\n",
       "count                        508        1001        1001   \n",
       "unique                       297         200           1   \n",
       "top     £31,365 - £37,890 a year  Nottingham  Nottingham   \n",
       "freq                          37         328        1001   \n",
       "\n",
       "                                                     Link  \n",
       "count                                                1001  \n",
       "unique                                               1001  \n",
       "top     /rc/clk?jk=3cb04d492cf05406&fccid=b85c5070c3d3...  \n",
       "freq                                                    1  "
      ]
     },
     "execution_count": 81,
     "metadata": {},
     "output_type": "execute_result"
    }
   ],
   "source": [
    "nott_testdf.describe()"
   ]
  },
  {
   "cell_type": "markdown",
   "metadata": {},
   "source": [
    "### City 11: Belfast"
   ]
  },
  {
   "cell_type": "code",
   "execution_count": 82,
   "metadata": {},
   "outputs": [],
   "source": [
    "URLBELF = \"https://www.indeed.co.uk/jobs?q=(Data+or+Scientist+or+Data+or+Analyst+or+Data+or+Engineer+or+Machine+or+Learning+or+Engineer)+£20,000%2B&l=Belfast&radius=30&jt=fulltime&limit=50&start={}\""
   ]
  },
  {
   "cell_type": "code",
   "execution_count": 83,
   "metadata": {},
   "outputs": [
    {
     "name": "stderr",
     "output_type": "stream",
     "text": [
      "100%|██████████| 50/50 [04:31<00:00,  5.42s/it]\n"
     ]
    }
   ],
   "source": [
    "belf_testdf = alljob_extractor(URLBELF, \"Belfast\", max_pages=2500)"
   ]
  },
  {
   "cell_type": "code",
   "execution_count": 84,
   "metadata": {},
   "outputs": [
    {
     "data": {
      "text/html": [
       "<div>\n",
       "<style scoped>\n",
       "    .dataframe tbody tr th:only-of-type {\n",
       "        vertical-align: middle;\n",
       "    }\n",
       "\n",
       "    .dataframe tbody tr th {\n",
       "        vertical-align: top;\n",
       "    }\n",
       "\n",
       "    .dataframe thead th {\n",
       "        text-align: right;\n",
       "    }\n",
       "</style>\n",
       "<table border=\"1\" class=\"dataframe\">\n",
       "  <thead>\n",
       "    <tr style=\"text-align: right;\">\n",
       "      <th></th>\n",
       "      <th>Job_Title</th>\n",
       "      <th>Company</th>\n",
       "      <th>Salary</th>\n",
       "      <th>Location</th>\n",
       "      <th>City</th>\n",
       "      <th>Link</th>\n",
       "    </tr>\n",
       "  </thead>\n",
       "  <tbody>\n",
       "    <tr>\n",
       "      <th>0</th>\n",
       "      <td>Resourcing Assistant</td>\n",
       "      <td>The Open University UK</td>\n",
       "      <td>£23,067 - £25,941 a year</td>\n",
       "      <td>Belfast</td>\n",
       "      <td>Belfast</td>\n",
       "      <td>/rc/clk?jk=1184afa5bb1ab8c7&amp;fccid=f97e46d24243...</td>\n",
       "    </tr>\n",
       "    <tr>\n",
       "      <th>1</th>\n",
       "      <td>SAS Data Analyst</td>\n",
       "      <td>Celerion</td>\n",
       "      <td>NaN</td>\n",
       "      <td>Belfast</td>\n",
       "      <td>Belfast</td>\n",
       "      <td>/rc/clk?jk=e1d8aa8e78718c6f&amp;fccid=b082f79c25a0...</td>\n",
       "    </tr>\n",
       "    <tr>\n",
       "      <th>2</th>\n",
       "      <td>Data Engineer</td>\n",
       "      <td>Kainos</td>\n",
       "      <td>NaN</td>\n",
       "      <td>Belfast</td>\n",
       "      <td>Belfast</td>\n",
       "      <td>/rc/clk?jk=02a529d99ca5f7f6&amp;fccid=538421af10c1...</td>\n",
       "    </tr>\n",
       "    <tr>\n",
       "      <th>3</th>\n",
       "      <td>Markets KYC Controls Analyst (C09)</td>\n",
       "      <td>Citi</td>\n",
       "      <td>NaN</td>\n",
       "      <td>Belfast</td>\n",
       "      <td>Belfast</td>\n",
       "      <td>/rc/clk?jk=7636223292e566a8&amp;fccid=5bcd1ef0a7f4...</td>\n",
       "    </tr>\n",
       "    <tr>\n",
       "      <th>4</th>\n",
       "      <td>Senior Data Scientist</td>\n",
       "      <td>BazaarVoice</td>\n",
       "      <td>NaN</td>\n",
       "      <td>Belfast</td>\n",
       "      <td>Belfast</td>\n",
       "      <td>/rc/clk?jk=a1b1979c2ac3964a&amp;fccid=e258616ae912...</td>\n",
       "    </tr>\n",
       "  </tbody>\n",
       "</table>\n",
       "</div>"
      ],
      "text/plain": [
       "                            Job_Title                 Company  \\\n",
       "0                Resourcing Assistant  The Open University UK   \n",
       "1                    SAS Data Analyst                Celerion   \n",
       "2                       Data Engineer                  Kainos   \n",
       "3  Markets KYC Controls Analyst (C09)                    Citi   \n",
       "4               Senior Data Scientist             BazaarVoice   \n",
       "\n",
       "                     Salary Location     City  \\\n",
       "0  £23,067 - £25,941 a year  Belfast  Belfast   \n",
       "1                       NaN  Belfast  Belfast   \n",
       "2                       NaN  Belfast  Belfast   \n",
       "3                       NaN  Belfast  Belfast   \n",
       "4                       NaN  Belfast  Belfast   \n",
       "\n",
       "                                                Link  \n",
       "0  /rc/clk?jk=1184afa5bb1ab8c7&fccid=f97e46d24243...  \n",
       "1  /rc/clk?jk=e1d8aa8e78718c6f&fccid=b082f79c25a0...  \n",
       "2  /rc/clk?jk=02a529d99ca5f7f6&fccid=538421af10c1...  \n",
       "3  /rc/clk?jk=7636223292e566a8&fccid=5bcd1ef0a7f4...  \n",
       "4  /rc/clk?jk=a1b1979c2ac3964a&fccid=e258616ae912...  "
      ]
     },
     "execution_count": 84,
     "metadata": {},
     "output_type": "execute_result"
    }
   ],
   "source": [
    "belf_testdf.head()"
   ]
  },
  {
   "cell_type": "code",
   "execution_count": 85,
   "metadata": {},
   "outputs": [
    {
     "data": {
      "text/html": [
       "<div>\n",
       "<style scoped>\n",
       "    .dataframe tbody tr th:only-of-type {\n",
       "        vertical-align: middle;\n",
       "    }\n",
       "\n",
       "    .dataframe tbody tr th {\n",
       "        vertical-align: top;\n",
       "    }\n",
       "\n",
       "    .dataframe thead th {\n",
       "        text-align: right;\n",
       "    }\n",
       "</style>\n",
       "<table border=\"1\" class=\"dataframe\">\n",
       "  <thead>\n",
       "    <tr style=\"text-align: right;\">\n",
       "      <th></th>\n",
       "      <th>Job_Title</th>\n",
       "      <th>Company</th>\n",
       "      <th>Salary</th>\n",
       "      <th>Location</th>\n",
       "      <th>City</th>\n",
       "      <th>Link</th>\n",
       "    </tr>\n",
       "  </thead>\n",
       "  <tbody>\n",
       "    <tr>\n",
       "      <th>count</th>\n",
       "      <td>660</td>\n",
       "      <td>660</td>\n",
       "      <td>246</td>\n",
       "      <td>660</td>\n",
       "      <td>660</td>\n",
       "      <td>660</td>\n",
       "    </tr>\n",
       "    <tr>\n",
       "      <th>unique</th>\n",
       "      <td>596</td>\n",
       "      <td>256</td>\n",
       "      <td>153</td>\n",
       "      <td>103</td>\n",
       "      <td>1</td>\n",
       "      <td>660</td>\n",
       "    </tr>\n",
       "    <tr>\n",
       "      <th>top</th>\n",
       "      <td>Senior Software Engineer</td>\n",
       "      <td>Citi</td>\n",
       "      <td>£25,000 - £30,000 a year</td>\n",
       "      <td>Belfast</td>\n",
       "      <td>Belfast</td>\n",
       "      <td>/rc/clk?jk=2949d44366b0b3a9&amp;fccid=5bcd1ef0a7f4...</td>\n",
       "    </tr>\n",
       "    <tr>\n",
       "      <th>freq</th>\n",
       "      <td>8</td>\n",
       "      <td>44</td>\n",
       "      <td>10</td>\n",
       "      <td>408</td>\n",
       "      <td>660</td>\n",
       "      <td>1</td>\n",
       "    </tr>\n",
       "  </tbody>\n",
       "</table>\n",
       "</div>"
      ],
      "text/plain": [
       "                       Job_Title Company                    Salary Location  \\\n",
       "count                        660     660                       246      660   \n",
       "unique                       596     256                       153      103   \n",
       "top     Senior Software Engineer    Citi  £25,000 - £30,000 a year  Belfast   \n",
       "freq                           8      44                        10      408   \n",
       "\n",
       "           City                                               Link  \n",
       "count       660                                                660  \n",
       "unique        1                                                660  \n",
       "top     Belfast  /rc/clk?jk=2949d44366b0b3a9&fccid=5bcd1ef0a7f4...  \n",
       "freq        660                                                  1  "
      ]
     },
     "execution_count": 85,
     "metadata": {},
     "output_type": "execute_result"
    }
   ],
   "source": [
    "belf_testdf.describe()"
   ]
  },
  {
   "cell_type": "markdown",
   "metadata": {},
   "source": [
    "### City 12: Cambridge"
   ]
  },
  {
   "cell_type": "code",
   "execution_count": 86,
   "metadata": {},
   "outputs": [],
   "source": [
    "URLCAMB = \"https://www.indeed.co.uk/jobs?q=(Data+or+Scientist+or+Data+or+Analyst+or+Data+or+Engineer+or+Machine+or+Learning+or+Engineer)+£20,000%2B&l=Cambridge&radius=30&jt=fulltime&limit=50&start={}\""
   ]
  },
  {
   "cell_type": "code",
   "execution_count": 87,
   "metadata": {},
   "outputs": [
    {
     "name": "stderr",
     "output_type": "stream",
     "text": [
      "100%|██████████| 50/50 [03:52<00:00,  4.65s/it]\n"
     ]
    }
   ],
   "source": [
    "camb_testdf = alljob_extractor(URLCAMB, \"Cambridge\", max_pages=2500)"
   ]
  },
  {
   "cell_type": "code",
   "execution_count": 88,
   "metadata": {},
   "outputs": [
    {
     "data": {
      "text/html": [
       "<div>\n",
       "<style scoped>\n",
       "    .dataframe tbody tr th:only-of-type {\n",
       "        vertical-align: middle;\n",
       "    }\n",
       "\n",
       "    .dataframe tbody tr th {\n",
       "        vertical-align: top;\n",
       "    }\n",
       "\n",
       "    .dataframe thead th {\n",
       "        text-align: right;\n",
       "    }\n",
       "</style>\n",
       "<table border=\"1\" class=\"dataframe\">\n",
       "  <thead>\n",
       "    <tr style=\"text-align: right;\">\n",
       "      <th></th>\n",
       "      <th>Job_Title</th>\n",
       "      <th>Company</th>\n",
       "      <th>Salary</th>\n",
       "      <th>Location</th>\n",
       "      <th>City</th>\n",
       "      <th>Link</th>\n",
       "    </tr>\n",
       "  </thead>\n",
       "  <tbody>\n",
       "    <tr>\n",
       "      <th>0</th>\n",
       "      <td>DWP EO Work Coach – North and East Midlands Gr...</td>\n",
       "      <td>UK Government - Department for Work and Pensions</td>\n",
       "      <td>£27,565 a year</td>\n",
       "      <td>Cambridge</td>\n",
       "      <td>Cambridge</td>\n",
       "      <td>/rc/clk?jk=a004f375c18b3f79&amp;fccid=bde86870b61a...</td>\n",
       "    </tr>\n",
       "    <tr>\n",
       "      <th>1</th>\n",
       "      <td>Machine Learning Developer - Digital Healthcare</td>\n",
       "      <td>ElectronRx</td>\n",
       "      <td>NaN</td>\n",
       "      <td>Cambridge</td>\n",
       "      <td>Cambridge</td>\n",
       "      <td>/rc/clk?jk=087d96a718412dbe&amp;fccid=cfc4bd3973b0...</td>\n",
       "    </tr>\n",
       "    <tr>\n",
       "      <th>2</th>\n",
       "      <td>Bioinformatics/ Data Analyst - 12 weeks intern...</td>\n",
       "      <td>Illumina</td>\n",
       "      <td>NaN</td>\n",
       "      <td>Cambridge</td>\n",
       "      <td>Cambridge</td>\n",
       "      <td>/rc/clk?jk=9289a33daa44a7cd&amp;fccid=8524239b088a...</td>\n",
       "    </tr>\n",
       "    <tr>\n",
       "      <th>3</th>\n",
       "      <td>Biomedical Scientist</td>\n",
       "      <td>Nuffield Health</td>\n",
       "      <td>£27,500 - £35,750 a year</td>\n",
       "      <td>Cambridge</td>\n",
       "      <td>Cambridge</td>\n",
       "      <td>/rc/clk?jk=b2dc50e800175366&amp;fccid=3aca82fe3358...</td>\n",
       "    </tr>\n",
       "    <tr>\n",
       "      <th>4</th>\n",
       "      <td>Epic Application Analyst</td>\n",
       "      <td>Cambridge University Hospitals NHS Foundation ...</td>\n",
       "      <td>£31,365 - £37,890 a year</td>\n",
       "      <td>Cambridge CB2 0QQ</td>\n",
       "      <td>Cambridge</td>\n",
       "      <td>/rc/clk?jk=146db142913ebb35&amp;fccid=d68e40b451b3...</td>\n",
       "    </tr>\n",
       "  </tbody>\n",
       "</table>\n",
       "</div>"
      ],
      "text/plain": [
       "                                           Job_Title  \\\n",
       "0  DWP EO Work Coach – North and East Midlands Gr...   \n",
       "1    Machine Learning Developer - Digital Healthcare   \n",
       "2  Bioinformatics/ Data Analyst - 12 weeks intern...   \n",
       "3                               Biomedical Scientist   \n",
       "4                           Epic Application Analyst   \n",
       "\n",
       "                                             Company  \\\n",
       "0   UK Government - Department for Work and Pensions   \n",
       "1                                         ElectronRx   \n",
       "2                                           Illumina   \n",
       "3                                    Nuffield Health   \n",
       "4  Cambridge University Hospitals NHS Foundation ...   \n",
       "\n",
       "                     Salary           Location       City  \\\n",
       "0            £27,565 a year          Cambridge  Cambridge   \n",
       "1                       NaN          Cambridge  Cambridge   \n",
       "2                       NaN          Cambridge  Cambridge   \n",
       "3  £27,500 - £35,750 a year          Cambridge  Cambridge   \n",
       "4  £31,365 - £37,890 a year  Cambridge CB2 0QQ  Cambridge   \n",
       "\n",
       "                                                Link  \n",
       "0  /rc/clk?jk=a004f375c18b3f79&fccid=bde86870b61a...  \n",
       "1  /rc/clk?jk=087d96a718412dbe&fccid=cfc4bd3973b0...  \n",
       "2  /rc/clk?jk=9289a33daa44a7cd&fccid=8524239b088a...  \n",
       "3  /rc/clk?jk=b2dc50e800175366&fccid=3aca82fe3358...  \n",
       "4  /rc/clk?jk=146db142913ebb35&fccid=d68e40b451b3...  "
      ]
     },
     "execution_count": 88,
     "metadata": {},
     "output_type": "execute_result"
    }
   ],
   "source": [
    "camb_testdf.head()"
   ]
  },
  {
   "cell_type": "code",
   "execution_count": 89,
   "metadata": {},
   "outputs": [
    {
     "data": {
      "text/html": [
       "<div>\n",
       "<style scoped>\n",
       "    .dataframe tbody tr th:only-of-type {\n",
       "        vertical-align: middle;\n",
       "    }\n",
       "\n",
       "    .dataframe tbody tr th {\n",
       "        vertical-align: top;\n",
       "    }\n",
       "\n",
       "    .dataframe thead th {\n",
       "        text-align: right;\n",
       "    }\n",
       "</style>\n",
       "<table border=\"1\" class=\"dataframe\">\n",
       "  <thead>\n",
       "    <tr style=\"text-align: right;\">\n",
       "      <th></th>\n",
       "      <th>Job_Title</th>\n",
       "      <th>Company</th>\n",
       "      <th>Salary</th>\n",
       "      <th>Location</th>\n",
       "      <th>City</th>\n",
       "      <th>Link</th>\n",
       "    </tr>\n",
       "  </thead>\n",
       "  <tbody>\n",
       "    <tr>\n",
       "      <th>count</th>\n",
       "      <td>1000</td>\n",
       "      <td>1000</td>\n",
       "      <td>408</td>\n",
       "      <td>1000</td>\n",
       "      <td>1000</td>\n",
       "      <td>1000</td>\n",
       "    </tr>\n",
       "    <tr>\n",
       "      <th>unique</th>\n",
       "      <td>948</td>\n",
       "      <td>321</td>\n",
       "      <td>262</td>\n",
       "      <td>165</td>\n",
       "      <td>1</td>\n",
       "      <td>1000</td>\n",
       "    </tr>\n",
       "    <tr>\n",
       "      <th>top</th>\n",
       "      <td>Clinical Psychologist</td>\n",
       "      <td>Abcam</td>\n",
       "      <td>£24,907 - £30,615 a year</td>\n",
       "      <td>Cambridge</td>\n",
       "      <td>Cambridge</td>\n",
       "      <td>/rc/clk?jk=dedef3cdffdb1bcc&amp;fccid=ece6beae9e41...</td>\n",
       "    </tr>\n",
       "    <tr>\n",
       "      <th>freq</th>\n",
       "      <td>4</td>\n",
       "      <td>45</td>\n",
       "      <td>20</td>\n",
       "      <td>357</td>\n",
       "      <td>1000</td>\n",
       "      <td>1</td>\n",
       "    </tr>\n",
       "  </tbody>\n",
       "</table>\n",
       "</div>"
      ],
      "text/plain": [
       "                    Job_Title Company                    Salary   Location  \\\n",
       "count                    1000    1000                       408       1000   \n",
       "unique                    948     321                       262        165   \n",
       "top     Clinical Psychologist   Abcam  £24,907 - £30,615 a year  Cambridge   \n",
       "freq                        4      45                        20        357   \n",
       "\n",
       "             City                                               Link  \n",
       "count        1000                                               1000  \n",
       "unique          1                                               1000  \n",
       "top     Cambridge  /rc/clk?jk=dedef3cdffdb1bcc&fccid=ece6beae9e41...  \n",
       "freq         1000                                                  1  "
      ]
     },
     "execution_count": 89,
     "metadata": {},
     "output_type": "execute_result"
    }
   ],
   "source": [
    "camb_testdf.describe()"
   ]
  },
  {
   "cell_type": "markdown",
   "metadata": {},
   "source": [
    "## Merge all cities to one df:"
   ]
  },
  {
   "cell_type": "code",
   "execution_count": 102,
   "metadata": {},
   "outputs": [],
   "source": [
    "from functools import reduce"
   ]
  },
  {
   "cell_type": "code",
   "execution_count": 103,
   "metadata": {},
   "outputs": [
    {
     "data": {
      "text/plain": [
       "['Job_Title', 'Company', 'Salary', 'Location', 'City', 'Link']"
      ]
     },
     "execution_count": 103,
     "metadata": {},
     "output_type": "execute_result"
    }
   ],
   "source": [
    "# all cols will match for all cities\n",
    "\n",
    "cols = lon_testdf.columns\n",
    "col_list = list(cols)\n",
    "col_list"
   ]
  },
  {
   "cell_type": "code",
   "execution_count": 106,
   "metadata": {},
   "outputs": [],
   "source": [
    "# compile the list of dataframes you want to merge\n",
    "\n",
    "uk_DF_lst = [lon_testdf, edi_testdf, mcr_testdf, \n",
    "             bir_testdf, newc_testdf, bris_testdf,\n",
    "             leeds_testdf, brigh_testdf, glw_testdf,\n",
    "             nott_testdf, belf_testdf, camb_testdf]\n",
    "\n",
    "uk_df_full = reduce(lambda  left,right: pd.merge(left,right,on=col_list,\n",
    "                                            how='outer'), uk_DF_lst)"
   ]
  },
  {
   "cell_type": "code",
   "execution_count": 107,
   "metadata": {},
   "outputs": [
    {
     "data": {
      "text/html": [
       "<div>\n",
       "<style scoped>\n",
       "    .dataframe tbody tr th:only-of-type {\n",
       "        vertical-align: middle;\n",
       "    }\n",
       "\n",
       "    .dataframe tbody tr th {\n",
       "        vertical-align: top;\n",
       "    }\n",
       "\n",
       "    .dataframe thead th {\n",
       "        text-align: right;\n",
       "    }\n",
       "</style>\n",
       "<table border=\"1\" class=\"dataframe\">\n",
       "  <thead>\n",
       "    <tr style=\"text-align: right;\">\n",
       "      <th></th>\n",
       "      <th>Job_Title</th>\n",
       "      <th>Company</th>\n",
       "      <th>Salary</th>\n",
       "      <th>Location</th>\n",
       "      <th>City</th>\n",
       "      <th>Link</th>\n",
       "    </tr>\n",
       "  </thead>\n",
       "  <tbody>\n",
       "    <tr>\n",
       "      <th>count</th>\n",
       "      <td>11734</td>\n",
       "      <td>11734</td>\n",
       "      <td>5718</td>\n",
       "      <td>11734</td>\n",
       "      <td>11734</td>\n",
       "      <td>11734</td>\n",
       "    </tr>\n",
       "    <tr>\n",
       "      <th>unique</th>\n",
       "      <td>8969</td>\n",
       "      <td>3521</td>\n",
       "      <td>2109</td>\n",
       "      <td>2211</td>\n",
       "      <td>12</td>\n",
       "      <td>11435</td>\n",
       "    </tr>\n",
       "    <tr>\n",
       "      <th>top</th>\n",
       "      <td>Business Analyst</td>\n",
       "      <td>IQVIA</td>\n",
       "      <td>£24,907 - £30,615 a year</td>\n",
       "      <td>London</td>\n",
       "      <td>Edinburgh</td>\n",
       "      <td>/rc/clk?jk=a4fec4199c426f56&amp;fccid=0c9b93ad0a8b...</td>\n",
       "    </tr>\n",
       "    <tr>\n",
       "      <th>freq</th>\n",
       "      <td>42</td>\n",
       "      <td>93</td>\n",
       "      <td>156</td>\n",
       "      <td>671</td>\n",
       "      <td>1022</td>\n",
       "      <td>2</td>\n",
       "    </tr>\n",
       "  </tbody>\n",
       "</table>\n",
       "</div>"
      ],
      "text/plain": [
       "               Job_Title Company                    Salary Location  \\\n",
       "count              11734   11734                      5718    11734   \n",
       "unique              8969    3521                      2109     2211   \n",
       "top     Business Analyst   IQVIA  £24,907 - £30,615 a year   London   \n",
       "freq                  42      93                       156      671   \n",
       "\n",
       "             City                                               Link  \n",
       "count       11734                                              11734  \n",
       "unique         12                                              11435  \n",
       "top     Edinburgh  /rc/clk?jk=a4fec4199c426f56&fccid=0c9b93ad0a8b...  \n",
       "freq         1022                                                  2  "
      ]
     },
     "execution_count": 107,
     "metadata": {},
     "output_type": "execute_result"
    }
   ],
   "source": [
    "\n",
    "\n",
    "uk_df_full.describe()"
   ]
  },
  {
   "cell_type": "markdown",
   "metadata": {},
   "source": [
    "## Deal with nulls in 'Salary'"
   ]
  },
  {
   "cell_type": "code",
   "execution_count": 108,
   "metadata": {
    "scrolled": true
   },
   "outputs": [
    {
     "data": {
      "text/html": [
       "<div>\n",
       "<style scoped>\n",
       "    .dataframe tbody tr th:only-of-type {\n",
       "        vertical-align: middle;\n",
       "    }\n",
       "\n",
       "    .dataframe tbody tr th {\n",
       "        vertical-align: top;\n",
       "    }\n",
       "\n",
       "    .dataframe thead th {\n",
       "        text-align: right;\n",
       "    }\n",
       "</style>\n",
       "<table border=\"1\" class=\"dataframe\">\n",
       "  <thead>\n",
       "    <tr style=\"text-align: right;\">\n",
       "      <th></th>\n",
       "      <th>Job_Title</th>\n",
       "      <th>Company</th>\n",
       "      <th>Salary</th>\n",
       "      <th>Location</th>\n",
       "      <th>City</th>\n",
       "      <th>Link</th>\n",
       "    </tr>\n",
       "  </thead>\n",
       "  <tbody>\n",
       "    <tr>\n",
       "      <th>count</th>\n",
       "      <td>5718</td>\n",
       "      <td>5718</td>\n",
       "      <td>5718</td>\n",
       "      <td>5718</td>\n",
       "      <td>5718</td>\n",
       "      <td>5718</td>\n",
       "    </tr>\n",
       "    <tr>\n",
       "      <th>unique</th>\n",
       "      <td>4550</td>\n",
       "      <td>2082</td>\n",
       "      <td>2109</td>\n",
       "      <td>1588</td>\n",
       "      <td>12</td>\n",
       "      <td>5578</td>\n",
       "    </tr>\n",
       "    <tr>\n",
       "      <th>top</th>\n",
       "      <td>Staff Nurse</td>\n",
       "      <td>SYK Recruitment Specialists</td>\n",
       "      <td>£24,907 - £30,615 a year</td>\n",
       "      <td>Newcastle upon Tyne</td>\n",
       "      <td>Newcastle</td>\n",
       "      <td>/rc/clk?jk=5accf7bfe7b9c997&amp;fccid=22a9badd37b4...</td>\n",
       "    </tr>\n",
       "    <tr>\n",
       "      <th>freq</th>\n",
       "      <td>33</td>\n",
       "      <td>71</td>\n",
       "      <td>156</td>\n",
       "      <td>224</td>\n",
       "      <td>652</td>\n",
       "      <td>2</td>\n",
       "    </tr>\n",
       "  </tbody>\n",
       "</table>\n",
       "</div>"
      ],
      "text/plain": [
       "          Job_Title                      Company                    Salary  \\\n",
       "count          5718                         5718                      5718   \n",
       "unique         4550                         2082                      2109   \n",
       "top     Staff Nurse  SYK Recruitment Specialists  £24,907 - £30,615 a year   \n",
       "freq             33                           71                       156   \n",
       "\n",
       "                   Location       City  \\\n",
       "count                  5718       5718   \n",
       "unique                 1588         12   \n",
       "top     Newcastle upon Tyne  Newcastle   \n",
       "freq                    224        652   \n",
       "\n",
       "                                                     Link  \n",
       "count                                                5718  \n",
       "unique                                               5578  \n",
       "top     /rc/clk?jk=5accf7bfe7b9c997&fccid=22a9badd37b4...  \n",
       "freq                                                    2  "
      ]
     },
     "execution_count": 108,
     "metadata": {},
     "output_type": "execute_result"
    }
   ],
   "source": [
    "# Assumption of around half removed\n",
    "# nans only inserted in salary column\n",
    "\n",
    "uk_df_full_minus_null_salary = uk_df_full.dropna(how='any')\n",
    "uk_df_full_minus_null_salary.describe()"
   ]
  },
  {
   "cell_type": "code",
   "execution_count": 184,
   "metadata": {},
   "outputs": [
    {
     "data": {
      "text/html": [
       "<div>\n",
       "<style scoped>\n",
       "    .dataframe tbody tr th:only-of-type {\n",
       "        vertical-align: middle;\n",
       "    }\n",
       "\n",
       "    .dataframe tbody tr th {\n",
       "        vertical-align: top;\n",
       "    }\n",
       "\n",
       "    .dataframe thead th {\n",
       "        text-align: right;\n",
       "    }\n",
       "</style>\n",
       "<table border=\"1\" class=\"dataframe\">\n",
       "  <thead>\n",
       "    <tr style=\"text-align: right;\">\n",
       "      <th></th>\n",
       "      <th>Unnamed: 0</th>\n",
       "      <th>Job_Title</th>\n",
       "      <th>Company</th>\n",
       "      <th>Salary</th>\n",
       "      <th>Location</th>\n",
       "      <th>City</th>\n",
       "      <th>Link</th>\n",
       "    </tr>\n",
       "  </thead>\n",
       "  <tbody>\n",
       "    <tr>\n",
       "      <th>0</th>\n",
       "      <td>0</td>\n",
       "      <td>Data and Research Analyst</td>\n",
       "      <td>Cancer Research UK</td>\n",
       "      <td>£31,000 a year</td>\n",
       "      <td>Stratford</td>\n",
       "      <td>London</td>\n",
       "      <td>/rc/clk?jk=16e8b8e96810af24&amp;fccid=0d06dfb448b2...</td>\n",
       "    </tr>\n",
       "  </tbody>\n",
       "</table>\n",
       "</div>"
      ],
      "text/plain": [
       "   Unnamed: 0                  Job_Title             Company          Salary  \\\n",
       "0           0  Data and Research Analyst  Cancer Research UK  £31,000 a year   \n",
       "\n",
       "    Location    City                                               Link  \n",
       "0  Stratford  London  /rc/clk?jk=16e8b8e96810af24&fccid=0d06dfb448b2...  "
      ]
     },
     "execution_count": 184,
     "metadata": {},
     "output_type": "execute_result"
    }
   ],
   "source": [
    "# rename\n",
    "df = uk_df_full_minus_null_salary\n",
    "df.head(1)\n"
   ]
  },
  {
   "cell_type": "code",
   "execution_count": 185,
   "metadata": {
    "scrolled": true
   },
   "outputs": [],
   "source": [
    "df = df.drop(columns='Unnamed: 0', axis=1)\n",
    "\n"
   ]
  },
  {
   "cell_type": "code",
   "execution_count": 186,
   "metadata": {
    "scrolled": true
   },
   "outputs": [
    {
     "data": {
      "text/html": [
       "<div>\n",
       "<style scoped>\n",
       "    .dataframe tbody tr th:only-of-type {\n",
       "        vertical-align: middle;\n",
       "    }\n",
       "\n",
       "    .dataframe tbody tr th {\n",
       "        vertical-align: top;\n",
       "    }\n",
       "\n",
       "    .dataframe thead th {\n",
       "        text-align: right;\n",
       "    }\n",
       "</style>\n",
       "<table border=\"1\" class=\"dataframe\">\n",
       "  <thead>\n",
       "    <tr style=\"text-align: right;\">\n",
       "      <th></th>\n",
       "      <th>Job_Title</th>\n",
       "      <th>Company</th>\n",
       "      <th>Salary</th>\n",
       "      <th>Location</th>\n",
       "      <th>City</th>\n",
       "      <th>Link</th>\n",
       "    </tr>\n",
       "  </thead>\n",
       "  <tbody>\n",
       "    <tr>\n",
       "      <th>count</th>\n",
       "      <td>5718</td>\n",
       "      <td>5718</td>\n",
       "      <td>5718</td>\n",
       "      <td>5718</td>\n",
       "      <td>5718</td>\n",
       "      <td>5718</td>\n",
       "    </tr>\n",
       "    <tr>\n",
       "      <th>unique</th>\n",
       "      <td>4550</td>\n",
       "      <td>2082</td>\n",
       "      <td>2109</td>\n",
       "      <td>1588</td>\n",
       "      <td>12</td>\n",
       "      <td>5578</td>\n",
       "    </tr>\n",
       "    <tr>\n",
       "      <th>top</th>\n",
       "      <td>Staff Nurse</td>\n",
       "      <td>SYK Recruitment Specialists</td>\n",
       "      <td>£24,907 - £30,615 a year</td>\n",
       "      <td>Newcastle upon Tyne</td>\n",
       "      <td>Newcastle</td>\n",
       "      <td>/rc/clk?jk=5accf7bfe7b9c997&amp;fccid=22a9badd37b4...</td>\n",
       "    </tr>\n",
       "    <tr>\n",
       "      <th>freq</th>\n",
       "      <td>33</td>\n",
       "      <td>71</td>\n",
       "      <td>156</td>\n",
       "      <td>224</td>\n",
       "      <td>652</td>\n",
       "      <td>2</td>\n",
       "    </tr>\n",
       "  </tbody>\n",
       "</table>\n",
       "</div>"
      ],
      "text/plain": [
       "          Job_Title                      Company                    Salary  \\\n",
       "count          5718                         5718                      5718   \n",
       "unique         4550                         2082                      2109   \n",
       "top     Staff Nurse  SYK Recruitment Specialists  £24,907 - £30,615 a year   \n",
       "freq             33                           71                       156   \n",
       "\n",
       "                   Location       City  \\\n",
       "count                  5718       5718   \n",
       "unique                 1588         12   \n",
       "top     Newcastle upon Tyne  Newcastle   \n",
       "freq                    224        652   \n",
       "\n",
       "                                                     Link  \n",
       "count                                                5718  \n",
       "unique                                               5578  \n",
       "top     /rc/clk?jk=5accf7bfe7b9c997&fccid=22a9badd37b4...  \n",
       "freq                                                    2  "
      ]
     },
     "execution_count": 186,
     "metadata": {},
     "output_type": "execute_result"
    }
   ],
   "source": [
    "df.describe()"
   ]
  },
  {
   "cell_type": "code",
   "execution_count": 187,
   "metadata": {},
   "outputs": [
    {
     "data": {
      "text/plain": [
       "Job_Title    0\n",
       "Company      0\n",
       "Salary       0\n",
       "Location     0\n",
       "City         0\n",
       "Link         0\n",
       "dtype: int64"
      ]
     },
     "execution_count": 187,
     "metadata": {},
     "output_type": "execute_result"
    }
   ],
   "source": [
    "df.isnull().sum()"
   ]
  },
  {
   "cell_type": "code",
   "execution_count": 188,
   "metadata": {
    "scrolled": true
   },
   "outputs": [
    {
     "data": {
      "text/html": [
       "<div>\n",
       "<style scoped>\n",
       "    .dataframe tbody tr th:only-of-type {\n",
       "        vertical-align: middle;\n",
       "    }\n",
       "\n",
       "    .dataframe tbody tr th {\n",
       "        vertical-align: top;\n",
       "    }\n",
       "\n",
       "    .dataframe thead tr th {\n",
       "        text-align: left;\n",
       "    }\n",
       "\n",
       "    .dataframe thead tr:last-of-type th {\n",
       "        text-align: right;\n",
       "    }\n",
       "</style>\n",
       "<table border=\"1\" class=\"dataframe\">\n",
       "  <thead>\n",
       "    <tr>\n",
       "      <th></th>\n",
       "      <th colspan=\"4\" halign=\"left\">Job_Title</th>\n",
       "      <th colspan=\"4\" halign=\"left\">Company</th>\n",
       "      <th colspan=\"4\" halign=\"left\">Salary</th>\n",
       "      <th colspan=\"4\" halign=\"left\">Location</th>\n",
       "      <th colspan=\"4\" halign=\"left\">Link</th>\n",
       "    </tr>\n",
       "    <tr>\n",
       "      <th></th>\n",
       "      <th>count</th>\n",
       "      <th>unique</th>\n",
       "      <th>top</th>\n",
       "      <th>freq</th>\n",
       "      <th>count</th>\n",
       "      <th>unique</th>\n",
       "      <th>top</th>\n",
       "      <th>freq</th>\n",
       "      <th>count</th>\n",
       "      <th>unique</th>\n",
       "      <th>top</th>\n",
       "      <th>freq</th>\n",
       "      <th>count</th>\n",
       "      <th>unique</th>\n",
       "      <th>top</th>\n",
       "      <th>freq</th>\n",
       "      <th>count</th>\n",
       "      <th>unique</th>\n",
       "      <th>top</th>\n",
       "      <th>freq</th>\n",
       "    </tr>\n",
       "    <tr>\n",
       "      <th>City</th>\n",
       "      <th></th>\n",
       "      <th></th>\n",
       "      <th></th>\n",
       "      <th></th>\n",
       "      <th></th>\n",
       "      <th></th>\n",
       "      <th></th>\n",
       "      <th></th>\n",
       "      <th></th>\n",
       "      <th></th>\n",
       "      <th></th>\n",
       "      <th></th>\n",
       "      <th></th>\n",
       "      <th></th>\n",
       "      <th></th>\n",
       "      <th></th>\n",
       "      <th></th>\n",
       "      <th></th>\n",
       "      <th></th>\n",
       "      <th></th>\n",
       "    </tr>\n",
       "  </thead>\n",
       "  <tbody>\n",
       "    <tr>\n",
       "      <th>Belfast</th>\n",
       "      <td>246</td>\n",
       "      <td>223</td>\n",
       "      <td>Registered Nurse</td>\n",
       "      <td>4</td>\n",
       "      <td>246</td>\n",
       "      <td>134</td>\n",
       "      <td>Black Fox Solution</td>\n",
       "      <td>11</td>\n",
       "      <td>246</td>\n",
       "      <td>153</td>\n",
       "      <td>£25,000 - £30,000 a year</td>\n",
       "      <td>10</td>\n",
       "      <td>246</td>\n",
       "      <td>71</td>\n",
       "      <td>Belfast</td>\n",
       "      <td>109</td>\n",
       "      <td>246</td>\n",
       "      <td>246</td>\n",
       "      <td>/company/Chroma-Lighting-and-Ulster-University...</td>\n",
       "      <td>1</td>\n",
       "    </tr>\n",
       "    <tr>\n",
       "      <th>Birmingham</th>\n",
       "      <td>479</td>\n",
       "      <td>467</td>\n",
       "      <td>Research Fellow</td>\n",
       "      <td>3</td>\n",
       "      <td>479</td>\n",
       "      <td>222</td>\n",
       "      <td>University of Warwick</td>\n",
       "      <td>18</td>\n",
       "      <td>479</td>\n",
       "      <td>285</td>\n",
       "      <td>£24,907 - £30,615 a year</td>\n",
       "      <td>22</td>\n",
       "      <td>479</td>\n",
       "      <td>137</td>\n",
       "      <td>Birmingham</td>\n",
       "      <td>161</td>\n",
       "      <td>479</td>\n",
       "      <td>479</td>\n",
       "      <td>/rc/clk?jk=3d8afd699fa10eda&amp;fccid=4d51c9f5bbeb...</td>\n",
       "      <td>1</td>\n",
       "    </tr>\n",
       "    <tr>\n",
       "      <th>Brighton</th>\n",
       "      <td>625</td>\n",
       "      <td>559</td>\n",
       "      <td>Staff Nurse</td>\n",
       "      <td>9</td>\n",
       "      <td>625</td>\n",
       "      <td>353</td>\n",
       "      <td>SYK Recruitment Specialists</td>\n",
       "      <td>17</td>\n",
       "      <td>625</td>\n",
       "      <td>342</td>\n",
       "      <td>£31,365 - £37,890 a year</td>\n",
       "      <td>24</td>\n",
       "      <td>625</td>\n",
       "      <td>223</td>\n",
       "      <td>Brighton</td>\n",
       "      <td>77</td>\n",
       "      <td>625</td>\n",
       "      <td>625</td>\n",
       "      <td>/rc/clk?jk=a1a5e543c67e7357&amp;fccid=db59b732bcb1...</td>\n",
       "      <td>1</td>\n",
       "    </tr>\n",
       "    <tr>\n",
       "      <th>Bristol</th>\n",
       "      <td>484</td>\n",
       "      <td>472</td>\n",
       "      <td>IT Service Desk Analyst</td>\n",
       "      <td>2</td>\n",
       "      <td>484</td>\n",
       "      <td>205</td>\n",
       "      <td>UK Government - Ministry of Defence</td>\n",
       "      <td>41</td>\n",
       "      <td>484</td>\n",
       "      <td>288</td>\n",
       "      <td>£40,000 a year</td>\n",
       "      <td>16</td>\n",
       "      <td>484</td>\n",
       "      <td>108</td>\n",
       "      <td>Bristol</td>\n",
       "      <td>158</td>\n",
       "      <td>484</td>\n",
       "      <td>484</td>\n",
       "      <td>/rc/clk?jk=dce62baac5167631&amp;fccid=e69c0a966f36...</td>\n",
       "      <td>1</td>\n",
       "    </tr>\n",
       "    <tr>\n",
       "      <th>Cambridge</th>\n",
       "      <td>408</td>\n",
       "      <td>386</td>\n",
       "      <td>Clinical Psychologist</td>\n",
       "      <td>4</td>\n",
       "      <td>408</td>\n",
       "      <td>163</td>\n",
       "      <td>Wellcome Trust Sanger Institute</td>\n",
       "      <td>17</td>\n",
       "      <td>408</td>\n",
       "      <td>262</td>\n",
       "      <td>£24,907 - £30,615 a year</td>\n",
       "      <td>20</td>\n",
       "      <td>408</td>\n",
       "      <td>109</td>\n",
       "      <td>Cambridge</td>\n",
       "      <td>86</td>\n",
       "      <td>408</td>\n",
       "      <td>408</td>\n",
       "      <td>/rc/clk?jk=a116dc3740a68eac&amp;fccid=b09992f0f82e...</td>\n",
       "      <td>1</td>\n",
       "    </tr>\n",
       "    <tr>\n",
       "      <th>Edinburgh</th>\n",
       "      <td>447</td>\n",
       "      <td>400</td>\n",
       "      <td>Staff Nurse</td>\n",
       "      <td>6</td>\n",
       "      <td>447</td>\n",
       "      <td>269</td>\n",
       "      <td>Medicall Recruitment Ltd</td>\n",
       "      <td>15</td>\n",
       "      <td>447</td>\n",
       "      <td>285</td>\n",
       "      <td>£25,000 - £30,000 a year</td>\n",
       "      <td>9</td>\n",
       "      <td>447</td>\n",
       "      <td>145</td>\n",
       "      <td>Edinburgh</td>\n",
       "      <td>194</td>\n",
       "      <td>447</td>\n",
       "      <td>447</td>\n",
       "      <td>/company/Washbrook-Consultants-Ltd/jobs/Mechan...</td>\n",
       "      <td>1</td>\n",
       "    </tr>\n",
       "    <tr>\n",
       "      <th>Glasgow</th>\n",
       "      <td>430</td>\n",
       "      <td>398</td>\n",
       "      <td>Team Leader</td>\n",
       "      <td>6</td>\n",
       "      <td>430</td>\n",
       "      <td>243</td>\n",
       "      <td>University of Glasgow</td>\n",
       "      <td>30</td>\n",
       "      <td>430</td>\n",
       "      <td>253</td>\n",
       "      <td>£35,000 a year</td>\n",
       "      <td>11</td>\n",
       "      <td>430</td>\n",
       "      <td>143</td>\n",
       "      <td>Glasgow</td>\n",
       "      <td>191</td>\n",
       "      <td>430</td>\n",
       "      <td>430</td>\n",
       "      <td>/company/GWG-Associates/jobs/Graduate-Data-Ana...</td>\n",
       "      <td>1</td>\n",
       "    </tr>\n",
       "    <tr>\n",
       "      <th>Leeds</th>\n",
       "      <td>560</td>\n",
       "      <td>546</td>\n",
       "      <td>Children and Young People Key Worker</td>\n",
       "      <td>2</td>\n",
       "      <td>560</td>\n",
       "      <td>230</td>\n",
       "      <td>Interface Recruitment</td>\n",
       "      <td>57</td>\n",
       "      <td>560</td>\n",
       "      <td>320</td>\n",
       "      <td>£25,000 a year</td>\n",
       "      <td>19</td>\n",
       "      <td>560</td>\n",
       "      <td>113</td>\n",
       "      <td>Leeds</td>\n",
       "      <td>164</td>\n",
       "      <td>560</td>\n",
       "      <td>560</td>\n",
       "      <td>/rc/clk?jk=1945f0a77f6ddf5b&amp;fccid=6c46f9954c4d...</td>\n",
       "      <td>1</td>\n",
       "    </tr>\n",
       "    <tr>\n",
       "      <th>London</th>\n",
       "      <td>377</td>\n",
       "      <td>354</td>\n",
       "      <td>Business Analyst</td>\n",
       "      <td>6</td>\n",
       "      <td>377</td>\n",
       "      <td>224</td>\n",
       "      <td>Imperial College London</td>\n",
       "      <td>10</td>\n",
       "      <td>377</td>\n",
       "      <td>269</td>\n",
       "      <td>£45,780 - £51,393 a year</td>\n",
       "      <td>7</td>\n",
       "      <td>377</td>\n",
       "      <td>138</td>\n",
       "      <td>London</td>\n",
       "      <td>176</td>\n",
       "      <td>377</td>\n",
       "      <td>377</td>\n",
       "      <td>/rc/clk?jk=b5a217e2b70c0402&amp;fccid=44db8b88ee1b...</td>\n",
       "      <td>1</td>\n",
       "    </tr>\n",
       "    <tr>\n",
       "      <th>Manchester</th>\n",
       "      <td>502</td>\n",
       "      <td>478</td>\n",
       "      <td>Project Manager</td>\n",
       "      <td>3</td>\n",
       "      <td>502</td>\n",
       "      <td>236</td>\n",
       "      <td>Manchester University NHS Foundation Trust</td>\n",
       "      <td>15</td>\n",
       "      <td>502</td>\n",
       "      <td>276</td>\n",
       "      <td>£24,907 - £30,615 a year</td>\n",
       "      <td>21</td>\n",
       "      <td>502</td>\n",
       "      <td>147</td>\n",
       "      <td>Manchester</td>\n",
       "      <td>113</td>\n",
       "      <td>502</td>\n",
       "      <td>502</td>\n",
       "      <td>/rc/clk?jk=0089b54a39f37af8&amp;fccid=89a1a7b0050a...</td>\n",
       "      <td>1</td>\n",
       "    </tr>\n",
       "    <tr>\n",
       "      <th>Newcastle</th>\n",
       "      <td>652</td>\n",
       "      <td>597</td>\n",
       "      <td>Staff Nurse</td>\n",
       "      <td>7</td>\n",
       "      <td>652</td>\n",
       "      <td>333</td>\n",
       "      <td>Newcastle University</td>\n",
       "      <td>36</td>\n",
       "      <td>652</td>\n",
       "      <td>368</td>\n",
       "      <td>£31,365 - £37,890 a year</td>\n",
       "      <td>18</td>\n",
       "      <td>652</td>\n",
       "      <td>180</td>\n",
       "      <td>Newcastle upon Tyne</td>\n",
       "      <td>224</td>\n",
       "      <td>652</td>\n",
       "      <td>652</td>\n",
       "      <td>/company/Orchard-Care-Homes/jobs/Dementia-Supp...</td>\n",
       "      <td>1</td>\n",
       "    </tr>\n",
       "    <tr>\n",
       "      <th>Nottingham</th>\n",
       "      <td>508</td>\n",
       "      <td>488</td>\n",
       "      <td>Registered Nurse</td>\n",
       "      <td>5</td>\n",
       "      <td>508</td>\n",
       "      <td>187</td>\n",
       "      <td>Nottingham University Hospitals NHS Trust</td>\n",
       "      <td>60</td>\n",
       "      <td>508</td>\n",
       "      <td>297</td>\n",
       "      <td>£31,365 - £37,890 a year</td>\n",
       "      <td>37</td>\n",
       "      <td>508</td>\n",
       "      <td>133</td>\n",
       "      <td>Nottingham</td>\n",
       "      <td>158</td>\n",
       "      <td>508</td>\n",
       "      <td>508</td>\n",
       "      <td>/rc/clk?jk=69d2a86e6f800bad&amp;fccid=0703b8218029...</td>\n",
       "      <td>1</td>\n",
       "    </tr>\n",
       "  </tbody>\n",
       "</table>\n",
       "</div>"
      ],
      "text/plain": [
       "           Job_Title                                                    \\\n",
       "               count unique                                   top freq   \n",
       "City                                                                     \n",
       "Belfast          246    223                      Registered Nurse    4   \n",
       "Birmingham       479    467                       Research Fellow    3   \n",
       "Brighton         625    559                           Staff Nurse    9   \n",
       "Bristol          484    472               IT Service Desk Analyst    2   \n",
       "Cambridge        408    386                 Clinical Psychologist    4   \n",
       "Edinburgh        447    400                           Staff Nurse    6   \n",
       "Glasgow          430    398                           Team Leader    6   \n",
       "Leeds            560    546  Children and Young People Key Worker    2   \n",
       "London           377    354                      Business Analyst    6   \n",
       "Manchester       502    478                       Project Manager    3   \n",
       "Newcastle        652    597                           Staff Nurse    7   \n",
       "Nottingham       508    488                      Registered Nurse    5   \n",
       "\n",
       "           Company                                                          \\\n",
       "             count unique                                         top freq   \n",
       "City                                                                         \n",
       "Belfast        246    134                          Black Fox Solution   11   \n",
       "Birmingham     479    222                       University of Warwick   18   \n",
       "Brighton       625    353                 SYK Recruitment Specialists   17   \n",
       "Bristol        484    205         UK Government - Ministry of Defence   41   \n",
       "Cambridge      408    163             Wellcome Trust Sanger Institute   17   \n",
       "Edinburgh      447    269                    Medicall Recruitment Ltd   15   \n",
       "Glasgow        430    243                       University of Glasgow   30   \n",
       "Leeds          560    230                       Interface Recruitment   57   \n",
       "London         377    224                     Imperial College London   10   \n",
       "Manchester     502    236  Manchester University NHS Foundation Trust   15   \n",
       "Newcastle      652    333                        Newcastle University   36   \n",
       "Nottingham     508    187   Nottingham University Hospitals NHS Trust   60   \n",
       "\n",
       "           Salary                                       Location         \\\n",
       "            count unique                       top freq    count unique   \n",
       "City                                                                      \n",
       "Belfast       246    153  £25,000 - £30,000 a year   10      246     71   \n",
       "Birmingham    479    285  £24,907 - £30,615 a year   22      479    137   \n",
       "Brighton      625    342  £31,365 - £37,890 a year   24      625    223   \n",
       "Bristol       484    288            £40,000 a year   16      484    108   \n",
       "Cambridge     408    262  £24,907 - £30,615 a year   20      408    109   \n",
       "Edinburgh     447    285  £25,000 - £30,000 a year    9      447    145   \n",
       "Glasgow       430    253            £35,000 a year   11      430    143   \n",
       "Leeds         560    320            £25,000 a year   19      560    113   \n",
       "London        377    269  £45,780 - £51,393 a year    7      377    138   \n",
       "Manchester    502    276  £24,907 - £30,615 a year   21      502    147   \n",
       "Newcastle     652    368  £31,365 - £37,890 a year   18      652    180   \n",
       "Nottingham    508    297  £31,365 - £37,890 a year   37      508    133   \n",
       "\n",
       "                                      Link         \\\n",
       "                            top freq count unique   \n",
       "City                                                \n",
       "Belfast                 Belfast  109   246    246   \n",
       "Birmingham           Birmingham  161   479    479   \n",
       "Brighton               Brighton   77   625    625   \n",
       "Bristol                 Bristol  158   484    484   \n",
       "Cambridge             Cambridge   86   408    408   \n",
       "Edinburgh             Edinburgh  194   447    447   \n",
       "Glasgow                 Glasgow  191   430    430   \n",
       "Leeds                     Leeds  164   560    560   \n",
       "London                   London  176   377    377   \n",
       "Manchester           Manchester  113   502    502   \n",
       "Newcastle   Newcastle upon Tyne  224   652    652   \n",
       "Nottingham           Nottingham  158   508    508   \n",
       "\n",
       "                                                                    \n",
       "                                                          top freq  \n",
       "City                                                                \n",
       "Belfast     /company/Chroma-Lighting-and-Ulster-University...    1  \n",
       "Birmingham  /rc/clk?jk=3d8afd699fa10eda&fccid=4d51c9f5bbeb...    1  \n",
       "Brighton    /rc/clk?jk=a1a5e543c67e7357&fccid=db59b732bcb1...    1  \n",
       "Bristol     /rc/clk?jk=dce62baac5167631&fccid=e69c0a966f36...    1  \n",
       "Cambridge   /rc/clk?jk=a116dc3740a68eac&fccid=b09992f0f82e...    1  \n",
       "Edinburgh   /company/Washbrook-Consultants-Ltd/jobs/Mechan...    1  \n",
       "Glasgow     /company/GWG-Associates/jobs/Graduate-Data-Ana...    1  \n",
       "Leeds       /rc/clk?jk=1945f0a77f6ddf5b&fccid=6c46f9954c4d...    1  \n",
       "London      /rc/clk?jk=b5a217e2b70c0402&fccid=44db8b88ee1b...    1  \n",
       "Manchester  /rc/clk?jk=0089b54a39f37af8&fccid=89a1a7b0050a...    1  \n",
       "Newcastle   /company/Orchard-Care-Homes/jobs/Dementia-Supp...    1  \n",
       "Nottingham  /rc/clk?jk=69d2a86e6f800bad&fccid=0703b8218029...    1  "
      ]
     },
     "execution_count": 188,
     "metadata": {},
     "output_type": "execute_result"
    }
   ],
   "source": [
    "df.groupby('City').describe()"
   ]
  },
  {
   "cell_type": "markdown",
   "metadata": {},
   "source": [
    "## Salary cleaning"
   ]
  },
  {
   "cell_type": "code",
   "execution_count": 189,
   "metadata": {},
   "outputs": [
    {
     "data": {
      "text/plain": [
       "£24,907 - £30,615 a year    156\n",
       "£31,365 - £37,890 a year    154\n",
       "£38,890 - £44,503 a year     93\n",
       "£19,737 - £21,142 a year     88\n",
       "£40,000 a year               80\n",
       "                           ... \n",
       "£9.00 - £14.50 an hour        1\n",
       "£14 - £18 an hour             1\n",
       "£34,000 - £42,000 a year      1\n",
       "£48,000 - £49,000 a year      1\n",
       "£37,398 - £44,798 a year      1\n",
       "Name: Salary, Length: 2109, dtype: int64"
      ]
     },
     "execution_count": 189,
     "metadata": {},
     "output_type": "execute_result"
    }
   ],
   "source": [
    "# All string\n",
    "\n",
    "df['Salary'].value_counts()"
   ]
  },
  {
   "cell_type": "code",
   "execution_count": 190,
   "metadata": {},
   "outputs": [
    {
     "data": {
      "text/plain": [
       "5718"
      ]
     },
     "execution_count": 190,
     "metadata": {},
     "output_type": "execute_result"
    }
   ],
   "source": [
    "len(df['Salary'])"
   ]
  },
  {
   "cell_type": "code",
   "execution_count": 191,
   "metadata": {},
   "outputs": [],
   "source": [
    "# still needs to convert tuple to int & average the lower/upper values:\n",
    "\n",
    "def salary_cleaner(col):\n",
    "    \n",
    "    \"\"\"Filters to annual salries only, almost cleans it,\n",
    "     leaving a tuple of strings. \"\"\"\n",
    "    \n",
    "    mask = col.str.contains(\"a year\")\n",
    "    col = col[mask]\n",
    "    \n",
    "    col = col.replace(\"\"\"[^0-9\\.-]\"\"\", '', regex=True)\n",
    "    col = col.str.split('-')\n",
    "    col = col.apply(lambda x: tuple(x) if isinstance(x, list) else x)\n",
    "    \n",
    "    # needs int conversion & averaged out - done below\n",
    "   \n",
    "\n",
    "    \n",
    "    return col"
   ]
  },
  {
   "cell_type": "code",
   "execution_count": 192,
   "metadata": {},
   "outputs": [],
   "source": [
    "def tuple_avg_out(row):\n",
    "    \n",
    "    \"\"\"To be used below after salary cleaner. \"\"\"\n",
    "    \n",
    "    lst = [int(item) for item in row]\n",
    "    return lst"
   ]
  },
  {
   "cell_type": "code",
   "execution_count": 193,
   "metadata": {},
   "outputs": [
    {
     "data": {
      "text/plain": [
       "0             (31000,)\n",
       "1       (24907, 30615)\n",
       "2             (27000,)\n",
       "3             (32146,)\n",
       "4       (28966, 37503)\n",
       "             ...      \n",
       "5713          (31000,)\n",
       "5714               NaN\n",
       "5715               NaN\n",
       "5716               NaN\n",
       "5717    (24907, 29000)\n",
       "Name: Salary, Length: 5718, dtype: object"
      ]
     },
     "execution_count": 193,
     "metadata": {},
     "output_type": "execute_result"
    }
   ],
   "source": [
    "# To check, there are only 4916 salaries listed (dropped from 5718) (annual only) over 12 uk cities - enough?\n",
    "\n",
    "# still str in tuple, some only single values\n",
    "\n",
    "df[\"Salary\"] = salary_cleaner(df['Salary'])\n",
    "df[\"Salary\"]"
   ]
  },
  {
   "cell_type": "code",
   "execution_count": 194,
   "metadata": {},
   "outputs": [
    {
     "data": {
      "text/plain": [
       "Job_Title      0\n",
       "Company        0\n",
       "Salary       802\n",
       "Location       0\n",
       "City           0\n",
       "Link           0\n",
       "dtype: int64"
      ]
     },
     "execution_count": 194,
     "metadata": {},
     "output_type": "execute_result"
    }
   ],
   "source": [
    "# Check for nulls now that only annual salaries remained\n",
    "\n",
    "df.isnull().sum()"
   ]
  },
  {
   "cell_type": "code",
   "execution_count": 195,
   "metadata": {},
   "outputs": [],
   "source": [
    "df = df.dropna(how='any')"
   ]
  },
  {
   "cell_type": "code",
   "execution_count": 200,
   "metadata": {},
   "outputs": [
    {
     "data": {
      "text/html": [
       "<div>\n",
       "<style scoped>\n",
       "    .dataframe tbody tr th:only-of-type {\n",
       "        vertical-align: middle;\n",
       "    }\n",
       "\n",
       "    .dataframe tbody tr th {\n",
       "        vertical-align: top;\n",
       "    }\n",
       "\n",
       "    .dataframe thead th {\n",
       "        text-align: right;\n",
       "    }\n",
       "</style>\n",
       "<table border=\"1\" class=\"dataframe\">\n",
       "  <thead>\n",
       "    <tr style=\"text-align: right;\">\n",
       "      <th></th>\n",
       "      <th>Job_Title</th>\n",
       "      <th>Company</th>\n",
       "      <th>Salary</th>\n",
       "      <th>Location</th>\n",
       "      <th>City</th>\n",
       "      <th>Link</th>\n",
       "    </tr>\n",
       "  </thead>\n",
       "  <tbody>\n",
       "    <tr>\n",
       "      <th>count</th>\n",
       "      <td>4916</td>\n",
       "      <td>4916</td>\n",
       "      <td>4916</td>\n",
       "      <td>4916</td>\n",
       "      <td>4916</td>\n",
       "      <td>4916</td>\n",
       "    </tr>\n",
       "    <tr>\n",
       "      <th>unique</th>\n",
       "      <td>3980</td>\n",
       "      <td>1832</td>\n",
       "      <td>1658</td>\n",
       "      <td>1423</td>\n",
       "      <td>12</td>\n",
       "      <td>4788</td>\n",
       "    </tr>\n",
       "    <tr>\n",
       "      <th>top</th>\n",
       "      <td>Staff Nurse</td>\n",
       "      <td>UK Government - Ministry of Defence</td>\n",
       "      <td>(24907, 30615)</td>\n",
       "      <td>Newcastle upon Tyne</td>\n",
       "      <td>Brighton</td>\n",
       "      <td>/rc/clk?jk=2f0e96760aaa8693&amp;fccid=15af7d1916a5...</td>\n",
       "    </tr>\n",
       "    <tr>\n",
       "      <th>freq</th>\n",
       "      <td>21</td>\n",
       "      <td>65</td>\n",
       "      <td>156</td>\n",
       "      <td>184</td>\n",
       "      <td>529</td>\n",
       "      <td>2</td>\n",
       "    </tr>\n",
       "  </tbody>\n",
       "</table>\n",
       "</div>"
      ],
      "text/plain": [
       "          Job_Title                              Company          Salary  \\\n",
       "count          4916                                 4916            4916   \n",
       "unique         3980                                 1832            1658   \n",
       "top     Staff Nurse  UK Government - Ministry of Defence  (24907, 30615)   \n",
       "freq             21                                   65             156   \n",
       "\n",
       "                   Location      City  \\\n",
       "count                  4916      4916   \n",
       "unique                 1423        12   \n",
       "top     Newcastle upon Tyne  Brighton   \n",
       "freq                    184       529   \n",
       "\n",
       "                                                     Link  \n",
       "count                                                4916  \n",
       "unique                                               4788  \n",
       "top     /rc/clk?jk=2f0e96760aaa8693&fccid=15af7d1916a5...  \n",
       "freq                                                    2  "
      ]
     },
     "execution_count": 200,
     "metadata": {},
     "output_type": "execute_result"
    }
   ],
   "source": [
    "df.describe(include='all')"
   ]
  },
  {
   "cell_type": "code",
   "execution_count": 196,
   "metadata": {},
   "outputs": [
    {
     "data": {
      "text/plain": [
       "('31000',)"
      ]
     },
     "execution_count": 196,
     "metadata": {},
     "output_type": "execute_result"
    }
   ],
   "source": [
    "df[\"Salary\"][0]"
   ]
  },
  {
   "cell_type": "code",
   "execution_count": 197,
   "metadata": {
    "scrolled": true
   },
   "outputs": [
    {
     "data": {
      "text/plain": [
       "('24907', '30615')"
      ]
     },
     "execution_count": 197,
     "metadata": {},
     "output_type": "execute_result"
    }
   ],
   "source": [
    "df[\"Salary\"][1]"
   ]
  },
  {
   "cell_type": "code",
   "execution_count": 198,
   "metadata": {},
   "outputs": [
    {
     "data": {
      "text/plain": [
       "27761.0"
      ]
     },
     "execution_count": 198,
     "metadata": {},
     "output_type": "execute_result"
    }
   ],
   "source": [
    "np.mean(tuple_avg_out(df[\"Salary\"][1]))"
   ]
  },
  {
   "cell_type": "code",
   "execution_count": 201,
   "metadata": {},
   "outputs": [],
   "source": [
    "lst = []\n",
    "for row in df[\"Salary\"]:\n",
    "    lst.append(np.mean(tuple_avg_out(row)))"
   ]
  },
  {
   "cell_type": "code",
   "execution_count": 202,
   "metadata": {
    "scrolled": true
   },
   "outputs": [
    {
     "data": {
      "text/plain": [
       "count      4916.000000\n",
       "mean      34949.565094\n",
       "std       14091.435163\n",
       "min       20000.000000\n",
       "25%       25230.500000\n",
       "50%       32152.250000\n",
       "75%       40000.000000\n",
       "max      250000.000000\n",
       "dtype: float64"
      ]
     },
     "execution_count": 202,
     "metadata": {},
     "output_type": "execute_result"
    }
   ],
   "source": [
    "pd.Series(lst).describe()"
   ]
  },
  {
   "cell_type": "code",
   "execution_count": 203,
   "metadata": {},
   "outputs": [],
   "source": [
    "df['Salary_cln'] = pd.Series(lst)"
   ]
  },
  {
   "cell_type": "code",
   "execution_count": 204,
   "metadata": {
    "scrolled": true
   },
   "outputs": [
    {
     "data": {
      "text/html": [
       "<div>\n",
       "<style scoped>\n",
       "    .dataframe tbody tr th:only-of-type {\n",
       "        vertical-align: middle;\n",
       "    }\n",
       "\n",
       "    .dataframe tbody tr th {\n",
       "        vertical-align: top;\n",
       "    }\n",
       "\n",
       "    .dataframe thead th {\n",
       "        text-align: right;\n",
       "    }\n",
       "</style>\n",
       "<table border=\"1\" class=\"dataframe\">\n",
       "  <thead>\n",
       "    <tr style=\"text-align: right;\">\n",
       "      <th></th>\n",
       "      <th>Job_Title</th>\n",
       "      <th>Company</th>\n",
       "      <th>Salary</th>\n",
       "      <th>Location</th>\n",
       "      <th>City</th>\n",
       "      <th>Link</th>\n",
       "      <th>Salary_cln</th>\n",
       "    </tr>\n",
       "  </thead>\n",
       "  <tbody>\n",
       "    <tr>\n",
       "      <th>0</th>\n",
       "      <td>Data and Research Analyst</td>\n",
       "      <td>Cancer Research UK</td>\n",
       "      <td>(31000,)</td>\n",
       "      <td>Stratford</td>\n",
       "      <td>London</td>\n",
       "      <td>/rc/clk?jk=16e8b8e96810af24&amp;fccid=0d06dfb448b2...</td>\n",
       "      <td>31000.0</td>\n",
       "    </tr>\n",
       "    <tr>\n",
       "      <th>1</th>\n",
       "      <td>Data Scientist</td>\n",
       "      <td>NHS Midlands and Lancashire Commissioning Supp...</td>\n",
       "      <td>(24907, 30615)</td>\n",
       "      <td>London SE1 6LH</td>\n",
       "      <td>London</td>\n",
       "      <td>/rc/clk?jk=195753e0562ed694&amp;fccid=37c85e352ebb...</td>\n",
       "      <td>27761.0</td>\n",
       "    </tr>\n",
       "    <tr>\n",
       "      <th>2</th>\n",
       "      <td>Data Analyst – Content &amp; Media</td>\n",
       "      <td>TalentPool</td>\n",
       "      <td>(27000,)</td>\n",
       "      <td>London EC1R 4RB</td>\n",
       "      <td>London</td>\n",
       "      <td>/rc/clk?jk=8c1cf0cc8aa52ba9&amp;fccid=3e983d79737f...</td>\n",
       "      <td>27000.0</td>\n",
       "    </tr>\n",
       "    <tr>\n",
       "      <th>3</th>\n",
       "      <td>Data Analyst</td>\n",
       "      <td>Central London Community Healthcare NHS Trust</td>\n",
       "      <td>(32146,)</td>\n",
       "      <td>London SW1P 2PF</td>\n",
       "      <td>London</td>\n",
       "      <td>/rc/clk?jk=1d3ad812d7a09a77&amp;fccid=7db6814b829e...</td>\n",
       "      <td>32146.0</td>\n",
       "    </tr>\n",
       "    <tr>\n",
       "      <th>4</th>\n",
       "      <td>NHS Test and Trace - Data Privacy Analyst</td>\n",
       "      <td>UK Government - Department of Health and Socia...</td>\n",
       "      <td>(28966, 37503)</td>\n",
       "      <td>London</td>\n",
       "      <td>London</td>\n",
       "      <td>/rc/clk?jk=8a28e464e49cdce5&amp;fccid=8b21fd09496a...</td>\n",
       "      <td>33234.5</td>\n",
       "    </tr>\n",
       "  </tbody>\n",
       "</table>\n",
       "</div>"
      ],
      "text/plain": [
       "                                   Job_Title  \\\n",
       "0                  Data and Research Analyst   \n",
       "1                             Data Scientist   \n",
       "2             Data Analyst – Content & Media   \n",
       "3                               Data Analyst   \n",
       "4  NHS Test and Trace - Data Privacy Analyst   \n",
       "\n",
       "                                             Company          Salary  \\\n",
       "0                                 Cancer Research UK        (31000,)   \n",
       "1  NHS Midlands and Lancashire Commissioning Supp...  (24907, 30615)   \n",
       "2                                         TalentPool        (27000,)   \n",
       "3      Central London Community Healthcare NHS Trust        (32146,)   \n",
       "4  UK Government - Department of Health and Socia...  (28966, 37503)   \n",
       "\n",
       "          Location    City                                               Link  \\\n",
       "0        Stratford  London  /rc/clk?jk=16e8b8e96810af24&fccid=0d06dfb448b2...   \n",
       "1   London SE1 6LH  London  /rc/clk?jk=195753e0562ed694&fccid=37c85e352ebb...   \n",
       "2  London EC1R 4RB  London  /rc/clk?jk=8c1cf0cc8aa52ba9&fccid=3e983d79737f...   \n",
       "3  London SW1P 2PF  London  /rc/clk?jk=1d3ad812d7a09a77&fccid=7db6814b829e...   \n",
       "4           London  London  /rc/clk?jk=8a28e464e49cdce5&fccid=8b21fd09496a...   \n",
       "\n",
       "   Salary_cln  \n",
       "0     31000.0  \n",
       "1     27761.0  \n",
       "2     27000.0  \n",
       "3     32146.0  \n",
       "4     33234.5  "
      ]
     },
     "execution_count": 204,
     "metadata": {},
     "output_type": "execute_result"
    }
   ],
   "source": [
    "df.head()"
   ]
  },
  {
   "cell_type": "code",
   "execution_count": 205,
   "metadata": {
    "scrolled": true
   },
   "outputs": [
    {
     "data": {
      "text/html": [
       "<div>\n",
       "<style scoped>\n",
       "    .dataframe tbody tr th:only-of-type {\n",
       "        vertical-align: middle;\n",
       "    }\n",
       "\n",
       "    .dataframe tbody tr th {\n",
       "        vertical-align: top;\n",
       "    }\n",
       "\n",
       "    .dataframe thead th {\n",
       "        text-align: right;\n",
       "    }\n",
       "</style>\n",
       "<table border=\"1\" class=\"dataframe\">\n",
       "  <thead>\n",
       "    <tr style=\"text-align: right;\">\n",
       "      <th></th>\n",
       "      <th>Job_Title</th>\n",
       "      <th>Company</th>\n",
       "      <th>Location</th>\n",
       "      <th>City</th>\n",
       "      <th>Link</th>\n",
       "      <th>Salary_cln</th>\n",
       "    </tr>\n",
       "  </thead>\n",
       "  <tbody>\n",
       "    <tr>\n",
       "      <th>0</th>\n",
       "      <td>Data and Research Analyst</td>\n",
       "      <td>Cancer Research UK</td>\n",
       "      <td>Stratford</td>\n",
       "      <td>London</td>\n",
       "      <td>/rc/clk?jk=16e8b8e96810af24&amp;fccid=0d06dfb448b2...</td>\n",
       "      <td>31000.0</td>\n",
       "    </tr>\n",
       "    <tr>\n",
       "      <th>1</th>\n",
       "      <td>Data Scientist</td>\n",
       "      <td>NHS Midlands and Lancashire Commissioning Supp...</td>\n",
       "      <td>London SE1 6LH</td>\n",
       "      <td>London</td>\n",
       "      <td>/rc/clk?jk=195753e0562ed694&amp;fccid=37c85e352ebb...</td>\n",
       "      <td>27761.0</td>\n",
       "    </tr>\n",
       "    <tr>\n",
       "      <th>2</th>\n",
       "      <td>Data Analyst – Content &amp; Media</td>\n",
       "      <td>TalentPool</td>\n",
       "      <td>London EC1R 4RB</td>\n",
       "      <td>London</td>\n",
       "      <td>/rc/clk?jk=8c1cf0cc8aa52ba9&amp;fccid=3e983d79737f...</td>\n",
       "      <td>27000.0</td>\n",
       "    </tr>\n",
       "    <tr>\n",
       "      <th>3</th>\n",
       "      <td>Data Analyst</td>\n",
       "      <td>Central London Community Healthcare NHS Trust</td>\n",
       "      <td>London SW1P 2PF</td>\n",
       "      <td>London</td>\n",
       "      <td>/rc/clk?jk=1d3ad812d7a09a77&amp;fccid=7db6814b829e...</td>\n",
       "      <td>32146.0</td>\n",
       "    </tr>\n",
       "    <tr>\n",
       "      <th>4</th>\n",
       "      <td>NHS Test and Trace - Data Privacy Analyst</td>\n",
       "      <td>UK Government - Department of Health and Socia...</td>\n",
       "      <td>London</td>\n",
       "      <td>London</td>\n",
       "      <td>/rc/clk?jk=8a28e464e49cdce5&amp;fccid=8b21fd09496a...</td>\n",
       "      <td>33234.5</td>\n",
       "    </tr>\n",
       "  </tbody>\n",
       "</table>\n",
       "</div>"
      ],
      "text/plain": [
       "                                   Job_Title  \\\n",
       "0                  Data and Research Analyst   \n",
       "1                             Data Scientist   \n",
       "2             Data Analyst – Content & Media   \n",
       "3                               Data Analyst   \n",
       "4  NHS Test and Trace - Data Privacy Analyst   \n",
       "\n",
       "                                             Company         Location    City  \\\n",
       "0                                 Cancer Research UK        Stratford  London   \n",
       "1  NHS Midlands and Lancashire Commissioning Supp...   London SE1 6LH  London   \n",
       "2                                         TalentPool  London EC1R 4RB  London   \n",
       "3      Central London Community Healthcare NHS Trust  London SW1P 2PF  London   \n",
       "4  UK Government - Department of Health and Socia...           London  London   \n",
       "\n",
       "                                                Link  Salary_cln  \n",
       "0  /rc/clk?jk=16e8b8e96810af24&fccid=0d06dfb448b2...     31000.0  \n",
       "1  /rc/clk?jk=195753e0562ed694&fccid=37c85e352ebb...     27761.0  \n",
       "2  /rc/clk?jk=8c1cf0cc8aa52ba9&fccid=3e983d79737f...     27000.0  \n",
       "3  /rc/clk?jk=1d3ad812d7a09a77&fccid=7db6814b829e...     32146.0  \n",
       "4  /rc/clk?jk=8a28e464e49cdce5&fccid=8b21fd09496a...     33234.5  "
      ]
     },
     "execution_count": 205,
     "metadata": {},
     "output_type": "execute_result"
    }
   ],
   "source": [
    "# Drop old salary col:\n",
    "\n",
    "df = df.drop(axis=1, columns='Salary')\n",
    "df.head()"
   ]
  },
  {
   "cell_type": "code",
   "execution_count": 206,
   "metadata": {
    "scrolled": true
   },
   "outputs": [
    {
     "data": {
      "text/html": [
       "<div>\n",
       "<style scoped>\n",
       "    .dataframe tbody tr th:only-of-type {\n",
       "        vertical-align: middle;\n",
       "    }\n",
       "\n",
       "    .dataframe tbody tr th {\n",
       "        vertical-align: top;\n",
       "    }\n",
       "\n",
       "    .dataframe thead th {\n",
       "        text-align: right;\n",
       "    }\n",
       "</style>\n",
       "<table border=\"1\" class=\"dataframe\">\n",
       "  <thead>\n",
       "    <tr style=\"text-align: right;\">\n",
       "      <th></th>\n",
       "      <th>Job_Title</th>\n",
       "      <th>Company</th>\n",
       "      <th>Location</th>\n",
       "      <th>City</th>\n",
       "      <th>Link</th>\n",
       "      <th>Salary_cln</th>\n",
       "    </tr>\n",
       "  </thead>\n",
       "  <tbody>\n",
       "    <tr>\n",
       "      <th>count</th>\n",
       "      <td>4278</td>\n",
       "      <td>4278</td>\n",
       "      <td>4278</td>\n",
       "      <td>4278</td>\n",
       "      <td>4278</td>\n",
       "      <td>4278.000000</td>\n",
       "    </tr>\n",
       "    <tr>\n",
       "      <th>unique</th>\n",
       "      <td>3506</td>\n",
       "      <td>1639</td>\n",
       "      <td>1258</td>\n",
       "      <td>10</td>\n",
       "      <td>4153</td>\n",
       "      <td>NaN</td>\n",
       "    </tr>\n",
       "    <tr>\n",
       "      <th>top</th>\n",
       "      <td>Staff Nurse</td>\n",
       "      <td>UK Government - Ministry of Defence</td>\n",
       "      <td>Newcastle upon Tyne</td>\n",
       "      <td>Brighton</td>\n",
       "      <td>/rc/clk?jk=2f0e96760aaa8693&amp;fccid=15af7d1916a5...</td>\n",
       "      <td>NaN</td>\n",
       "    </tr>\n",
       "    <tr>\n",
       "      <th>freq</th>\n",
       "      <td>18</td>\n",
       "      <td>61</td>\n",
       "      <td>184</td>\n",
       "      <td>529</td>\n",
       "      <td>2</td>\n",
       "      <td>NaN</td>\n",
       "    </tr>\n",
       "    <tr>\n",
       "      <th>mean</th>\n",
       "      <td>NaN</td>\n",
       "      <td>NaN</td>\n",
       "      <td>NaN</td>\n",
       "      <td>NaN</td>\n",
       "      <td>NaN</td>\n",
       "      <td>34890.379383</td>\n",
       "    </tr>\n",
       "    <tr>\n",
       "      <th>std</th>\n",
       "      <td>NaN</td>\n",
       "      <td>NaN</td>\n",
       "      <td>NaN</td>\n",
       "      <td>NaN</td>\n",
       "      <td>NaN</td>\n",
       "      <td>14105.751771</td>\n",
       "    </tr>\n",
       "    <tr>\n",
       "      <th>min</th>\n",
       "      <td>NaN</td>\n",
       "      <td>NaN</td>\n",
       "      <td>NaN</td>\n",
       "      <td>NaN</td>\n",
       "      <td>NaN</td>\n",
       "      <td>20000.000000</td>\n",
       "    </tr>\n",
       "    <tr>\n",
       "      <th>25%</th>\n",
       "      <td>NaN</td>\n",
       "      <td>NaN</td>\n",
       "      <td>NaN</td>\n",
       "      <td>NaN</td>\n",
       "      <td>NaN</td>\n",
       "      <td>25230.500000</td>\n",
       "    </tr>\n",
       "    <tr>\n",
       "      <th>50%</th>\n",
       "      <td>NaN</td>\n",
       "      <td>NaN</td>\n",
       "      <td>NaN</td>\n",
       "      <td>NaN</td>\n",
       "      <td>NaN</td>\n",
       "      <td>32070.750000</td>\n",
       "    </tr>\n",
       "    <tr>\n",
       "      <th>75%</th>\n",
       "      <td>NaN</td>\n",
       "      <td>NaN</td>\n",
       "      <td>NaN</td>\n",
       "      <td>NaN</td>\n",
       "      <td>NaN</td>\n",
       "      <td>40000.000000</td>\n",
       "    </tr>\n",
       "    <tr>\n",
       "      <th>max</th>\n",
       "      <td>NaN</td>\n",
       "      <td>NaN</td>\n",
       "      <td>NaN</td>\n",
       "      <td>NaN</td>\n",
       "      <td>NaN</td>\n",
       "      <td>250000.000000</td>\n",
       "    </tr>\n",
       "  </tbody>\n",
       "</table>\n",
       "</div>"
      ],
      "text/plain": [
       "          Job_Title                              Company             Location  \\\n",
       "count          4278                                 4278                 4278   \n",
       "unique         3506                                 1639                 1258   \n",
       "top     Staff Nurse  UK Government - Ministry of Defence  Newcastle upon Tyne   \n",
       "freq             18                                   61                  184   \n",
       "mean            NaN                                  NaN                  NaN   \n",
       "std             NaN                                  NaN                  NaN   \n",
       "min             NaN                                  NaN                  NaN   \n",
       "25%             NaN                                  NaN                  NaN   \n",
       "50%             NaN                                  NaN                  NaN   \n",
       "75%             NaN                                  NaN                  NaN   \n",
       "max             NaN                                  NaN                  NaN   \n",
       "\n",
       "            City                                               Link  \\\n",
       "count       4278                                               4278   \n",
       "unique        10                                               4153   \n",
       "top     Brighton  /rc/clk?jk=2f0e96760aaa8693&fccid=15af7d1916a5...   \n",
       "freq         529                                                  2   \n",
       "mean         NaN                                                NaN   \n",
       "std          NaN                                                NaN   \n",
       "min          NaN                                                NaN   \n",
       "25%          NaN                                                NaN   \n",
       "50%          NaN                                                NaN   \n",
       "75%          NaN                                                NaN   \n",
       "max          NaN                                                NaN   \n",
       "\n",
       "           Salary_cln  \n",
       "count     4278.000000  \n",
       "unique            NaN  \n",
       "top               NaN  \n",
       "freq              NaN  \n",
       "mean     34890.379383  \n",
       "std      14105.751771  \n",
       "min      20000.000000  \n",
       "25%      25230.500000  \n",
       "50%      32070.750000  \n",
       "75%      40000.000000  \n",
       "max     250000.000000  "
      ]
     },
     "execution_count": 206,
     "metadata": {},
     "output_type": "execute_result"
    }
   ],
   "source": [
    "# drop non annual salaried rows\n",
    "df = df.dropna(how='any')\n",
    "df.describe(include='all')"
   ]
  },
  {
   "cell_type": "code",
   "execution_count": 207,
   "metadata": {},
   "outputs": [
    {
     "data": {
      "text/plain": [
       "27761.0     141\n",
       "34627.5     130\n",
       "35000.0     118\n",
       "40000.0     117\n",
       "25000.0      99\n",
       "           ... \n",
       "29197.5       1\n",
       "140000.0      1\n",
       "43212.0       1\n",
       "24024.0       1\n",
       "21348.0       1\n",
       "Name: Salary_cln, Length: 1245, dtype: int64"
      ]
     },
     "execution_count": 207,
     "metadata": {},
     "output_type": "execute_result"
    }
   ],
   "source": [
    "df[\"Salary_cln\"].value_counts()"
   ]
  },
  {
   "cell_type": "code",
   "execution_count": 208,
   "metadata": {
    "scrolled": true
   },
   "outputs": [
    {
     "data": {
      "text/plain": [
       "Job_Title     0\n",
       "Company       0\n",
       "Location      0\n",
       "City          0\n",
       "Link          0\n",
       "Salary_cln    0\n",
       "dtype: int64"
      ]
     },
     "execution_count": 208,
     "metadata": {},
     "output_type": "execute_result"
    }
   ],
   "source": [
    "df.isnull().sum()"
   ]
  },
  {
   "cell_type": "markdown",
   "metadata": {
    "focus": false,
    "id": "43e71edd-210e-42b1-9336-70a931f048af"
   },
   "source": [
    "### Export to a CSV file"
   ]
  },
  {
   "cell_type": "code",
   "execution_count": 209,
   "metadata": {
    "focus": false,
    "id": "783fd153-28ac-47ab-bfca-27e7c1de95b4"
   },
   "outputs": [],
   "source": [
    "# Cleaned df\n",
    "df.to_csv('UK_jobs_cln.csv')"
   ]
  }
 ],
 "metadata": {
  "kernelspec": {
   "display_name": "Python 3",
   "language": "python",
   "name": "python3"
  },
  "language_info": {
   "codemirror_mode": {
    "name": "ipython",
    "version": 3
   },
   "file_extension": ".py",
   "mimetype": "text/x-python",
   "name": "python",
   "nbconvert_exporter": "python",
   "pygments_lexer": "ipython3",
   "version": "3.8.2"
  },
  "toc": {
   "base_numbering": 1,
   "nav_menu": {},
   "number_sections": false,
   "sideBar": true,
   "skip_h1_title": true,
   "title_cell": "Table of Contents",
   "title_sidebar": "Contents",
   "toc_cell": false,
   "toc_position": {},
   "toc_section_display": "block",
   "toc_window_display": false
  }
 },
 "nbformat": 4,
 "nbformat_minor": 1
}